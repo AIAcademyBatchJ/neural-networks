{
 "cells": [
  {
   "cell_type": "code",
   "execution_count": 1,
   "id": "0cc2cca2",
   "metadata": {},
   "outputs": [],
   "source": [
    "from tensorflow import keras\n",
    "import pandas as pd\n",
    "import numpy as np\n",
    "import os\n",
    "import matplotlib.pyplot as plt\n",
    "%matplotlib inline"
   ]
  },
  {
   "cell_type": "markdown",
   "id": "33de6095",
   "metadata": {},
   "source": [
    "## Classification"
   ]
  },
  {
   "cell_type": "code",
   "execution_count": 3,
   "id": "50843d82",
   "metadata": {},
   "outputs": [],
   "source": [
    "train = pd.read_csv('fashion-mnist_train.csv')\n",
    "test = pd.read_csv('fashion-mnist_test.csv')"
   ]
  },
  {
   "cell_type": "code",
   "execution_count": 4,
   "id": "1b6b1324",
   "metadata": {},
   "outputs": [
    {
     "data": {
      "text/html": [
       "<div>\n",
       "<style scoped>\n",
       "    .dataframe tbody tr th:only-of-type {\n",
       "        vertical-align: middle;\n",
       "    }\n",
       "\n",
       "    .dataframe tbody tr th {\n",
       "        vertical-align: top;\n",
       "    }\n",
       "\n",
       "    .dataframe thead th {\n",
       "        text-align: right;\n",
       "    }\n",
       "</style>\n",
       "<table border=\"1\" class=\"dataframe\">\n",
       "  <thead>\n",
       "    <tr style=\"text-align: right;\">\n",
       "      <th></th>\n",
       "      <th>label</th>\n",
       "      <th>pixel1</th>\n",
       "      <th>pixel2</th>\n",
       "      <th>pixel3</th>\n",
       "      <th>pixel4</th>\n",
       "      <th>pixel5</th>\n",
       "      <th>pixel6</th>\n",
       "      <th>pixel7</th>\n",
       "      <th>pixel8</th>\n",
       "      <th>pixel9</th>\n",
       "      <th>...</th>\n",
       "      <th>pixel775</th>\n",
       "      <th>pixel776</th>\n",
       "      <th>pixel777</th>\n",
       "      <th>pixel778</th>\n",
       "      <th>pixel779</th>\n",
       "      <th>pixel780</th>\n",
       "      <th>pixel781</th>\n",
       "      <th>pixel782</th>\n",
       "      <th>pixel783</th>\n",
       "      <th>pixel784</th>\n",
       "    </tr>\n",
       "  </thead>\n",
       "  <tbody>\n",
       "    <tr>\n",
       "      <th>0</th>\n",
       "      <td>2</td>\n",
       "      <td>0</td>\n",
       "      <td>0</td>\n",
       "      <td>0</td>\n",
       "      <td>0</td>\n",
       "      <td>0</td>\n",
       "      <td>0</td>\n",
       "      <td>0</td>\n",
       "      <td>0</td>\n",
       "      <td>0</td>\n",
       "      <td>...</td>\n",
       "      <td>0</td>\n",
       "      <td>0</td>\n",
       "      <td>0</td>\n",
       "      <td>0</td>\n",
       "      <td>0</td>\n",
       "      <td>0</td>\n",
       "      <td>0</td>\n",
       "      <td>0</td>\n",
       "      <td>0</td>\n",
       "      <td>0</td>\n",
       "    </tr>\n",
       "    <tr>\n",
       "      <th>1</th>\n",
       "      <td>9</td>\n",
       "      <td>0</td>\n",
       "      <td>0</td>\n",
       "      <td>0</td>\n",
       "      <td>0</td>\n",
       "      <td>0</td>\n",
       "      <td>0</td>\n",
       "      <td>0</td>\n",
       "      <td>0</td>\n",
       "      <td>0</td>\n",
       "      <td>...</td>\n",
       "      <td>0</td>\n",
       "      <td>0</td>\n",
       "      <td>0</td>\n",
       "      <td>0</td>\n",
       "      <td>0</td>\n",
       "      <td>0</td>\n",
       "      <td>0</td>\n",
       "      <td>0</td>\n",
       "      <td>0</td>\n",
       "      <td>0</td>\n",
       "    </tr>\n",
       "    <tr>\n",
       "      <th>2</th>\n",
       "      <td>6</td>\n",
       "      <td>0</td>\n",
       "      <td>0</td>\n",
       "      <td>0</td>\n",
       "      <td>0</td>\n",
       "      <td>0</td>\n",
       "      <td>0</td>\n",
       "      <td>0</td>\n",
       "      <td>5</td>\n",
       "      <td>0</td>\n",
       "      <td>...</td>\n",
       "      <td>0</td>\n",
       "      <td>0</td>\n",
       "      <td>0</td>\n",
       "      <td>30</td>\n",
       "      <td>43</td>\n",
       "      <td>0</td>\n",
       "      <td>0</td>\n",
       "      <td>0</td>\n",
       "      <td>0</td>\n",
       "      <td>0</td>\n",
       "    </tr>\n",
       "    <tr>\n",
       "      <th>3</th>\n",
       "      <td>0</td>\n",
       "      <td>0</td>\n",
       "      <td>0</td>\n",
       "      <td>0</td>\n",
       "      <td>1</td>\n",
       "      <td>2</td>\n",
       "      <td>0</td>\n",
       "      <td>0</td>\n",
       "      <td>0</td>\n",
       "      <td>0</td>\n",
       "      <td>...</td>\n",
       "      <td>3</td>\n",
       "      <td>0</td>\n",
       "      <td>0</td>\n",
       "      <td>0</td>\n",
       "      <td>0</td>\n",
       "      <td>1</td>\n",
       "      <td>0</td>\n",
       "      <td>0</td>\n",
       "      <td>0</td>\n",
       "      <td>0</td>\n",
       "    </tr>\n",
       "    <tr>\n",
       "      <th>4</th>\n",
       "      <td>3</td>\n",
       "      <td>0</td>\n",
       "      <td>0</td>\n",
       "      <td>0</td>\n",
       "      <td>0</td>\n",
       "      <td>0</td>\n",
       "      <td>0</td>\n",
       "      <td>0</td>\n",
       "      <td>0</td>\n",
       "      <td>0</td>\n",
       "      <td>...</td>\n",
       "      <td>0</td>\n",
       "      <td>0</td>\n",
       "      <td>0</td>\n",
       "      <td>0</td>\n",
       "      <td>0</td>\n",
       "      <td>0</td>\n",
       "      <td>0</td>\n",
       "      <td>0</td>\n",
       "      <td>0</td>\n",
       "      <td>0</td>\n",
       "    </tr>\n",
       "  </tbody>\n",
       "</table>\n",
       "<p>5 rows × 785 columns</p>\n",
       "</div>"
      ],
      "text/plain": [
       "   label  pixel1  pixel2  pixel3  pixel4  pixel5  pixel6  pixel7  pixel8  \\\n",
       "0      2       0       0       0       0       0       0       0       0   \n",
       "1      9       0       0       0       0       0       0       0       0   \n",
       "2      6       0       0       0       0       0       0       0       5   \n",
       "3      0       0       0       0       1       2       0       0       0   \n",
       "4      3       0       0       0       0       0       0       0       0   \n",
       "\n",
       "   pixel9  ...  pixel775  pixel776  pixel777  pixel778  pixel779  pixel780  \\\n",
       "0       0  ...         0         0         0         0         0         0   \n",
       "1       0  ...         0         0         0         0         0         0   \n",
       "2       0  ...         0         0         0        30        43         0   \n",
       "3       0  ...         3         0         0         0         0         1   \n",
       "4       0  ...         0         0         0         0         0         0   \n",
       "\n",
       "   pixel781  pixel782  pixel783  pixel784  \n",
       "0         0         0         0         0  \n",
       "1         0         0         0         0  \n",
       "2         0         0         0         0  \n",
       "3         0         0         0         0  \n",
       "4         0         0         0         0  \n",
       "\n",
       "[5 rows x 785 columns]"
      ]
     },
     "execution_count": 4,
     "metadata": {},
     "output_type": "execute_result"
    }
   ],
   "source": [
    "train.head()"
   ]
  },
  {
   "cell_type": "code",
   "execution_count": 5,
   "id": "b7a79fdc",
   "metadata": {},
   "outputs": [
    {
     "data": {
      "text/html": [
       "<div>\n",
       "<style scoped>\n",
       "    .dataframe tbody tr th:only-of-type {\n",
       "        vertical-align: middle;\n",
       "    }\n",
       "\n",
       "    .dataframe tbody tr th {\n",
       "        vertical-align: top;\n",
       "    }\n",
       "\n",
       "    .dataframe thead th {\n",
       "        text-align: right;\n",
       "    }\n",
       "</style>\n",
       "<table border=\"1\" class=\"dataframe\">\n",
       "  <thead>\n",
       "    <tr style=\"text-align: right;\">\n",
       "      <th></th>\n",
       "      <th>label</th>\n",
       "      <th>pixel1</th>\n",
       "      <th>pixel2</th>\n",
       "      <th>pixel3</th>\n",
       "      <th>pixel4</th>\n",
       "      <th>pixel5</th>\n",
       "      <th>pixel6</th>\n",
       "      <th>pixel7</th>\n",
       "      <th>pixel8</th>\n",
       "      <th>pixel9</th>\n",
       "      <th>...</th>\n",
       "      <th>pixel775</th>\n",
       "      <th>pixel776</th>\n",
       "      <th>pixel777</th>\n",
       "      <th>pixel778</th>\n",
       "      <th>pixel779</th>\n",
       "      <th>pixel780</th>\n",
       "      <th>pixel781</th>\n",
       "      <th>pixel782</th>\n",
       "      <th>pixel783</th>\n",
       "      <th>pixel784</th>\n",
       "    </tr>\n",
       "  </thead>\n",
       "  <tbody>\n",
       "    <tr>\n",
       "      <th>0</th>\n",
       "      <td>0</td>\n",
       "      <td>0</td>\n",
       "      <td>0</td>\n",
       "      <td>0</td>\n",
       "      <td>0</td>\n",
       "      <td>0</td>\n",
       "      <td>0</td>\n",
       "      <td>0</td>\n",
       "      <td>9</td>\n",
       "      <td>8</td>\n",
       "      <td>...</td>\n",
       "      <td>103</td>\n",
       "      <td>87</td>\n",
       "      <td>56</td>\n",
       "      <td>0</td>\n",
       "      <td>0</td>\n",
       "      <td>0</td>\n",
       "      <td>0</td>\n",
       "      <td>0</td>\n",
       "      <td>0</td>\n",
       "      <td>0</td>\n",
       "    </tr>\n",
       "    <tr>\n",
       "      <th>1</th>\n",
       "      <td>1</td>\n",
       "      <td>0</td>\n",
       "      <td>0</td>\n",
       "      <td>0</td>\n",
       "      <td>0</td>\n",
       "      <td>0</td>\n",
       "      <td>0</td>\n",
       "      <td>0</td>\n",
       "      <td>0</td>\n",
       "      <td>0</td>\n",
       "      <td>...</td>\n",
       "      <td>34</td>\n",
       "      <td>0</td>\n",
       "      <td>0</td>\n",
       "      <td>0</td>\n",
       "      <td>0</td>\n",
       "      <td>0</td>\n",
       "      <td>0</td>\n",
       "      <td>0</td>\n",
       "      <td>0</td>\n",
       "      <td>0</td>\n",
       "    </tr>\n",
       "    <tr>\n",
       "      <th>2</th>\n",
       "      <td>2</td>\n",
       "      <td>0</td>\n",
       "      <td>0</td>\n",
       "      <td>0</td>\n",
       "      <td>0</td>\n",
       "      <td>0</td>\n",
       "      <td>0</td>\n",
       "      <td>14</td>\n",
       "      <td>53</td>\n",
       "      <td>99</td>\n",
       "      <td>...</td>\n",
       "      <td>0</td>\n",
       "      <td>0</td>\n",
       "      <td>0</td>\n",
       "      <td>0</td>\n",
       "      <td>63</td>\n",
       "      <td>53</td>\n",
       "      <td>31</td>\n",
       "      <td>0</td>\n",
       "      <td>0</td>\n",
       "      <td>0</td>\n",
       "    </tr>\n",
       "    <tr>\n",
       "      <th>3</th>\n",
       "      <td>2</td>\n",
       "      <td>0</td>\n",
       "      <td>0</td>\n",
       "      <td>0</td>\n",
       "      <td>0</td>\n",
       "      <td>0</td>\n",
       "      <td>0</td>\n",
       "      <td>0</td>\n",
       "      <td>0</td>\n",
       "      <td>0</td>\n",
       "      <td>...</td>\n",
       "      <td>137</td>\n",
       "      <td>126</td>\n",
       "      <td>140</td>\n",
       "      <td>0</td>\n",
       "      <td>133</td>\n",
       "      <td>224</td>\n",
       "      <td>222</td>\n",
       "      <td>56</td>\n",
       "      <td>0</td>\n",
       "      <td>0</td>\n",
       "    </tr>\n",
       "    <tr>\n",
       "      <th>4</th>\n",
       "      <td>3</td>\n",
       "      <td>0</td>\n",
       "      <td>0</td>\n",
       "      <td>0</td>\n",
       "      <td>0</td>\n",
       "      <td>0</td>\n",
       "      <td>0</td>\n",
       "      <td>0</td>\n",
       "      <td>0</td>\n",
       "      <td>0</td>\n",
       "      <td>...</td>\n",
       "      <td>0</td>\n",
       "      <td>0</td>\n",
       "      <td>0</td>\n",
       "      <td>0</td>\n",
       "      <td>0</td>\n",
       "      <td>0</td>\n",
       "      <td>0</td>\n",
       "      <td>0</td>\n",
       "      <td>0</td>\n",
       "      <td>0</td>\n",
       "    </tr>\n",
       "  </tbody>\n",
       "</table>\n",
       "<p>5 rows × 785 columns</p>\n",
       "</div>"
      ],
      "text/plain": [
       "   label  pixel1  pixel2  pixel3  pixel4  pixel5  pixel6  pixel7  pixel8  \\\n",
       "0      0       0       0       0       0       0       0       0       9   \n",
       "1      1       0       0       0       0       0       0       0       0   \n",
       "2      2       0       0       0       0       0       0      14      53   \n",
       "3      2       0       0       0       0       0       0       0       0   \n",
       "4      3       0       0       0       0       0       0       0       0   \n",
       "\n",
       "   pixel9  ...  pixel775  pixel776  pixel777  pixel778  pixel779  pixel780  \\\n",
       "0       8  ...       103        87        56         0         0         0   \n",
       "1       0  ...        34         0         0         0         0         0   \n",
       "2      99  ...         0         0         0         0        63        53   \n",
       "3       0  ...       137       126       140         0       133       224   \n",
       "4       0  ...         0         0         0         0         0         0   \n",
       "\n",
       "   pixel781  pixel782  pixel783  pixel784  \n",
       "0         0         0         0         0  \n",
       "1         0         0         0         0  \n",
       "2        31         0         0         0  \n",
       "3       222        56         0         0  \n",
       "4         0         0         0         0  \n",
       "\n",
       "[5 rows x 785 columns]"
      ]
     },
     "execution_count": 5,
     "metadata": {},
     "output_type": "execute_result"
    }
   ],
   "source": [
    "test.head()"
   ]
  },
  {
   "cell_type": "code",
   "execution_count": 6,
   "id": "0ccfcf56",
   "metadata": {},
   "outputs": [],
   "source": [
    "xtrain = train.drop('label', axis=1)\n",
    "ytrain = train['label']"
   ]
  },
  {
   "cell_type": "code",
   "execution_count": 7,
   "id": "879024f9",
   "metadata": {},
   "outputs": [],
   "source": [
    "xtest = test.drop('label', axis=1)\n",
    "ytest = test['label']"
   ]
  },
  {
   "cell_type": "code",
   "execution_count": 8,
   "id": "915ee351",
   "metadata": {},
   "outputs": [],
   "source": [
    "xtrain = xtrain/255.0\n",
    "xtest = xtest/255.0"
   ]
  },
  {
   "cell_type": "code",
   "execution_count": 9,
   "id": "58a1051e",
   "metadata": {},
   "outputs": [
    {
     "name": "stdout",
     "output_type": "stream",
     "text": [
      "(60000, 784)\n",
      "(10000, 784)\n",
      "(60000,)\n",
      "(10000,)\n"
     ]
    }
   ],
   "source": [
    "print(xtrain.shape)\n",
    "print(xtest.shape)\n",
    "print(ytrain.shape)\n",
    "print(ytest.shape)"
   ]
  },
  {
   "cell_type": "code",
   "execution_count": 10,
   "id": "abacfe74",
   "metadata": {},
   "outputs": [
    {
     "data": {
      "text/html": [
       "<div>\n",
       "<style scoped>\n",
       "    .dataframe tbody tr th:only-of-type {\n",
       "        vertical-align: middle;\n",
       "    }\n",
       "\n",
       "    .dataframe tbody tr th {\n",
       "        vertical-align: top;\n",
       "    }\n",
       "\n",
       "    .dataframe thead th {\n",
       "        text-align: right;\n",
       "    }\n",
       "</style>\n",
       "<table border=\"1\" class=\"dataframe\">\n",
       "  <thead>\n",
       "    <tr style=\"text-align: right;\">\n",
       "      <th></th>\n",
       "      <th>pixel1</th>\n",
       "      <th>pixel2</th>\n",
       "      <th>pixel3</th>\n",
       "      <th>pixel4</th>\n",
       "      <th>pixel5</th>\n",
       "      <th>pixel6</th>\n",
       "      <th>pixel7</th>\n",
       "      <th>pixel8</th>\n",
       "      <th>pixel9</th>\n",
       "      <th>pixel10</th>\n",
       "      <th>...</th>\n",
       "      <th>pixel775</th>\n",
       "      <th>pixel776</th>\n",
       "      <th>pixel777</th>\n",
       "      <th>pixel778</th>\n",
       "      <th>pixel779</th>\n",
       "      <th>pixel780</th>\n",
       "      <th>pixel781</th>\n",
       "      <th>pixel782</th>\n",
       "      <th>pixel783</th>\n",
       "      <th>pixel784</th>\n",
       "    </tr>\n",
       "  </thead>\n",
       "  <tbody>\n",
       "    <tr>\n",
       "      <th>0</th>\n",
       "      <td>0.0</td>\n",
       "      <td>0.0</td>\n",
       "      <td>0.0</td>\n",
       "      <td>0.000000</td>\n",
       "      <td>0.000000</td>\n",
       "      <td>0.0</td>\n",
       "      <td>0.0</td>\n",
       "      <td>0.000000</td>\n",
       "      <td>0.0</td>\n",
       "      <td>0.0</td>\n",
       "      <td>...</td>\n",
       "      <td>0.000000</td>\n",
       "      <td>0.0</td>\n",
       "      <td>0.0</td>\n",
       "      <td>0.000000</td>\n",
       "      <td>0.000000</td>\n",
       "      <td>0.000000</td>\n",
       "      <td>0.0</td>\n",
       "      <td>0.0</td>\n",
       "      <td>0.0</td>\n",
       "      <td>0.0</td>\n",
       "    </tr>\n",
       "    <tr>\n",
       "      <th>1</th>\n",
       "      <td>0.0</td>\n",
       "      <td>0.0</td>\n",
       "      <td>0.0</td>\n",
       "      <td>0.000000</td>\n",
       "      <td>0.000000</td>\n",
       "      <td>0.0</td>\n",
       "      <td>0.0</td>\n",
       "      <td>0.000000</td>\n",
       "      <td>0.0</td>\n",
       "      <td>0.0</td>\n",
       "      <td>...</td>\n",
       "      <td>0.000000</td>\n",
       "      <td>0.0</td>\n",
       "      <td>0.0</td>\n",
       "      <td>0.000000</td>\n",
       "      <td>0.000000</td>\n",
       "      <td>0.000000</td>\n",
       "      <td>0.0</td>\n",
       "      <td>0.0</td>\n",
       "      <td>0.0</td>\n",
       "      <td>0.0</td>\n",
       "    </tr>\n",
       "    <tr>\n",
       "      <th>2</th>\n",
       "      <td>0.0</td>\n",
       "      <td>0.0</td>\n",
       "      <td>0.0</td>\n",
       "      <td>0.000000</td>\n",
       "      <td>0.000000</td>\n",
       "      <td>0.0</td>\n",
       "      <td>0.0</td>\n",
       "      <td>0.019608</td>\n",
       "      <td>0.0</td>\n",
       "      <td>0.0</td>\n",
       "      <td>...</td>\n",
       "      <td>0.000000</td>\n",
       "      <td>0.0</td>\n",
       "      <td>0.0</td>\n",
       "      <td>0.117647</td>\n",
       "      <td>0.168627</td>\n",
       "      <td>0.000000</td>\n",
       "      <td>0.0</td>\n",
       "      <td>0.0</td>\n",
       "      <td>0.0</td>\n",
       "      <td>0.0</td>\n",
       "    </tr>\n",
       "    <tr>\n",
       "      <th>3</th>\n",
       "      <td>0.0</td>\n",
       "      <td>0.0</td>\n",
       "      <td>0.0</td>\n",
       "      <td>0.003922</td>\n",
       "      <td>0.007843</td>\n",
       "      <td>0.0</td>\n",
       "      <td>0.0</td>\n",
       "      <td>0.000000</td>\n",
       "      <td>0.0</td>\n",
       "      <td>0.0</td>\n",
       "      <td>...</td>\n",
       "      <td>0.011765</td>\n",
       "      <td>0.0</td>\n",
       "      <td>0.0</td>\n",
       "      <td>0.000000</td>\n",
       "      <td>0.000000</td>\n",
       "      <td>0.003922</td>\n",
       "      <td>0.0</td>\n",
       "      <td>0.0</td>\n",
       "      <td>0.0</td>\n",
       "      <td>0.0</td>\n",
       "    </tr>\n",
       "    <tr>\n",
       "      <th>4</th>\n",
       "      <td>0.0</td>\n",
       "      <td>0.0</td>\n",
       "      <td>0.0</td>\n",
       "      <td>0.000000</td>\n",
       "      <td>0.000000</td>\n",
       "      <td>0.0</td>\n",
       "      <td>0.0</td>\n",
       "      <td>0.000000</td>\n",
       "      <td>0.0</td>\n",
       "      <td>0.0</td>\n",
       "      <td>...</td>\n",
       "      <td>0.000000</td>\n",
       "      <td>0.0</td>\n",
       "      <td>0.0</td>\n",
       "      <td>0.000000</td>\n",
       "      <td>0.000000</td>\n",
       "      <td>0.000000</td>\n",
       "      <td>0.0</td>\n",
       "      <td>0.0</td>\n",
       "      <td>0.0</td>\n",
       "      <td>0.0</td>\n",
       "    </tr>\n",
       "  </tbody>\n",
       "</table>\n",
       "<p>5 rows × 784 columns</p>\n",
       "</div>"
      ],
      "text/plain": [
       "   pixel1  pixel2  pixel3    pixel4    pixel5  pixel6  pixel7    pixel8  \\\n",
       "0     0.0     0.0     0.0  0.000000  0.000000     0.0     0.0  0.000000   \n",
       "1     0.0     0.0     0.0  0.000000  0.000000     0.0     0.0  0.000000   \n",
       "2     0.0     0.0     0.0  0.000000  0.000000     0.0     0.0  0.019608   \n",
       "3     0.0     0.0     0.0  0.003922  0.007843     0.0     0.0  0.000000   \n",
       "4     0.0     0.0     0.0  0.000000  0.000000     0.0     0.0  0.000000   \n",
       "\n",
       "   pixel9  pixel10  ...  pixel775  pixel776  pixel777  pixel778  pixel779  \\\n",
       "0     0.0      0.0  ...  0.000000       0.0       0.0  0.000000  0.000000   \n",
       "1     0.0      0.0  ...  0.000000       0.0       0.0  0.000000  0.000000   \n",
       "2     0.0      0.0  ...  0.000000       0.0       0.0  0.117647  0.168627   \n",
       "3     0.0      0.0  ...  0.011765       0.0       0.0  0.000000  0.000000   \n",
       "4     0.0      0.0  ...  0.000000       0.0       0.0  0.000000  0.000000   \n",
       "\n",
       "   pixel780  pixel781  pixel782  pixel783  pixel784  \n",
       "0  0.000000       0.0       0.0       0.0       0.0  \n",
       "1  0.000000       0.0       0.0       0.0       0.0  \n",
       "2  0.000000       0.0       0.0       0.0       0.0  \n",
       "3  0.003922       0.0       0.0       0.0       0.0  \n",
       "4  0.000000       0.0       0.0       0.0       0.0  \n",
       "\n",
       "[5 rows x 784 columns]"
      ]
     },
     "execution_count": 10,
     "metadata": {},
     "output_type": "execute_result"
    }
   ],
   "source": [
    "xtrain.head()"
   ]
  },
  {
   "cell_type": "code",
   "execution_count": 11,
   "id": "7911947d",
   "metadata": {},
   "outputs": [
    {
     "data": {
      "text/plain": [
       "0    2\n",
       "1    9\n",
       "2    6\n",
       "3    0\n",
       "4    3\n",
       "Name: label, dtype: int64"
      ]
     },
     "execution_count": 11,
     "metadata": {},
     "output_type": "execute_result"
    }
   ],
   "source": [
    "ytrain.head()"
   ]
  },
  {
   "cell_type": "markdown",
   "id": "464d470c",
   "metadata": {},
   "source": [
    "Labels\n",
    "\n",
    "Each training and test example is assigned to one of the following labels:\n",
    "\n",
    "0 T-shirt/top\n",
    "\n",
    "1 Trouser\n",
    "\n",
    "2 Pullover\n",
    "\n",
    "3 Dress\n",
    "\n",
    "4 Coat\n",
    "\n",
    "5 Sandal\n",
    "\n",
    "6 Shirt\n",
    "\n",
    "7 Sneaker\n",
    "\n",
    "8 Bag\n",
    "\n",
    "9 Ankle boot"
   ]
  },
  {
   "cell_type": "code",
   "execution_count": 20,
   "id": "901c495e",
   "metadata": {},
   "outputs": [
    {
     "data": {
      "text/plain": [
       "<matplotlib.image.AxesImage at 0x254f8cdef10>"
      ]
     },
     "execution_count": 20,
     "metadata": {},
     "output_type": "execute_result"
    },
    {
     "data": {
      "image/png": "[encoded data removed]",
      "text/plain": [
       "<Figure size 432x288 with 1 Axes>"
      ]
     },
     "metadata": {
      "needs_background": "light"
     },
     "output_type": "display_data"
    }
   ],
   "source": [
    "plt.imshow(np.array(xtrain.loc[0]).reshape(28,28), cmap='gray')"
   ]
  },
  {
   "cell_type": "code",
   "execution_count": 21,
   "id": "21c9d6a3",
   "metadata": {},
   "outputs": [],
   "source": [
    "label_dict = {0: 'T-shirt/top',\n",
    "              1: 'Trouser',\n",
    "              2: 'Pullover',\n",
    "              3: 'Dress',\n",
    "              4: 'Coat',\n",
    "              5: 'Sandal',\n",
    "              6: 'Shirt',\n",
    "              7: 'Sneaker',\n",
    "              8: 'Bag',\n",
    "              9: 'Ankle boot'}"
   ]
  },
  {
   "cell_type": "code",
   "execution_count": 22,
   "id": "8480f449",
   "metadata": {},
   "outputs": [],
   "source": [
    "x = np.array(xtrain)\n",
    "y = keras.utils.to_categorical(np.array(ytrain),10)"
   ]
  },
  {
   "cell_type": "code",
   "execution_count": 25,
   "id": "cbc2dfbd",
   "metadata": {
    "scrolled": true
   },
   "outputs": [
    {
     "data": {
      "text/html": [
       "<div>\n",
       "<style scoped>\n",
       "    .dataframe tbody tr th:only-of-type {\n",
       "        vertical-align: middle;\n",
       "    }\n",
       "\n",
       "    .dataframe tbody tr th {\n",
       "        vertical-align: top;\n",
       "    }\n",
       "\n",
       "    .dataframe thead th {\n",
       "        text-align: right;\n",
       "    }\n",
       "</style>\n",
       "<table border=\"1\" class=\"dataframe\">\n",
       "  <thead>\n",
       "    <tr style=\"text-align: right;\">\n",
       "      <th></th>\n",
       "      <th>0</th>\n",
       "      <th>1</th>\n",
       "      <th>2</th>\n",
       "      <th>3</th>\n",
       "      <th>4</th>\n",
       "      <th>5</th>\n",
       "      <th>6</th>\n",
       "      <th>7</th>\n",
       "      <th>8</th>\n",
       "      <th>9</th>\n",
       "    </tr>\n",
       "  </thead>\n",
       "  <tbody>\n",
       "    <tr>\n",
       "      <th>0</th>\n",
       "      <td>0.0</td>\n",
       "      <td>0.0</td>\n",
       "      <td>1.0</td>\n",
       "      <td>0.0</td>\n",
       "      <td>0.0</td>\n",
       "      <td>0.0</td>\n",
       "      <td>0.0</td>\n",
       "      <td>0.0</td>\n",
       "      <td>0.0</td>\n",
       "      <td>0.0</td>\n",
       "    </tr>\n",
       "    <tr>\n",
       "      <th>1</th>\n",
       "      <td>0.0</td>\n",
       "      <td>0.0</td>\n",
       "      <td>0.0</td>\n",
       "      <td>0.0</td>\n",
       "      <td>0.0</td>\n",
       "      <td>0.0</td>\n",
       "      <td>0.0</td>\n",
       "      <td>0.0</td>\n",
       "      <td>0.0</td>\n",
       "      <td>1.0</td>\n",
       "    </tr>\n",
       "    <tr>\n",
       "      <th>2</th>\n",
       "      <td>0.0</td>\n",
       "      <td>0.0</td>\n",
       "      <td>0.0</td>\n",
       "      <td>0.0</td>\n",
       "      <td>0.0</td>\n",
       "      <td>0.0</td>\n",
       "      <td>1.0</td>\n",
       "      <td>0.0</td>\n",
       "      <td>0.0</td>\n",
       "      <td>0.0</td>\n",
       "    </tr>\n",
       "    <tr>\n",
       "      <th>3</th>\n",
       "      <td>1.0</td>\n",
       "      <td>0.0</td>\n",
       "      <td>0.0</td>\n",
       "      <td>0.0</td>\n",
       "      <td>0.0</td>\n",
       "      <td>0.0</td>\n",
       "      <td>0.0</td>\n",
       "      <td>0.0</td>\n",
       "      <td>0.0</td>\n",
       "      <td>0.0</td>\n",
       "    </tr>\n",
       "    <tr>\n",
       "      <th>4</th>\n",
       "      <td>0.0</td>\n",
       "      <td>0.0</td>\n",
       "      <td>0.0</td>\n",
       "      <td>1.0</td>\n",
       "      <td>0.0</td>\n",
       "      <td>0.0</td>\n",
       "      <td>0.0</td>\n",
       "      <td>0.0</td>\n",
       "      <td>0.0</td>\n",
       "      <td>0.0</td>\n",
       "    </tr>\n",
       "  </tbody>\n",
       "</table>\n",
       "</div>"
      ],
      "text/plain": [
       "     0    1    2    3    4    5    6    7    8    9\n",
       "0  0.0  0.0  1.0  0.0  0.0  0.0  0.0  0.0  0.0  0.0\n",
       "1  0.0  0.0  0.0  0.0  0.0  0.0  0.0  0.0  0.0  1.0\n",
       "2  0.0  0.0  0.0  0.0  0.0  0.0  1.0  0.0  0.0  0.0\n",
       "3  1.0  0.0  0.0  0.0  0.0  0.0  0.0  0.0  0.0  0.0\n",
       "4  0.0  0.0  0.0  1.0  0.0  0.0  0.0  0.0  0.0  0.0"
      ]
     },
     "execution_count": 25,
     "metadata": {},
     "output_type": "execute_result"
    }
   ],
   "source": [
    "pd.DataFrame(y).head()"
   ]
  },
  {
   "cell_type": "code",
   "execution_count": 27,
   "id": "9c2060fb",
   "metadata": {},
   "outputs": [],
   "source": [
    "from keras.models import Sequential\n",
    "from keras.layers import Dense, Activation"
   ]
  },
  {
   "cell_type": "code",
   "execution_count": 28,
   "id": "57521c84",
   "metadata": {},
   "outputs": [],
   "source": [
    "model = Sequential()"
   ]
  },
  {
   "cell_type": "code",
   "execution_count": 29,
   "id": "a5040f6a",
   "metadata": {},
   "outputs": [],
   "source": [
    "model.add(Dense(units=24, input_dim=784)) # first and only hidden layer; 24 neurons; input dims as 784 from shape of x matrix\n",
    "model.add(Activation('sigmoid')) # to my hidden layer adding a sigmoid activation function\n",
    "model.add(Dense(units=10)) # output layers; as many neurons as classes\n",
    "model.add(Activation('softmax')) # classification problem; activation fn of output layer"
   ]
  },
  {
   "cell_type": "code",
   "execution_count": 30,
   "id": "7e3ede5d",
   "metadata": {},
   "outputs": [],
   "source": [
    "model.compile(loss='categorical_crossentropy', optimizer='sgd', metrics=['accuracy'])"
   ]
  },
  {
   "cell_type": "code",
   "execution_count": 31,
   "id": "dececf71",
   "metadata": {},
   "outputs": [
    {
     "name": "stdout",
     "output_type": "stream",
     "text": [
      "Epoch 1/10\n",
      "48/48 [==============================] - 1s 7ms/step - loss: 2.2701 - accuracy: 0.1680 - val_loss: 2.2120 - val_accuracy: 0.3178\n",
      "Epoch 2/10\n",
      "48/48 [==============================] - 0s 4ms/step - loss: 2.1705 - accuracy: 0.3733 - val_loss: 2.1261 - val_accuracy: 0.4168\n",
      "Epoch 3/10\n",
      "48/48 [==============================] - 0s 4ms/step - loss: 2.0913 - accuracy: 0.4426 - val_loss: 2.0523 - val_accuracy: 0.4674\n",
      "Epoch 4/10\n",
      "48/48 [==============================] - 0s 5ms/step - loss: 2.0218 - accuracy: 0.4751 - val_loss: 1.9869 - val_accuracy: 0.4909\n",
      "Epoch 5/10\n",
      "48/48 [==============================] - 0s 4ms/step - loss: 1.9597 - accuracy: 0.4920 - val_loss: 1.9283 - val_accuracy: 0.5082\n",
      "Epoch 6/10\n",
      "48/48 [==============================] - 0s 4ms/step - loss: 1.9039 - accuracy: 0.5053 - val_loss: 1.8753 - val_accuracy: 0.5189\n",
      "Epoch 7/10\n",
      "48/48 [==============================] - 0s 4ms/step - loss: 1.8532 - accuracy: 0.5174 - val_loss: 1.8269 - val_accuracy: 0.5338\n",
      "Epoch 8/10\n",
      "48/48 [==============================] - 0s 4ms/step - loss: 1.8066 - accuracy: 0.5404 - val_loss: 1.7822 - val_accuracy: 0.5532\n",
      "Epoch 9/10\n",
      "48/48 [==============================] - 0s 4ms/step - loss: 1.7635 - accuracy: 0.5580 - val_loss: 1.7407 - val_accuracy: 0.5724\n",
      "Epoch 10/10\n",
      "48/48 [==============================] - 0s 4ms/step - loss: 1.7233 - accuracy: 0.5768 - val_loss: 1.7019 - val_accuracy: 0.5898\n"
     ]
    }
   ],
   "source": [
    "history = model.fit(x, y, epochs=10, batch_size=1000, validation_split=0.20)"
   ]
  },
  {
   "cell_type": "code",
   "execution_count": 48,
   "id": "4eda937a",
   "metadata": {},
   "outputs": [
    {
     "name": "stdout",
     "output_type": "stream",
     "text": [
      "[[0.08056754 0.06594986 0.07647324 0.06225822 0.0598115  0.13962822\n",
      "  0.07657529 0.13352992 0.1167197  0.18848647]]\n"
     ]
    }
   ],
   "source": [
    "p = model.predict(np.array(xtest.loc[15]).reshape(1,784))\n",
    "print(p)"
   ]
  },
  {
   "cell_type": "code",
   "execution_count": 49,
   "id": "a515b3c9",
   "metadata": {},
   "outputs": [],
   "source": [
    "m = np.argmax(p)"
   ]
  },
  {
   "cell_type": "code",
   "execution_count": 50,
   "id": "47133640",
   "metadata": {},
   "outputs": [
    {
     "data": {
      "text/plain": [
       "'Ankle boot'"
      ]
     },
     "execution_count": 50,
     "metadata": {},
     "output_type": "execute_result"
    }
   ],
   "source": [
    "label_dict[m]"
   ]
  },
  {
   "cell_type": "code",
   "execution_count": 52,
   "id": "d21dc512",
   "metadata": {},
   "outputs": [
    {
     "data": {
      "text/plain": [
       "<matplotlib.image.AxesImage at 0x254fa2262b0>"
      ]
     },
     "execution_count": 52,
     "metadata": {},
     "output_type": "execute_result"
    },
    {
     "data": {
      "image/png": "[encoded data removed]",
      "text/plain": [
       "<Figure size 432x288 with 1 Axes>"
      ]
     },
     "metadata": {
      "needs_background": "light"
     },
     "output_type": "display_data"
    }
   ],
   "source": [
    "plt.imshow(np.array(xtest.loc[15]).reshape(28,28), cmap='gray')"
   ]
  },
  {
   "cell_type": "code",
   "execution_count": 111,
   "id": "3d1bdebe",
   "metadata": {},
   "outputs": [],
   "source": [
    "model1 = Sequential()"
   ]
  },
  {
   "cell_type": "code",
   "execution_count": 112,
   "id": "1f4386f1",
   "metadata": {},
   "outputs": [],
   "source": [
    "model1.add(Dense(units=200, input_dim=784)) \n",
    "model1.add(Activation('tanh'))\n",
    "model1.add(Dense(units=100))\n",
    "model1.add(Activation('tanh'))\n",
    "model1.add(Dense(units=50))\n",
    "model1.add(Activation('sigmoid'))\n",
    "model1.add(Dense(units=10)) \n",
    "model1.add(Activation('softmax'))"
   ]
  },
  {
   "cell_type": "code",
   "execution_count": 113,
   "id": "55bc8e25",
   "metadata": {},
   "outputs": [],
   "source": [
    "model1.compile(loss='categorical_crossentropy', optimizer='adam', metrics=['accuracy'])"
   ]
  },
  {
   "cell_type": "code",
   "execution_count": 114,
   "id": "e6a456e8",
   "metadata": {
    "scrolled": true
   },
   "outputs": [
    {
     "name": "stdout",
     "output_type": "stream",
     "text": [
      "Epoch 1/20\n",
      "48/48 [==============================] - 1s 14ms/step - loss: 1.4233 - accuracy: 0.5755 - val_loss: 0.9676 - val_accuracy: 0.7358\n",
      "Epoch 2/20\n",
      "48/48 [==============================] - 1s 11ms/step - loss: 0.7855 - accuracy: 0.7852 - val_loss: 0.6470 - val_accuracy: 0.8172\n",
      "Epoch 3/20\n",
      "48/48 [==============================] - 1s 12ms/step - loss: 0.5737 - accuracy: 0.8304 - val_loss: 0.5278 - val_accuracy: 0.8346\n",
      "Epoch 4/20\n",
      "48/48 [==============================] - 1s 13ms/step - loss: 0.4835 - accuracy: 0.8474 - val_loss: 0.4686 - val_accuracy: 0.8499\n",
      "Epoch 5/20\n",
      "48/48 [==============================] - 1s 11ms/step - loss: 0.4313 - accuracy: 0.8614 - val_loss: 0.4277 - val_accuracy: 0.8598\n",
      "Epoch 6/20\n",
      "48/48 [==============================] - 1s 12ms/step - loss: 0.4046 - accuracy: 0.8657 - val_loss: 0.4153 - val_accuracy: 0.8594\n",
      "Epoch 7/20\n",
      "48/48 [==============================] - 1s 12ms/step - loss: 0.3770 - accuracy: 0.8744 - val_loss: 0.3883 - val_accuracy: 0.8677\n",
      "Epoch 8/20\n",
      "48/48 [==============================] - 1s 12ms/step - loss: 0.3570 - accuracy: 0.8806 - val_loss: 0.3743 - val_accuracy: 0.8726\n",
      "Epoch 9/20\n",
      "48/48 [==============================] - 1s 13ms/step - loss: 0.3456 - accuracy: 0.8829 - val_loss: 0.3687 - val_accuracy: 0.8727\n",
      "Epoch 10/20\n",
      "48/48 [==============================] - 1s 13ms/step - loss: 0.3324 - accuracy: 0.8867 - val_loss: 0.3639 - val_accuracy: 0.8740\n",
      "Epoch 11/20\n",
      "48/48 [==============================] - 1s 13ms/step - loss: 0.3190 - accuracy: 0.8920 - val_loss: 0.3584 - val_accuracy: 0.8743\n",
      "Epoch 12/20\n",
      "48/48 [==============================] - 1s 12ms/step - loss: 0.3130 - accuracy: 0.8928 - val_loss: 0.3550 - val_accuracy: 0.8733\n",
      "Epoch 13/20\n",
      "48/48 [==============================] - 1s 13ms/step - loss: 0.3057 - accuracy: 0.8946 - val_loss: 0.3457 - val_accuracy: 0.8775\n",
      "Epoch 14/20\n",
      "48/48 [==============================] - 1s 12ms/step - loss: 0.2964 - accuracy: 0.8967 - val_loss: 0.3430 - val_accuracy: 0.8781\n",
      "Epoch 15/20\n",
      "48/48 [==============================] - 1s 13ms/step - loss: 0.2871 - accuracy: 0.9010 - val_loss: 0.3326 - val_accuracy: 0.8823\n",
      "Epoch 16/20\n",
      "48/48 [==============================] - 1s 13ms/step - loss: 0.2803 - accuracy: 0.9028 - val_loss: 0.3416 - val_accuracy: 0.8783\n",
      "Epoch 17/20\n",
      "48/48 [==============================] - 1s 13ms/step - loss: 0.2720 - accuracy: 0.9059 - val_loss: 0.3281 - val_accuracy: 0.8841\n",
      "Epoch 18/20\n",
      "48/48 [==============================] - 1s 11ms/step - loss: 0.2701 - accuracy: 0.9039 - val_loss: 0.3318 - val_accuracy: 0.8806\n",
      "Epoch 19/20\n",
      "48/48 [==============================] - 1s 11ms/step - loss: 0.2625 - accuracy: 0.9085 - val_loss: 0.3196 - val_accuracy: 0.8852\n",
      "Epoch 20/20\n",
      "48/48 [==============================] - 1s 11ms/step - loss: 0.2548 - accuracy: 0.9093 - val_loss: 0.3188 - val_accuracy: 0.8857\n"
     ]
    }
   ],
   "source": [
    "history1 = model1.fit(x, y, epochs=20, batch_size=1000, validation_split=0.20)"
   ]
  },
  {
   "cell_type": "code",
   "execution_count": 115,
   "id": "a801d570",
   "metadata": {},
   "outputs": [
    {
     "data": {
      "text/plain": [
       "<matplotlib.legend.Legend at 0x254fa34a040>"
      ]
     },
     "execution_count": 115,
     "metadata": {},
     "output_type": "execute_result"
    },
    {
     "data": {
      "image/png": "[encoded data removed]",
      "text/plain": [
       "<Figure size 432x288 with 1 Axes>"
      ]
     },
     "metadata": {
      "needs_background": "light"
     },
     "output_type": "display_data"
    }
   ],
   "source": [
    "plt.plot(history1.history['loss'])\n",
    "plt.plot(history1.history['val_loss'])\n",
    "plt.title('model loss')\n",
    "plt.xlabel('epoch')\n",
    "plt.ylabel('loss')\n",
    "plt.legend(['train','validation'], loc='upper left')"
   ]
  },
  {
   "cell_type": "code",
   "execution_count": 126,
   "id": "0a1ce75c",
   "metadata": {},
   "outputs": [
    {
     "data": {
      "text/plain": [
       "<matplotlib.legend.Legend at 0x254fb5d2760>"
      ]
     },
     "execution_count": 126,
     "metadata": {},
     "output_type": "execute_result"
    },
    {
     "data": {
      "image/png": "[encoded data removed]",
      "text/plain": [
       "<Figure size 432x288 with 1 Axes>"
      ]
     },
     "metadata": {
      "needs_background": "light"
     },
     "output_type": "display_data"
    }
   ],
   "source": [
    "plt.plot(history1.history['accuracy'])\n",
    "plt.plot(history1.history['val_accuracy'])\n",
    "plt.title('model accuracy')\n",
    "plt.xlabel('epoch')\n",
    "plt.ylabel('loss')\n",
    "plt.legend(['train','validation'], loc='upper left')"
   ]
  },
  {
   "cell_type": "code",
   "execution_count": 118,
   "id": "beb1d2e7",
   "metadata": {},
   "outputs": [],
   "source": [
    "preds = model1.predict(np.array(xtest))"
   ]
  },
  {
   "cell_type": "code",
   "execution_count": 119,
   "id": "2055d470",
   "metadata": {},
   "outputs": [
    {
     "data": {
      "text/plain": [
       "array([[7.8837317e-01, 6.8252638e-04, 5.2365186e-03, ..., 1.1875187e-04,\n",
       "        1.1788906e-03, 1.8551247e-04],\n",
       "       [6.3783553e-04, 9.9587232e-01, 8.5343642e-04, ..., 2.9462940e-04,\n",
       "        3.0496409e-05, 2.9138825e-04],\n",
       "       [2.1406170e-02, 2.0155045e-03, 7.7272284e-01, ..., 5.2429241e-04,\n",
       "        1.2293895e-03, 2.5845270e-04],\n",
       "       ...,\n",
       "       [9.7756521e-05, 3.5118421e-05, 1.8403018e-04, ..., 2.3442184e-04,\n",
       "        9.9772769e-01, 8.4371182e-05],\n",
       "       [3.2871652e-02, 2.4280178e-04, 4.9165930e-03, ..., 1.7494711e-03,\n",
       "        8.6632532e-01, 7.6874392e-04],\n",
       "       [4.0812329e-03, 8.5170227e-01, 7.6303937e-02, ..., 7.2535040e-04,\n",
       "        1.4921341e-03, 2.4725345e-03]], dtype=float32)"
      ]
     },
     "execution_count": 119,
     "metadata": {},
     "output_type": "execute_result"
    }
   ],
   "source": [
    "preds"
   ]
  },
  {
   "cell_type": "code",
   "execution_count": 120,
   "id": "ffe43d29",
   "metadata": {},
   "outputs": [
    {
     "data": {
      "text/plain": [
       "(10000, 10)"
      ]
     },
     "execution_count": 120,
     "metadata": {},
     "output_type": "execute_result"
    }
   ],
   "source": [
    "preds.shape"
   ]
  },
  {
   "cell_type": "code",
   "execution_count": 121,
   "id": "ffa96c7a",
   "metadata": {},
   "outputs": [],
   "source": [
    "pred_classes = np.argmax(preds, axis=1)"
   ]
  },
  {
   "cell_type": "code",
   "execution_count": 122,
   "id": "d03e494e",
   "metadata": {},
   "outputs": [
    {
     "data": {
      "text/plain": [
       "array([0, 1, 2, ..., 8, 8, 1], dtype=int64)"
      ]
     },
     "execution_count": 122,
     "metadata": {},
     "output_type": "execute_result"
    }
   ],
   "source": [
    "pred_classes"
   ]
  },
  {
   "cell_type": "code",
   "execution_count": 123,
   "id": "d34e5388",
   "metadata": {},
   "outputs": [
    {
     "data": {
      "text/plain": [
       "(10000,)"
      ]
     },
     "execution_count": 123,
     "metadata": {},
     "output_type": "execute_result"
    }
   ],
   "source": [
    "pred_classes.shape"
   ]
  },
  {
   "cell_type": "code",
   "execution_count": 124,
   "id": "e9cc379d",
   "metadata": {},
   "outputs": [],
   "source": [
    "from sklearn.metrics import accuracy_score"
   ]
  },
  {
   "cell_type": "code",
   "execution_count": 125,
   "id": "cc2b08d9",
   "metadata": {},
   "outputs": [
    {
     "data": {
      "text/plain": [
       "0.8879"
      ]
     },
     "execution_count": 125,
     "metadata": {},
     "output_type": "execute_result"
    }
   ],
   "source": [
    "accuracy_score(ytest, pred_classes)"
   ]
  },
  {
   "cell_type": "code",
   "execution_count": null,
   "id": "a0ee0f4e",
   "metadata": {},
   "outputs": [],
   "source": []
  },
  {
   "cell_type": "code",
   "execution_count": 127,
   "id": "7facb0c8",
   "metadata": {},
   "outputs": [],
   "source": [
    "from keras.regularizers import l1, l2"
   ]
  },
  {
   "cell_type": "code",
   "execution_count": 129,
   "id": "4734b62a",
   "metadata": {},
   "outputs": [],
   "source": [
    "from keras.layers import Dropout"
   ]
  },
  {
   "cell_type": "code",
   "execution_count": 155,
   "id": "6d1086f3",
   "metadata": {},
   "outputs": [],
   "source": [
    "model2 = Sequential()"
   ]
  },
  {
   "cell_type": "code",
   "execution_count": 156,
   "id": "40b34587",
   "metadata": {},
   "outputs": [],
   "source": [
    "model2.add(Dense(units=200, input_dim=784, kernel_regularizer=l1(0.001)))  \n",
    "model2.add(Activation('tanh'))\n",
    "model2.add(Dense(units=100))\n",
    "model2.add(Activation('tanh'))\n",
    "model2.add(Dropout(0.2, seed=42))\n",
    "model2.add(Dense(units=50))\n",
    "model2.add(Activation('sigmoid'))\n",
    "model2.add(Dense(units=10)) \n",
    "model2.add(Activation('softmax'))"
   ]
  },
  {
   "cell_type": "code",
   "execution_count": 157,
   "id": "6c167a86",
   "metadata": {},
   "outputs": [],
   "source": [
    "model2.compile(loss='categorical_crossentropy', optimizer='adam', metrics=['accuracy'])"
   ]
  },
  {
   "cell_type": "code",
   "execution_count": 158,
   "id": "364365f7",
   "metadata": {
    "scrolled": true
   },
   "outputs": [
    {
     "name": "stdout",
     "output_type": "stream",
     "text": [
      "Epoch 1/20\n",
      "48/48 [==============================] - 1s 12ms/step - loss: 5.3555 - accuracy: 0.5493 - val_loss: 2.8358 - val_accuracy: 0.7143\n",
      "Epoch 2/20\n",
      "48/48 [==============================] - 0s 10ms/step - loss: 1.7316 - accuracy: 0.7427 - val_loss: 1.1667 - val_accuracy: 0.7566\n",
      "Epoch 3/20\n",
      "48/48 [==============================] - 0s 10ms/step - loss: 1.0093 - accuracy: 0.7685 - val_loss: 0.9055 - val_accuracy: 0.7784\n",
      "Epoch 4/20\n",
      "48/48 [==============================] - 0s 10ms/step - loss: 0.8572 - accuracy: 0.7874 - val_loss: 0.8286 - val_accuracy: 0.7873\n",
      "Epoch 5/20\n",
      "48/48 [==============================] - 1s 11ms/step - loss: 0.7910 - accuracy: 0.7958 - val_loss: 0.7570 - val_accuracy: 0.8022\n",
      "Epoch 6/20\n",
      "48/48 [==============================] - 1s 11ms/step - loss: 0.7307 - accuracy: 0.8091 - val_loss: 0.7319 - val_accuracy: 0.8064\n",
      "Epoch 7/20\n",
      "48/48 [==============================] - 0s 10ms/step - loss: 0.7096 - accuracy: 0.8101 - val_loss: 0.7012 - val_accuracy: 0.8159\n",
      "Epoch 8/20\n",
      "48/48 [==============================] - 1s 11ms/step - loss: 0.6758 - accuracy: 0.8174 - val_loss: 0.7041 - val_accuracy: 0.8116\n",
      "Epoch 9/20\n",
      "48/48 [==============================] - 1s 12ms/step - loss: 0.6588 - accuracy: 0.8200 - val_loss: 0.6542 - val_accuracy: 0.8196\n",
      "Epoch 10/20\n",
      "48/48 [==============================] - 1s 11ms/step - loss: 0.6376 - accuracy: 0.8239 - val_loss: 0.6470 - val_accuracy: 0.8169\n",
      "Epoch 11/20\n",
      "48/48 [==============================] - 1s 11ms/step - loss: 0.6279 - accuracy: 0.8256 - val_loss: 0.6362 - val_accuracy: 0.8234\n",
      "Epoch 12/20\n",
      "48/48 [==============================] - 1s 12ms/step - loss: 0.6173 - accuracy: 0.8258 - val_loss: 0.6481 - val_accuracy: 0.8160\n",
      "Epoch 13/20\n",
      "48/48 [==============================] - 1s 12ms/step - loss: 0.6021 - accuracy: 0.8317 - val_loss: 0.6164 - val_accuracy: 0.8257\n",
      "Epoch 14/20\n",
      "48/48 [==============================] - 1s 12ms/step - loss: 0.5917 - accuracy: 0.8323 - val_loss: 0.5908 - val_accuracy: 0.8345\n",
      "Epoch 15/20\n",
      "48/48 [==============================] - 1s 12ms/step - loss: 0.5776 - accuracy: 0.8385 - val_loss: 0.5951 - val_accuracy: 0.8284\n",
      "Epoch 16/20\n",
      "48/48 [==============================] - 1s 11ms/step - loss: 0.5709 - accuracy: 0.8382 - val_loss: 0.5753 - val_accuracy: 0.8371\n",
      "Epoch 17/20\n",
      "48/48 [==============================] - 1s 12ms/step - loss: 0.5614 - accuracy: 0.8420 - val_loss: 0.5769 - val_accuracy: 0.8367\n",
      "Epoch 18/20\n",
      "48/48 [==============================] - 1s 12ms/step - loss: 0.5570 - accuracy: 0.8420 - val_loss: 0.5794 - val_accuracy: 0.8350\n",
      "Epoch 19/20\n",
      "48/48 [==============================] - 1s 12ms/step - loss: 0.5595 - accuracy: 0.8401 - val_loss: 0.5833 - val_accuracy: 0.8323\n",
      "Epoch 20/20\n",
      "48/48 [==============================] - 1s 12ms/step - loss: 0.5561 - accuracy: 0.8407 - val_loss: 0.5624 - val_accuracy: 0.8413\n"
     ]
    }
   ],
   "source": [
    "history2 = model2.fit(x, y, epochs=20, batch_size=1000, validation_split=0.20)"
   ]
  },
  {
   "cell_type": "code",
   "execution_count": 159,
   "id": "b06a3266",
   "metadata": {},
   "outputs": [
    {
     "data": {
      "text/plain": [
       "<matplotlib.legend.Legend at 0x255163366a0>"
      ]
     },
     "execution_count": 159,
     "metadata": {},
     "output_type": "execute_result"
    },
    {
     "data": {
      "image/png": "[encoded data removed]",
      "text/plain": [
       "<Figure size 432x288 with 1 Axes>"
      ]
     },
     "metadata": {
      "needs_background": "light"
     },
     "output_type": "display_data"
    }
   ],
   "source": [
    "plt.plot(history2.history['loss'])\n",
    "plt.plot(history2.history['val_loss'])\n",
    "plt.title('model loss')\n",
    "plt.xlabel('epoch')\n",
    "plt.ylabel('loss')\n",
    "plt.legend(['train','validation'], loc='upper left')"
   ]
  },
  {
   "cell_type": "code",
   "execution_count": 160,
   "id": "3d90a22c",
   "metadata": {},
   "outputs": [
    {
     "data": {
      "text/plain": [
       "<matplotlib.legend.Legend at 0x2551648d340>"
      ]
     },
     "execution_count": 160,
     "metadata": {},
     "output_type": "execute_result"
    },
    {
     "data": {
      "image/png": "[encoded data removed]",
      "text/plain": [
       "<Figure size 432x288 with 1 Axes>"
      ]
     },
     "metadata": {
      "needs_background": "light"
     },
     "output_type": "display_data"
    }
   ],
   "source": [
    "plt.plot(history2.history['accuracy'])\n",
    "plt.plot(history2.history['val_accuracy'])\n",
    "plt.title('model accuracy')\n",
    "plt.xlabel('epoch')\n",
    "plt.ylabel('loss')\n",
    "plt.legend(['train','validation'], loc='upper left')"
   ]
  },
  {
   "cell_type": "code",
   "execution_count": 161,
   "id": "c9431561",
   "metadata": {},
   "outputs": [],
   "source": [
    "preds = model2.predict(np.array(xtest))"
   ]
  },
  {
   "cell_type": "code",
   "execution_count": 162,
   "id": "7aca4503",
   "metadata": {},
   "outputs": [],
   "source": [
    "pred_classes = np.argmax(preds, axis=1)"
   ]
  },
  {
   "cell_type": "code",
   "execution_count": 163,
   "id": "efb08add",
   "metadata": {},
   "outputs": [
    {
     "data": {
      "text/plain": [
       "0.8452"
      ]
     },
     "execution_count": 163,
     "metadata": {},
     "output_type": "execute_result"
    }
   ],
   "source": [
    "accuracy_score(ytest, pred_classes)"
   ]
  },
  {
   "cell_type": "code",
   "execution_count": null,
   "id": "806bc0de",
   "metadata": {},
   "outputs": [],
   "source": []
  },
  {
   "cell_type": "code",
   "execution_count": 164,
   "id": "7e2393d9",
   "metadata": {},
   "outputs": [],
   "source": [
    "from keras.wrappers.scikit_learn import KerasClassifier"
   ]
  },
  {
   "cell_type": "code",
   "execution_count": 185,
   "id": "8dee6d37",
   "metadata": {},
   "outputs": [],
   "source": [
    "from sklearn.model_selection import GridSearchCV"
   ]
  },
  {
   "cell_type": "code",
   "execution_count": 192,
   "id": "b2083ada",
   "metadata": {},
   "outputs": [],
   "source": [
    "def create_model(opt='adam',neurons=[200,100,50]):\n",
    "    model = Sequential()\n",
    "    model.add(Dense(units=neurons[0], input_dim=784, kernel_regularizer=l1(0.001)))  \n",
    "    model.add(Activation('tanh'))\n",
    "    model.add(Dense(units=neurons[1]))\n",
    "    model.add(Activation('tanh'))\n",
    "    model.add(Dropout(0.2, seed=42))\n",
    "    model.add(Dense(units=neurons[2]))\n",
    "    model.add(Activation('sigmoid'))\n",
    "    model.add(Dense(units=10)) \n",
    "    model.add(Activation('softmax'))\n",
    "    model.compile(loss='categorical_crossentropy', optimizer=opt, metrics=['accuracy'])\n",
    "    \n",
    "    return model"
   ]
  },
  {
   "cell_type": "code",
   "execution_count": 193,
   "id": "add3b434",
   "metadata": {},
   "outputs": [],
   "source": [
    "model = KerasClassifier(build_fn=create_model, verbose=2, epochs=10) # mention batch_size if not hyperparameter tuning"
   ]
  },
  {
   "cell_type": "code",
   "execution_count": 194,
   "id": "92595818",
   "metadata": {},
   "outputs": [],
   "source": [
    "param_grid = {'batch_size':[500,1000],\n",
    "             'opt':['sgd','adam'],\n",
    "             'neurons':[[200,100,50],[150,75,30]]\n",
    "             }"
   ]
  },
  {
   "cell_type": "code",
   "execution_count": 195,
   "id": "3d86953a",
   "metadata": {},
   "outputs": [],
   "source": [
    "grid = GridSearchCV(estimator=model, param_grid=param_grid)"
   ]
  },
  {
   "cell_type": "code",
   "execution_count": 196,
   "id": "5a6368ce",
   "metadata": {},
   "outputs": [
    {
     "name": "stdout",
     "output_type": "stream",
     "text": [
      "Epoch 1/10\n",
      "96/96 [==============================] - 1s 7ms/step - loss: 8.2281 - accuracy: 0.2866\n",
      "Epoch 2/10\n",
      "96/96 [==============================] - 1s 7ms/step - loss: 7.8369 - accuracy: 0.4919\n",
      "Epoch 3/10\n",
      "96/96 [==============================] - 1s 8ms/step - loss: 7.5110 - accuracy: 0.5484\n",
      "Epoch 4/10\n",
      "96/96 [==============================] - 1s 8ms/step - loss: 7.2298 - accuracy: 0.5725\n",
      "Epoch 5/10\n",
      "96/96 [==============================] - 1s 8ms/step - loss: 6.9773 - accuracy: 0.5907\n",
      "Epoch 6/10\n",
      "96/96 [==============================] - 1s 8ms/step - loss: 6.7448 - accuracy: 0.6062\n",
      "Epoch 7/10\n",
      "96/96 [==============================] - 1s 8ms/step - loss: 6.5271 - accuracy: 0.6189\n",
      "Epoch 8/10\n",
      "96/96 [==============================] - 1s 8ms/step - loss: 6.3237 - accuracy: 0.6351\n",
      "Epoch 9/10\n",
      "96/96 [==============================] - 1s 9ms/step - loss: 6.1315 - accuracy: 0.6492\n",
      "Epoch 10/10\n",
      "96/96 [==============================] - 1s 9ms/step - loss: 5.9494 - accuracy: 0.6590\n",
      "24/24 [==============================] - 0s 5ms/step - loss: 5.8433 - accuracy: 0.6704\n",
      "Epoch 1/10\n",
      "96/96 [==============================] - 1s 8ms/step - loss: 8.3557 - accuracy: 0.2101\n",
      "Epoch 2/10\n",
      "96/96 [==============================] - 1s 8ms/step - loss: 7.9322 - accuracy: 0.3819\n",
      "Epoch 3/10\n",
      "96/96 [==============================] - 1s 8ms/step - loss: 7.6047 - accuracy: 0.5101\n",
      "Epoch 4/10\n",
      "96/96 [==============================] - 1s 8ms/step - loss: 7.3134 - accuracy: 0.5698\n",
      "Epoch 5/10\n",
      "96/96 [==============================] - 1s 9ms/step - loss: 7.0482 - accuracy: 0.5993\n",
      "Epoch 6/10\n",
      "96/96 [==============================] - 1s 9ms/step - loss: 6.8063 - accuracy: 0.6211\n",
      "Epoch 7/10\n",
      "96/96 [==============================] - 1s 9ms/step - loss: 6.5838 - accuracy: 0.6361\n",
      "Epoch 8/10\n",
      "96/96 [==============================] - 1s 9ms/step - loss: 6.3762 - accuracy: 0.6487\n",
      "Epoch 9/10\n",
      "96/96 [==============================] - 1s 9ms/step - loss: 6.1799 - accuracy: 0.6616\n",
      "Epoch 10/10\n",
      "96/96 [==============================] - 1s 9ms/step - loss: 5.9946 - accuracy: 0.6690\n",
      "24/24 [==============================] - 0s 5ms/step - loss: 5.8892 - accuracy: 0.6745\n",
      "Epoch 1/10\n",
      "96/96 [==============================] - 1s 10ms/step - loss: 8.3141 - accuracy: 0.1837\n",
      "Epoch 2/10\n",
      "96/96 [==============================] - 1s 10ms/step - loss: 7.9160 - accuracy: 0.4922\n",
      "Epoch 3/10\n",
      "96/96 [==============================] - 1s 11ms/step - loss: 7.5866 - accuracy: 0.5694\n",
      "Epoch 4/10\n",
      "96/96 [==============================] - 1s 10ms/step - loss: 7.2901 - accuracy: 0.5752\n",
      "Epoch 5/10\n",
      "96/96 [==============================] - 1s 11ms/step - loss: 7.0227 - accuracy: 0.5880\n",
      "Epoch 6/10\n",
      "96/96 [==============================] - 1s 10ms/step - loss: 6.7791 - accuracy: 0.6085\n",
      "Epoch 7/10\n",
      "96/96 [==============================] - 1s 10ms/step - loss: 6.5551 - accuracy: 0.6231\n",
      "Epoch 8/10\n",
      "96/96 [==============================] - 1s 11ms/step - loss: 6.3462 - accuracy: 0.6420\n",
      "Epoch 9/10\n",
      "96/96 [==============================] - 1s 10ms/step - loss: 6.1493 - accuracy: 0.6616\n",
      "Epoch 10/10\n",
      "96/96 [==============================] - 1s 10ms/step - loss: 5.9633 - accuracy: 0.6700\n",
      "24/24 [==============================] - 0s 5ms/step - loss: 5.8633 - accuracy: 0.6857\n",
      "Epoch 1/10\n",
      "96/96 [==============================] - 1s 9ms/step - loss: 8.2485 - accuracy: 0.1915\n",
      "Epoch 2/10\n",
      "96/96 [==============================] - 1s 9ms/step - loss: 7.8421 - accuracy: 0.5078\n",
      "Epoch 3/10\n",
      "96/96 [==============================] - 1s 10ms/step - loss: 7.5123 - accuracy: 0.5884\n",
      "Epoch 4/10\n",
      "96/96 [==============================] - 1s 11ms/step - loss: 7.2243 - accuracy: 0.6081\n",
      "Epoch 5/10\n",
      "96/96 [==============================] - 1s 10ms/step - loss: 6.9643 - accuracy: 0.6224\n",
      "Epoch 6/10\n",
      "96/96 [==============================] - 1s 11ms/step - loss: 6.7264 - accuracy: 0.6350\n",
      "Epoch 7/10\n",
      "96/96 [==============================] - 1s 11ms/step - loss: 6.5054 - accuracy: 0.6471\n",
      "Epoch 8/10\n",
      "96/96 [==============================] - 1s 11ms/step - loss: 6.2989 - accuracy: 0.6545\n",
      "Epoch 9/10\n",
      "96/96 [==============================] - 1s 13ms/step - loss: 6.1039 - accuracy: 0.6611\n",
      "Epoch 10/10\n",
      "96/96 [==============================] - 1s 12ms/step - loss: 5.9203 - accuracy: 0.6671 1s\n",
      "24/24 [==============================] - 0s 6ms/step - loss: 5.8201 - accuracy: 0.6675\n",
      "Epoch 1/10\n",
      "96/96 [==============================] - 2s 11ms/step - loss: 8.2807 - accuracy: 0.2468 0s - loss:\n",
      "Epoch 2/10\n",
      "96/96 [==============================] - 1s 13ms/step - loss: 7.8691 - accuracy: 0.4773 0s - loss: 7.8708 - accuracy: 0.47\n",
      "Epoch 3/10\n",
      "96/96 [==============================] - 1s 13ms/step - loss: 7.5398 - accuracy: 0.5307\n",
      "Epoch 4/10\n",
      "96/96 [==============================] - 1s 12ms/step - loss: 7.2522 - accuracy: 0.5640\n",
      "Epoch 5/10\n",
      "96/96 [==============================] - 1s 13ms/step - loss: 6.9963 - accuracy: 0.5834\n",
      "Epoch 6/10\n",
      "96/96 [==============================] - 1s 11ms/step - loss: 6.7633 - accuracy: 0.6094\n",
      "Epoch 7/10\n",
      "96/96 [==============================] - 1s 12ms/step - loss: 6.5464 - accuracy: 0.6256\n",
      "Epoch 8/10\n",
      "96/96 [==============================] - 1s 13ms/step - loss: 6.3425 - accuracy: 0.6375\n",
      "Epoch 9/10\n",
      "96/96 [==============================] - 1s 13ms/step - loss: 6.1492 - accuracy: 0.6542\n",
      "Epoch 10/10\n",
      "96/96 [==============================] - 1s 13ms/step - loss: 5.9658 - accuracy: 0.6671\n",
      "24/24 [==============================] - 0s 6ms/step - loss: 5.8610 - accuracy: 0.6801\n",
      "Epoch 1/10\n",
      "96/96 [==============================] - 2s 14ms/step - loss: 3.5446 - accuracy: 0.6611\n",
      "Epoch 2/10\n",
      "96/96 [==============================] - 1s 14ms/step - loss: 1.0022 - accuracy: 0.7580\n",
      "Epoch 3/10\n",
      "96/96 [==============================] - 1s 14ms/step - loss: 0.8202 - accuracy: 0.7877\n",
      "Epoch 4/10\n",
      "96/96 [==============================] - 1s 13ms/step - loss: 0.7398 - accuracy: 0.8027\n",
      "Epoch 5/10\n",
      "96/96 [==============================] - 1s 13ms/step - loss: 0.7018 - accuracy: 0.8120\n",
      "Epoch 6/10\n",
      "96/96 [==============================] - 1s 13ms/step - loss: 0.6738 - accuracy: 0.8151\n",
      "Epoch 7/10\n",
      "96/96 [==============================] - 1s 13ms/step - loss: 0.6478 - accuracy: 0.8240\n",
      "Epoch 8/10\n",
      "96/96 [==============================] - 1s 13ms/step - loss: 0.6252 - accuracy: 0.8287\n",
      "Epoch 9/10\n",
      "96/96 [==============================] - 1s 13ms/step - loss: 0.6196 - accuracy: 0.8280\n",
      "Epoch 10/10\n",
      "96/96 [==============================] - 1s 12ms/step - loss: 0.6049 - accuracy: 0.8306\n",
      "24/24 [==============================] - 0s 5ms/step - loss: 0.5899 - accuracy: 0.8270\n",
      "Epoch 1/10\n",
      "96/96 [==============================] - 2s 12ms/step - loss: 3.6663 - accuracy: 0.6346\n",
      "Epoch 2/10\n",
      "96/96 [==============================] - 1s 15ms/step - loss: 0.9955 - accuracy: 0.7707\n",
      "Epoch 3/10\n",
      "96/96 [==============================] - 1s 14ms/step - loss: 0.8085 - accuracy: 0.7968\n",
      "Epoch 4/10\n",
      "96/96 [==============================] - 1s 14ms/step - loss: 0.7303 - accuracy: 0.8076\n",
      "Epoch 5/10\n",
      "96/96 [==============================] - 1s 13ms/step - loss: 0.6957 - accuracy: 0.8135\n",
      "Epoch 6/10\n",
      "96/96 [==============================] - 1s 15ms/step - loss: 0.6630 - accuracy: 0.8231\n",
      "Epoch 7/10\n",
      "96/96 [==============================] - 1s 13ms/step - loss: 0.6493 - accuracy: 0.8209\n",
      "Epoch 8/10\n",
      "96/96 [==============================] - 1s 14ms/step - loss: 0.6323 - accuracy: 0.8256\n",
      "Epoch 9/10\n",
      "96/96 [==============================] - 1s 14ms/step - loss: 0.6023 - accuracy: 0.8328 0s - loss: 0.5\n",
      "Epoch 10/10\n",
      "96/96 [==============================] - 1s 12ms/step - loss: 0.6074 - accuracy: 0.8296\n",
      "24/24 [==============================] - 0s 5ms/step - loss: 0.6565 - accuracy: 0.8028\n",
      "Epoch 1/10\n",
      "96/96 [==============================] - 2s 11ms/step - loss: 3.7887 - accuracy: 0.6112\n",
      "Epoch 2/10\n",
      "96/96 [==============================] - 1s 14ms/step - loss: 1.0368 - accuracy: 0.7633\n",
      "Epoch 3/10\n",
      "96/96 [==============================] - 1s 14ms/step - loss: 0.8298 - accuracy: 0.7874\n",
      "Epoch 4/10\n",
      "96/96 [==============================] - 1s 14ms/step - loss: 0.7548 - accuracy: 0.8006 0s - los\n",
      "Epoch 5/10\n",
      "96/96 [==============================] - 1s 13ms/step - loss: 0.7023 - accuracy: 0.8093\n",
      "Epoch 6/10\n",
      "96/96 [==============================] - 1s 13ms/step - loss: 0.6895 - accuracy: 0.8105\n",
      "Epoch 7/10\n"
     ]
    },
    {
     "name": "stdout",
     "output_type": "stream",
     "text": [
      "96/96 [==============================] - 1s 13ms/step - loss: 0.6554 - accuracy: 0.8189\n",
      "Epoch 8/10\n",
      "96/96 [==============================] - 1s 11ms/step - loss: 0.6284 - accuracy: 0.8256\n",
      "Epoch 9/10\n",
      "96/96 [==============================] - 1s 10ms/step - loss: 0.6231 - accuracy: 0.8249\n",
      "Epoch 10/10\n",
      "96/96 [==============================] - 1s 10ms/step - loss: 0.6245 - accuracy: 0.8245\n",
      "24/24 [==============================] - 0s 5ms/step - loss: 0.5829 - accuracy: 0.8409\n",
      "Epoch 1/10\n",
      "96/96 [==============================] - 1s 9ms/step - loss: 3.5832 - accuracy: 0.6511\n",
      "Epoch 2/10\n",
      "96/96 [==============================] - 1s 10ms/step - loss: 0.9826 - accuracy: 0.7699\n",
      "Epoch 3/10\n",
      "96/96 [==============================] - 1s 10ms/step - loss: 0.8114 - accuracy: 0.7914\n",
      "Epoch 4/10\n",
      "96/96 [==============================] - 1s 10ms/step - loss: 0.7335 - accuracy: 0.8053\n",
      "Epoch 5/10\n",
      "96/96 [==============================] - 1s 11ms/step - loss: 0.6936 - accuracy: 0.8114\n",
      "Epoch 6/10\n",
      "96/96 [==============================] - 1s 11ms/step - loss: 0.6663 - accuracy: 0.8171\n",
      "Epoch 7/10\n",
      "96/96 [==============================] - 1s 11ms/step - loss: 0.6493 - accuracy: 0.8189\n",
      "Epoch 8/10\n",
      "96/96 [==============================] - 1s 11ms/step - loss: 0.6306 - accuracy: 0.8242\n",
      "Epoch 9/10\n",
      "96/96 [==============================] - 1s 11ms/step - loss: 0.6113 - accuracy: 0.8279\n",
      "Epoch 10/10\n",
      "96/96 [==============================] - 1s 11ms/step - loss: 0.6017 - accuracy: 0.8303\n",
      "24/24 [==============================] - 0s 5ms/step - loss: 0.6083 - accuracy: 0.8258\n",
      "Epoch 1/10\n",
      "96/96 [==============================] - 1s 9ms/step - loss: 3.5095 - accuracy: 0.6430\n",
      "Epoch 2/10\n",
      "96/96 [==============================] - 1s 10ms/step - loss: 0.9866 - accuracy: 0.7612\n",
      "Epoch 3/10\n",
      "96/96 [==============================] - 1s 10ms/step - loss: 0.8155 - accuracy: 0.7883\n",
      "Epoch 4/10\n",
      "96/96 [==============================] - 1s 10ms/step - loss: 0.7381 - accuracy: 0.8049\n",
      "Epoch 5/10\n",
      "96/96 [==============================] - 1s 10ms/step - loss: 0.6918 - accuracy: 0.8139\n",
      "Epoch 6/10\n",
      "96/96 [==============================] - 1s 10ms/step - loss: 0.6660 - accuracy: 0.8202\n",
      "Epoch 7/10\n",
      "96/96 [==============================] - 1s 10ms/step - loss: 0.6471 - accuracy: 0.8218\n",
      "Epoch 8/10\n",
      "96/96 [==============================] - 1s 10ms/step - loss: 0.6239 - accuracy: 0.8299\n",
      "Epoch 9/10\n",
      "96/96 [==============================] - 1s 10ms/step - loss: 0.6186 - accuracy: 0.8283\n",
      "Epoch 10/10\n",
      "96/96 [==============================] - 1s 11ms/step - loss: 0.5970 - accuracy: 0.8327\n",
      "24/24 [==============================] - 0s 6ms/step - loss: 0.6175 - accuracy: 0.8228\n",
      "Epoch 1/10\n",
      "96/96 [==============================] - 1s 7ms/step - loss: 6.9040 - accuracy: 0.2168\n",
      "Epoch 2/10\n",
      "96/96 [==============================] - 1s 8ms/step - loss: 6.5898 - accuracy: 0.4552\n",
      "Epoch 3/10\n",
      "96/96 [==============================] - 1s 9ms/step - loss: 6.3232 - accuracy: 0.5332\n",
      "Epoch 4/10\n",
      "96/96 [==============================] - 1s 9ms/step - loss: 6.0826 - accuracy: 0.5727\n",
      "Epoch 5/10\n",
      "96/96 [==============================] - 1s 8ms/step - loss: 5.8626 - accuracy: 0.6016\n",
      "Epoch 6/10\n",
      "96/96 [==============================] - 1s 8ms/step - loss: 5.6606 - accuracy: 0.6177\n",
      "Epoch 7/10\n",
      "96/96 [==============================] - 1s 9ms/step - loss: 5.4727 - accuracy: 0.6341\n",
      "Epoch 8/10\n",
      "96/96 [==============================] - 1s 9ms/step - loss: 5.2970 - accuracy: 0.6445\n",
      "Epoch 9/10\n",
      "96/96 [==============================] - 1s 8ms/step - loss: 5.1312 - accuracy: 0.6562\n",
      "Epoch 10/10\n",
      "96/96 [==============================] - 1s 8ms/step - loss: 4.9743 - accuracy: 0.6657\n",
      "24/24 [==============================] - 0s 4ms/step - loss: 4.8786 - accuracy: 0.6761\n",
      "Epoch 1/10\n",
      "96/96 [==============================] - 1s 9ms/step - loss: 6.9630 - accuracy: 0.1926\n",
      "Epoch 2/10\n",
      "96/96 [==============================] - 1s 10ms/step - loss: 6.7023 - accuracy: 0.3998\n",
      "Epoch 3/10\n",
      "96/96 [==============================] - 1s 9ms/step - loss: 6.4708 - accuracy: 0.4773\n",
      "Epoch 4/10\n",
      "96/96 [==============================] - 1s 10ms/step - loss: 6.2422 - accuracy: 0.5221\n",
      "Epoch 5/10\n",
      "96/96 [==============================] - 1s 9ms/step - loss: 6.0258 - accuracy: 0.5562\n",
      "Epoch 6/10\n",
      "96/96 [==============================] - 1s 10ms/step - loss: 5.8208 - accuracy: 0.5787\n",
      "Epoch 7/10\n",
      "96/96 [==============================] - 1s 10ms/step - loss: 5.6291 - accuracy: 0.5955\n",
      "Epoch 8/10\n",
      "96/96 [==============================] - 1s 10ms/step - loss: 5.4484 - accuracy: 0.6099\n",
      "Epoch 9/10\n",
      "96/96 [==============================] - 1s 10ms/step - loss: 5.2783 - accuracy: 0.6202\n",
      "Epoch 10/10\n",
      "96/96 [==============================] - 1s 9ms/step - loss: 5.1153 - accuracy: 0.6312\n",
      "24/24 [==============================] - 0s 4ms/step - loss: 5.0238 - accuracy: 0.6382\n",
      "Epoch 1/10\n",
      "96/96 [==============================] - 1s 8ms/step - loss: 6.9803 - accuracy: 0.1809\n",
      "Epoch 2/10\n",
      "96/96 [==============================] - 1s 10ms/step - loss: 6.6668 - accuracy: 0.3336\n",
      "Epoch 3/10\n",
      "96/96 [==============================] - 1s 9ms/step - loss: 6.4015 - accuracy: 0.4094\n",
      "Epoch 4/10\n",
      "96/96 [==============================] - 1s 10ms/step - loss: 6.1622 - accuracy: 0.4875\n",
      "Epoch 5/10\n",
      "96/96 [==============================] - 1s 10ms/step - loss: 5.9453 - accuracy: 0.5620\n",
      "Epoch 6/10\n",
      "96/96 [==============================] - 1s 9ms/step - loss: 5.7489 - accuracy: 0.5950\n",
      "Epoch 7/10\n",
      "96/96 [==============================] - 1s 10ms/step - loss: 5.5678 - accuracy: 0.6119\n",
      "Epoch 8/10\n",
      "96/96 [==============================] - 1s 9ms/step - loss: 5.3980 - accuracy: 0.6236\n",
      "Epoch 9/10\n",
      "96/96 [==============================] - 1s 9ms/step - loss: 5.2370 - accuracy: 0.6351\n",
      "Epoch 10/10\n",
      "96/96 [==============================] - 1s 10ms/step - loss: 5.0846 - accuracy: 0.6413\n",
      "24/24 [==============================] - 0s 4ms/step - loss: 4.9994 - accuracy: 0.6503\n",
      "Epoch 1/10\n",
      "96/96 [==============================] - 1s 10ms/step - loss: 6.9570 - accuracy: 0.1403\n",
      "Epoch 2/10\n",
      "96/96 [==============================] - 1s 12ms/step - loss: 6.6339 - accuracy: 0.3608\n",
      "Epoch 3/10\n",
      "96/96 [==============================] - 1s 13ms/step - loss: 6.3582 - accuracy: 0.4657\n",
      "Epoch 4/10\n",
      "96/96 [==============================] - 1s 12ms/step - loss: 6.1163 - accuracy: 0.5100\n",
      "Epoch 5/10\n",
      "96/96 [==============================] - 1s 12ms/step - loss: 5.9009 - accuracy: 0.5415\n",
      "Epoch 6/10\n",
      "96/96 [==============================] - 1s 9ms/step - loss: 5.7037 - accuracy: 0.5660\n",
      "Epoch 7/10\n",
      "96/96 [==============================] - 1s 9ms/step - loss: 5.5196 - accuracy: 0.5947\n",
      "Epoch 8/10\n",
      "96/96 [==============================] - 1s 10ms/step - loss: 5.3473 - accuracy: 0.6132\n",
      "Epoch 9/10\n",
      "96/96 [==============================] - 1s 9ms/step - loss: 5.1835 - accuracy: 0.6278\n",
      "Epoch 10/10\n",
      "96/96 [==============================] - 1s 10ms/step - loss: 5.0292 - accuracy: 0.6407\n",
      "24/24 [==============================] - 0s 4ms/step - loss: 4.9414 - accuracy: 0.6474\n",
      "Epoch 1/10\n",
      "96/96 [==============================] - 1s 8ms/step - loss: 6.9342 - accuracy: 0.2054\n",
      "Epoch 2/10\n",
      "96/96 [==============================] - 1s 9ms/step - loss: 6.6121 - accuracy: 0.4235\n",
      "Epoch 3/10\n",
      "96/96 [==============================] - 1s 9ms/step - loss: 6.3554 - accuracy: 0.5389\n",
      "Epoch 4/10\n",
      "96/96 [==============================] - 1s 10ms/step - loss: 6.1202 - accuracy: 0.5868\n",
      "Epoch 5/10\n",
      "96/96 [==============================] - 1s 9ms/step - loss: 5.9025 - accuracy: 0.6097\n",
      "Epoch 6/10\n",
      "96/96 [==============================] - 1s 10ms/step - loss: 5.6976 - accuracy: 0.6267\n",
      "Epoch 7/10\n",
      "96/96 [==============================] - 1s 10ms/step - loss: 5.5056 - accuracy: 0.6386\n",
      "Epoch 8/10\n",
      "96/96 [==============================] - 1s 10ms/step - loss: 5.3256 - accuracy: 0.6517\n",
      "Epoch 9/10\n",
      "96/96 [==============================] - 1s 10ms/step - loss: 5.1550 - accuracy: 0.6645\n",
      "Epoch 10/10\n",
      "96/96 [==============================] - 1s 9ms/step - loss: 4.9933 - accuracy: 0.6700\n",
      "24/24 [==============================] - 0s 4ms/step - loss: 4.8969 - accuracy: 0.6842\n",
      "Epoch 1/10\n",
      "96/96 [==============================] - 1s 8ms/step - loss: 3.3383 - accuracy: 0.5512\n",
      "Epoch 2/10\n",
      "96/96 [==============================] - 1s 9ms/step - loss: 1.1987 - accuracy: 0.7039\n",
      "Epoch 3/10\n"
     ]
    },
    {
     "name": "stdout",
     "output_type": "stream",
     "text": [
      "96/96 [==============================] - 1s 9ms/step - loss: 0.9586 - accuracy: 0.7561\n",
      "Epoch 4/10\n",
      "96/96 [==============================] - 1s 9ms/step - loss: 0.8352 - accuracy: 0.7771\n",
      "Epoch 5/10\n",
      "96/96 [==============================] - 1s 8ms/step - loss: 0.7613 - accuracy: 0.7926\n",
      "Epoch 6/10\n",
      "96/96 [==============================] - 1s 8ms/step - loss: 0.7236 - accuracy: 0.8029\n",
      "Epoch 7/10\n",
      "96/96 [==============================] - 1s 8ms/step - loss: 0.6813 - accuracy: 0.8141\n",
      "Epoch 8/10\n",
      "96/96 [==============================] - 1s 9ms/step - loss: 0.6720 - accuracy: 0.8168\n",
      "Epoch 9/10\n",
      "96/96 [==============================] - 1s 8ms/step - loss: 0.6371 - accuracy: 0.8243\n",
      "Epoch 10/10\n",
      "96/96 [==============================] - 1s 8ms/step - loss: 0.6314 - accuracy: 0.8235\n",
      "24/24 [==============================] - 0s 4ms/step - loss: 0.6064 - accuracy: 0.8322\n",
      "Epoch 1/10\n",
      "96/96 [==============================] - 1s 7ms/step - loss: 3.3409 - accuracy: 0.5610\n",
      "Epoch 2/10\n",
      "96/96 [==============================] - 1s 9ms/step - loss: 1.1319 - accuracy: 0.7420\n",
      "Epoch 3/10\n",
      "96/96 [==============================] - 1s 9ms/step - loss: 0.9102 - accuracy: 0.7711\n",
      "Epoch 4/10\n",
      "96/96 [==============================] - 1s 10ms/step - loss: 0.8104 - accuracy: 0.7883\n",
      "Epoch 5/10\n",
      "96/96 [==============================] - 1s 9ms/step - loss: 0.7477 - accuracy: 0.8027\n",
      "Epoch 6/10\n",
      "96/96 [==============================] - 1s 8ms/step - loss: 0.7114 - accuracy: 0.8098\n",
      "Epoch 7/10\n",
      "96/96 [==============================] - 1s 9ms/step - loss: 0.6781 - accuracy: 0.8169\n",
      "Epoch 8/10\n",
      "96/96 [==============================] - 1s 8ms/step - loss: 0.6678 - accuracy: 0.8167\n",
      "Epoch 9/10\n",
      "96/96 [==============================] - 1s 8ms/step - loss: 0.6332 - accuracy: 0.8270\n",
      "Epoch 10/10\n",
      "96/96 [==============================] - 1s 8ms/step - loss: 0.6246 - accuracy: 0.8282\n",
      "24/24 [==============================] - 0s 4ms/step - loss: 0.6343 - accuracy: 0.8263\n",
      "Epoch 1/10\n",
      "96/96 [==============================] - 1s 8ms/step - loss: 3.3693 - accuracy: 0.5639\n",
      "Epoch 2/10\n",
      "96/96 [==============================] - 1s 8ms/step - loss: 1.1623 - accuracy: 0.7529\n",
      "Epoch 3/10\n",
      "96/96 [==============================] - 1s 8ms/step - loss: 0.9141 - accuracy: 0.7720\n",
      "Epoch 4/10\n",
      "96/96 [==============================] - 1s 8ms/step - loss: 0.8038 - accuracy: 0.7894\n",
      "Epoch 5/10\n",
      "96/96 [==============================] - 1s 9ms/step - loss: 0.7472 - accuracy: 0.8010\n",
      "Epoch 6/10\n",
      "96/96 [==============================] - 1s 8ms/step - loss: 0.7049 - accuracy: 0.8107\n",
      "Epoch 7/10\n",
      "96/96 [==============================] - 1s 9ms/step - loss: 0.6779 - accuracy: 0.8137\n",
      "Epoch 8/10\n",
      "96/96 [==============================] - 1s 9ms/step - loss: 0.6607 - accuracy: 0.8181\n",
      "Epoch 9/10\n",
      "96/96 [==============================] - 1s 10ms/step - loss: 0.6318 - accuracy: 0.8254\n",
      "Epoch 10/10\n",
      "96/96 [==============================] - 1s 10ms/step - loss: 0.6231 - accuracy: 0.8258\n",
      "24/24 [==============================] - 0s 4ms/step - loss: 0.6195 - accuracy: 0.8280\n",
      "Epoch 1/10\n",
      "96/96 [==============================] - 2s 8ms/step - loss: 3.3697 - accuracy: 0.5931\n",
      "Epoch 2/10\n",
      "96/96 [==============================] - 1s 9ms/step - loss: 1.1844 - accuracy: 0.7300\n",
      "Epoch 3/10\n",
      "96/96 [==============================] - 1s 9ms/step - loss: 0.9397 - accuracy: 0.7663\n",
      "Epoch 4/10\n",
      "96/96 [==============================] - 1s 9ms/step - loss: 0.8303 - accuracy: 0.7853\n",
      "Epoch 5/10\n",
      "96/96 [==============================] - 1s 9ms/step - loss: 0.7672 - accuracy: 0.7972\n",
      "Epoch 6/10\n",
      "96/96 [==============================] - 1s 9ms/step - loss: 0.7258 - accuracy: 0.8056\n",
      "Epoch 7/10\n",
      "96/96 [==============================] - 1s 9ms/step - loss: 0.6913 - accuracy: 0.8118\n",
      "Epoch 8/10\n",
      "96/96 [==============================] - 1s 9ms/step - loss: 0.6659 - accuracy: 0.8185\n",
      "Epoch 9/10\n",
      "96/96 [==============================] - 1s 9ms/step - loss: 0.6634 - accuracy: 0.8168\n",
      "Epoch 10/10\n",
      "96/96 [==============================] - 1s 9ms/step - loss: 0.6329 - accuracy: 0.8265\n",
      "24/24 [==============================] - 0s 4ms/step - loss: 0.6188 - accuracy: 0.8284\n",
      "Epoch 1/10\n",
      "96/96 [==============================] - 1s 8ms/step - loss: 3.4572 - accuracy: 0.5847\n",
      "Epoch 2/10\n",
      "96/96 [==============================] - 1s 13ms/step - loss: 1.1828 - accuracy: 0.7271\n",
      "Epoch 3/10\n",
      "96/96 [==============================] - 1s 11ms/step - loss: 0.9328 - accuracy: 0.7608\n",
      "Epoch 4/10\n",
      "96/96 [==============================] - 1s 12ms/step - loss: 0.8255 - accuracy: 0.7811\n",
      "Epoch 5/10\n",
      "96/96 [==============================] - 1s 11ms/step - loss: 0.7661 - accuracy: 0.7946\n",
      "Epoch 6/10\n",
      "96/96 [==============================] - 1s 11ms/step - loss: 0.7150 - accuracy: 0.8064\n",
      "Epoch 7/10\n",
      "96/96 [==============================] - 1s 12ms/step - loss: 0.6893 - accuracy: 0.8125\n",
      "Epoch 8/10\n",
      "96/96 [==============================] - 1s 12ms/step - loss: 0.6652 - accuracy: 0.8182\n",
      "Epoch 9/10\n",
      "96/96 [==============================] - 1s 11ms/step - loss: 0.6450 - accuracy: 0.8230\n",
      "Epoch 10/10\n",
      "96/96 [==============================] - 1s 10ms/step - loss: 0.6293 - accuracy: 0.8245\n",
      "24/24 [==============================] - 0s 4ms/step - loss: 0.6338 - accuracy: 0.8257\n",
      "Epoch 1/10\n",
      "48/48 [==============================] - 1s 14ms/step - loss: 8.4274 - accuracy: 0.0964\n",
      "Epoch 2/10\n",
      "48/48 [==============================] - 1s 18ms/step - loss: 8.2222 - accuracy: 0.2203\n",
      "Epoch 3/10\n",
      "48/48 [==============================] - 1s 19ms/step - loss: 8.0562 - accuracy: 0.4075\n",
      "Epoch 4/10\n",
      "48/48 [==============================] - 1s 18ms/step - loss: 7.8960 - accuracy: 0.4762\n",
      "Epoch 5/10\n",
      "48/48 [==============================] - 1s 18ms/step - loss: 7.7395 - accuracy: 0.5238\n",
      "Epoch 6/10\n",
      "48/48 [==============================] - 1s 18ms/step - loss: 7.5879 - accuracy: 0.5578\n",
      "Epoch 7/10\n",
      "48/48 [==============================] - 1s 18ms/step - loss: 7.4423 - accuracy: 0.5783\n",
      "Epoch 8/10\n",
      "48/48 [==============================] - 1s 18ms/step - loss: 7.3019 - accuracy: 0.5961\n",
      "Epoch 9/10\n",
      "48/48 [==============================] - 1s 19ms/step - loss: 7.1670 - accuracy: 0.6110\n",
      "Epoch 10/10\n",
      "48/48 [==============================] - 1s 19ms/step - loss: 7.0375 - accuracy: 0.6243\n",
      "12/12 [==============================] - 0s 9ms/step - loss: 6.9590 - accuracy: 0.6444\n",
      "Epoch 1/10\n",
      "48/48 [==============================] - 1s 15ms/step - loss: 8.4197 - accuracy: 0.1425\n",
      "Epoch 2/10\n",
      "48/48 [==============================] - 1s 17ms/step - loss: 8.1611 - accuracy: 0.3562\n",
      "Epoch 3/10\n",
      "48/48 [==============================] - 1s 20ms/step - loss: 7.9572 - accuracy: 0.4753\n",
      "Epoch 4/10\n",
      "48/48 [==============================] - 1s 19ms/step - loss: 7.7722 - accuracy: 0.5216\n",
      "Epoch 5/10\n",
      "48/48 [==============================] - 1s 18ms/step - loss: 7.6051 - accuracy: 0.5514\n",
      "Epoch 6/10\n",
      "48/48 [==============================] - 1s 18ms/step - loss: 7.4529 - accuracy: 0.5736\n",
      "Epoch 7/10\n",
      "48/48 [==============================] - 1s 18ms/step - loss: 7.3113 - accuracy: 0.5923\n",
      "Epoch 8/10\n",
      "48/48 [==============================] - 1s 17ms/step - loss: 7.1792 - accuracy: 0.6068\n",
      "Epoch 9/10\n",
      "48/48 [==============================] - 1s 19ms/step - loss: 7.0537 - accuracy: 0.6180\n",
      "Epoch 10/10\n",
      "48/48 [==============================] - 1s 20ms/step - loss: 6.9327 - accuracy: 0.6290\n",
      "12/12 [==============================] - 0s 7ms/step - loss: 6.8581 - accuracy: 0.6454\n",
      "Epoch 1/10\n",
      "48/48 [==============================] - 1s 14ms/step - loss: 8.3994 - accuracy: 0.1865\n",
      "Epoch 2/10\n",
      "48/48 [==============================] - 1s 18ms/step - loss: 8.1490 - accuracy: 0.2913\n",
      "Epoch 3/10\n",
      "48/48 [==============================] - 1s 22ms/step - loss: 7.9503 - accuracy: 0.3832\n",
      "Epoch 4/10\n",
      "48/48 [==============================] - 1s 23ms/step - loss: 7.7699 - accuracy: 0.4585\n",
      "Epoch 5/10\n",
      "48/48 [==============================] - 1s 25ms/step - loss: 7.6034 - accuracy: 0.5022\n",
      "Epoch 6/10\n",
      "48/48 [==============================] - 1s 20ms/step - loss: 7.4490 - accuracy: 0.5336\n",
      "Epoch 7/10\n",
      "48/48 [==============================] - 1s 19ms/step - loss: 7.3048 - accuracy: 0.5581\n",
      "Epoch 8/10\n",
      "48/48 [==============================] - 1s 19ms/step - loss: 7.1711 - accuracy: 0.5803\n",
      "Epoch 9/10\n"
     ]
    },
    {
     "name": "stdout",
     "output_type": "stream",
     "text": [
      "48/48 [==============================] - 1s 19ms/step - loss: 7.0432 - accuracy: 0.6002 0s - loss: 7.0\n",
      "Epoch 10/10\n",
      "48/48 [==============================] - 1s 16ms/step - loss: 6.9231 - accuracy: 0.6094\n",
      "12/12 [==============================] - 0s 7ms/step - loss: 6.8542 - accuracy: 0.6190\n",
      "Epoch 1/10\n",
      "48/48 [==============================] - 1s 14ms/step - loss: 8.4282 - accuracy: 0.1549\n",
      "Epoch 2/10\n",
      "48/48 [==============================] - 1s 16ms/step - loss: 8.1759 - accuracy: 0.3769\n",
      "Epoch 3/10\n",
      "48/48 [==============================] - 1s 17ms/step - loss: 7.9832 - accuracy: 0.5080\n",
      "Epoch 4/10\n",
      "48/48 [==============================] - 1s 17ms/step - loss: 7.7992 - accuracy: 0.5416\n",
      "Epoch 5/10\n",
      "48/48 [==============================] - 1s 16ms/step - loss: 7.6256 - accuracy: 0.5565\n",
      "Epoch 6/10\n",
      "48/48 [==============================] - 1s 18ms/step - loss: 7.4648 - accuracy: 0.5658 0s - los\n",
      "Epoch 7/10\n",
      "48/48 [==============================] - 1s 17ms/step - loss: 7.3137 - accuracy: 0.5788\n",
      "Epoch 8/10\n",
      "48/48 [==============================] - 1s 17ms/step - loss: 7.1733 - accuracy: 0.5874\n",
      "Epoch 9/10\n",
      "48/48 [==============================] - 1s 17ms/step - loss: 7.0420 - accuracy: 0.5974\n",
      "Epoch 10/10\n",
      "48/48 [==============================] - 1s 17ms/step - loss: 6.9162 - accuracy: 0.6090\n",
      "12/12 [==============================] - 0s 7ms/step - loss: 6.8456 - accuracy: 0.6189\n",
      "Epoch 1/10\n",
      "48/48 [==============================] - 1s 15ms/step - loss: 8.4167 - accuracy: 0.1661\n",
      "Epoch 2/10\n",
      "48/48 [==============================] - 1s 18ms/step - loss: 8.1738 - accuracy: 0.2806\n",
      "Epoch 3/10\n",
      "48/48 [==============================] - 1s 16ms/step - loss: 7.9910 - accuracy: 0.3844\n",
      "Epoch 4/10\n",
      "48/48 [==============================] - 1s 18ms/step - loss: 7.8175 - accuracy: 0.4616\n",
      "Epoch 5/10\n",
      "48/48 [==============================] - 1s 17ms/step - loss: 7.6524 - accuracy: 0.5070\n",
      "Epoch 6/10\n",
      "48/48 [==============================] - 1s 17ms/step - loss: 7.4981 - accuracy: 0.5350\n",
      "Epoch 7/10\n",
      "48/48 [==============================] - 1s 16ms/step - loss: 7.3504 - accuracy: 0.5566\n",
      "Epoch 8/10\n",
      "48/48 [==============================] - 1s 16ms/step - loss: 7.2125 - accuracy: 0.5721\n",
      "Epoch 9/10\n",
      "48/48 [==============================] - 1s 17ms/step - loss: 7.0804 - accuracy: 0.5889\n",
      "Epoch 10/10\n",
      "48/48 [==============================] - 1s 17ms/step - loss: 6.9556 - accuracy: 0.6031\n",
      "12/12 [==============================] - 0s 8ms/step - loss: 6.8781 - accuracy: 0.6195\n",
      "Epoch 1/10\n",
      "48/48 [==============================] - 1s 15ms/step - loss: 5.2888 - accuracy: 0.5536\n",
      "Epoch 2/10\n",
      "48/48 [==============================] - 1s 17ms/step - loss: 1.7076 - accuracy: 0.7356\n",
      "Epoch 3/10\n",
      "48/48 [==============================] - 1s 17ms/step - loss: 1.0066 - accuracy: 0.7694\n",
      "Epoch 4/10\n",
      "48/48 [==============================] - 1s 17ms/step - loss: 0.8647 - accuracy: 0.7844\n",
      "Epoch 5/10\n",
      "48/48 [==============================] - 1s 17ms/step - loss: 0.7935 - accuracy: 0.7955\n",
      "Epoch 6/10\n",
      "48/48 [==============================] - 1s 16ms/step - loss: 0.7436 - accuracy: 0.8028\n",
      "Epoch 7/10\n",
      "48/48 [==============================] - 1s 17ms/step - loss: 0.7123 - accuracy: 0.8081\n",
      "Epoch 8/10\n",
      "48/48 [==============================] - 1s 18ms/step - loss: 0.6851 - accuracy: 0.8141\n",
      "Epoch 9/10\n",
      "48/48 [==============================] - 1s 18ms/step - loss: 0.6700 - accuracy: 0.8146\n",
      "Epoch 10/10\n",
      "48/48 [==============================] - 1s 18ms/step - loss: 0.6545 - accuracy: 0.8180\n",
      "12/12 [==============================] - 0s 10ms/step - loss: 0.6505 - accuracy: 0.8194\n",
      "Epoch 1/10\n",
      "48/48 [==============================] - 1s 14ms/step - loss: 5.2898 - accuracy: 0.5707\n",
      "Epoch 2/10\n",
      "48/48 [==============================] - 1s 16ms/step - loss: 1.7005 - accuracy: 0.7279\n",
      "Epoch 3/10\n",
      "48/48 [==============================] - 1s 17ms/step - loss: 1.0120 - accuracy: 0.7639\n",
      "Epoch 4/10\n",
      "48/48 [==============================] - 1s 17ms/step - loss: 0.8696 - accuracy: 0.7810\n",
      "Epoch 5/10\n",
      "48/48 [==============================] - 1s 17ms/step - loss: 0.7972 - accuracy: 0.7953\n",
      "Epoch 6/10\n",
      "48/48 [==============================] - 1s 17ms/step - loss: 0.7597 - accuracy: 0.7990\n",
      "Epoch 7/10\n",
      "48/48 [==============================] - 1s 16ms/step - loss: 0.7234 - accuracy: 0.8068\n",
      "Epoch 8/10\n",
      "48/48 [==============================] - 1s 18ms/step - loss: 0.6989 - accuracy: 0.8111\n",
      "Epoch 9/10\n",
      "48/48 [==============================] - 1s 16ms/step - loss: 0.6716 - accuracy: 0.8175\n",
      "Epoch 10/10\n",
      "48/48 [==============================] - 1s 16ms/step - loss: 0.6621 - accuracy: 0.8187\n",
      "12/12 [==============================] - 0s 6ms/step - loss: 0.6616 - accuracy: 0.8124\n",
      "Epoch 1/10\n",
      "48/48 [==============================] - 1s 13ms/step - loss: 5.3289 - accuracy: 0.5944\n",
      "Epoch 2/10\n",
      "48/48 [==============================] - 1s 16ms/step - loss: 1.7145 - accuracy: 0.7444\n",
      "Epoch 3/10\n",
      "48/48 [==============================] - 1s 16ms/step - loss: 1.0093 - accuracy: 0.7601\n",
      "Epoch 4/10\n",
      "48/48 [==============================] - 1s 16ms/step - loss: 0.8720 - accuracy: 0.7736\n",
      "Epoch 5/10\n",
      "48/48 [==============================] - 1s 20ms/step - loss: 0.7961 - accuracy: 0.7891\n",
      "Epoch 6/10\n",
      "48/48 [==============================] - 1s 17ms/step - loss: 0.7499 - accuracy: 0.7978\n",
      "Epoch 7/10\n",
      "48/48 [==============================] - 1s 19ms/step - loss: 0.7175 - accuracy: 0.8073\n",
      "Epoch 8/10\n",
      "48/48 [==============================] - 1s 19ms/step - loss: 0.6876 - accuracy: 0.8125\n",
      "Epoch 9/10\n",
      "48/48 [==============================] - 1s 18ms/step - loss: 0.6666 - accuracy: 0.8171\n",
      "Epoch 10/10\n",
      "48/48 [==============================] - 1s 17ms/step - loss: 0.6484 - accuracy: 0.8205\n",
      "12/12 [==============================] - 0s 7ms/step - loss: 0.6296 - accuracy: 0.8303\n",
      "Epoch 1/10\n",
      "48/48 [==============================] - 1s 14ms/step - loss: 5.3362 - accuracy: 0.5857\n",
      "Epoch 2/10\n",
      "48/48 [==============================] - 1s 16ms/step - loss: 1.7317 - accuracy: 0.7328\n",
      "Epoch 3/10\n",
      "48/48 [==============================] - 1s 17ms/step - loss: 1.0292 - accuracy: 0.7610\n",
      "Epoch 4/10\n",
      "48/48 [==============================] - 1s 19ms/step - loss: 0.8775 - accuracy: 0.7844\n",
      "Epoch 5/10\n",
      "48/48 [==============================] - 1s 20ms/step - loss: 0.8028 - accuracy: 0.7929\n",
      "Epoch 6/10\n",
      "48/48 [==============================] - 1s 18ms/step - loss: 0.7511 - accuracy: 0.8015\n",
      "Epoch 7/10\n",
      "48/48 [==============================] - 1s 16ms/step - loss: 0.7242 - accuracy: 0.8072\n",
      "Epoch 8/10\n",
      "48/48 [==============================] - 1s 17ms/step - loss: 0.6892 - accuracy: 0.8159\n",
      "Epoch 9/10\n",
      "48/48 [==============================] - 1s 18ms/step - loss: 0.6665 - accuracy: 0.8201\n",
      "Epoch 10/10\n",
      "48/48 [==============================] - 1s 18ms/step - loss: 0.6721 - accuracy: 0.8143\n",
      "12/12 [==============================] - 0s 7ms/step - loss: 0.6483 - accuracy: 0.8240\n",
      "Epoch 1/10\n",
      "48/48 [==============================] - 2s 16ms/step - loss: 5.3877 - accuracy: 0.5416\n",
      "Epoch 2/10\n",
      "48/48 [==============================] - 1s 17ms/step - loss: 1.7555 - accuracy: 0.7217\n",
      "Epoch 3/10\n",
      "48/48 [==============================] - 1s 18ms/step - loss: 1.0349 - accuracy: 0.7612\n",
      "Epoch 4/10\n",
      "48/48 [==============================] - 1s 17ms/step - loss: 0.8752 - accuracy: 0.7807\n",
      "Epoch 5/10\n",
      "48/48 [==============================] - 1s 18ms/step - loss: 0.8002 - accuracy: 0.7916\n",
      "Epoch 6/10\n",
      "48/48 [==============================] - 1s 19ms/step - loss: 0.7451 - accuracy: 0.8021\n",
      "Epoch 7/10\n",
      "48/48 [==============================] - 1s 18ms/step - loss: 0.7105 - accuracy: 0.8078\n",
      "Epoch 8/10\n",
      "48/48 [==============================] - 1s 18ms/step - loss: 0.6764 - accuracy: 0.8165\n",
      "Epoch 9/10\n",
      "48/48 [==============================] - 1s 18ms/step - loss: 0.6629 - accuracy: 0.8180\n",
      "Epoch 10/10\n",
      "48/48 [==============================] - 1s 17ms/step - loss: 0.6495 - accuracy: 0.8187\n",
      "12/12 [==============================] - 0s 8ms/step - loss: 0.6636 - accuracy: 0.8125\n",
      "Epoch 1/10\n",
      "48/48 [==============================] - 1s 12ms/step - loss: 7.0419 - accuracy: 0.1497\n",
      "Epoch 2/10\n",
      "48/48 [==============================] - 1s 14ms/step - loss: 6.8357 - accuracy: 0.3068\n",
      "Epoch 3/10\n",
      "48/48 [==============================] - 1s 16ms/step - loss: 6.6737 - accuracy: 0.3949\n",
      "Epoch 4/10\n"
     ]
    },
    {
     "name": "stdout",
     "output_type": "stream",
     "text": [
      "48/48 [==============================] - 1s 15ms/step - loss: 6.5288 - accuracy: 0.4371\n",
      "Epoch 5/10\n",
      "48/48 [==============================] - 1s 15ms/step - loss: 6.3953 - accuracy: 0.4816\n",
      "Epoch 6/10\n",
      "48/48 [==============================] - 1s 18ms/step - loss: 6.2697 - accuracy: 0.5341\n",
      "Epoch 7/10\n",
      "48/48 [==============================] - 1s 16ms/step - loss: 6.1502 - accuracy: 0.5654\n",
      "Epoch 8/10\n",
      "48/48 [==============================] - 1s 19ms/step - loss: 6.0372 - accuracy: 0.5812\n",
      "Epoch 9/10\n",
      "48/48 [==============================] - 1s 17ms/step - loss: 5.9281 - accuracy: 0.5970\n",
      "Epoch 10/10\n",
      "48/48 [==============================] - 1s 16ms/step - loss: 5.8227 - accuracy: 0.6082\n",
      "12/12 [==============================] - 0s 7ms/step - loss: 5.7559 - accuracy: 0.6212\n",
      "Epoch 1/10\n",
      "48/48 [==============================] - 1s 12ms/step - loss: 7.0210 - accuracy: 0.1509\n",
      "Epoch 2/10\n",
      "48/48 [==============================] - 1s 14ms/step - loss: 6.8174 - accuracy: 0.2708\n",
      "Epoch 3/10\n",
      "48/48 [==============================] - 1s 14ms/step - loss: 6.6624 - accuracy: 0.3716\n",
      "Epoch 4/10\n",
      "48/48 [==============================] - 1s 15ms/step - loss: 6.5241 - accuracy: 0.4354\n",
      "Epoch 5/10\n",
      "48/48 [==============================] - 1s 19ms/step - loss: 6.3970 - accuracy: 0.4912\n",
      "Epoch 6/10\n",
      "48/48 [==============================] - 1s 15ms/step - loss: 6.2782 - accuracy: 0.5252\n",
      "Epoch 7/10\n",
      "48/48 [==============================] - 1s 16ms/step - loss: 6.1650 - accuracy: 0.5469\n",
      "Epoch 8/10\n",
      "48/48 [==============================] - 1s 15ms/step - loss: 6.0577 - accuracy: 0.5549\n",
      "Epoch 9/10\n",
      "48/48 [==============================] - 1s 14ms/step - loss: 5.9546 - accuracy: 0.5680\n",
      "Epoch 10/10\n",
      "48/48 [==============================] - 1s 14ms/step - loss: 5.8562 - accuracy: 0.5791\n",
      "12/12 [==============================] - 0s 7ms/step - loss: 5.7935 - accuracy: 0.5986\n",
      "Epoch 1/10\n",
      "48/48 [==============================] - 1s 12ms/step - loss: 7.0279 - accuracy: 0.1424\n",
      "Epoch 2/10\n",
      "48/48 [==============================] - 1s 14ms/step - loss: 6.8328 - accuracy: 0.2289\n",
      "Epoch 3/10\n",
      "48/48 [==============================] - 1s 15ms/step - loss: 6.6818 - accuracy: 0.2950\n",
      "Epoch 4/10\n",
      "48/48 [==============================] - 1s 15ms/step - loss: 6.5407 - accuracy: 0.3769\n",
      "Epoch 5/10\n",
      "48/48 [==============================] - 1s 14ms/step - loss: 6.4073 - accuracy: 0.4488\n",
      "Epoch 6/10\n",
      "48/48 [==============================] - 1s 16ms/step - loss: 6.2832 - accuracy: 0.5049\n",
      "Epoch 7/10\n",
      "48/48 [==============================] - 1s 15ms/step - loss: 6.1643 - accuracy: 0.5356\n",
      "Epoch 8/10\n",
      "48/48 [==============================] - 1s 15ms/step - loss: 6.0525 - accuracy: 0.5638\n",
      "Epoch 9/10\n",
      "48/48 [==============================] - 1s 19ms/step - loss: 5.9450 - accuracy: 0.5823\n",
      "Epoch 10/10\n",
      "48/48 [==============================] - 1s 16ms/step - loss: 5.8414 - accuracy: 0.5947\n",
      "12/12 [==============================] - 0s 7ms/step - loss: 5.7832 - accuracy: 0.6079\n",
      "Epoch 1/10\n",
      "48/48 [==============================] - 1s 12ms/step - loss: 7.0365 - accuracy: 0.1416\n",
      "Epoch 2/10\n",
      "48/48 [==============================] - 1s 15ms/step - loss: 6.8085 - accuracy: 0.2331\n",
      "Epoch 3/10\n",
      "48/48 [==============================] - 1s 15ms/step - loss: 6.6457 - accuracy: 0.3368\n",
      "Epoch 4/10\n",
      "48/48 [==============================] - 1s 15ms/step - loss: 6.5000 - accuracy: 0.3906\n",
      "Epoch 5/10\n",
      "48/48 [==============================] - 1s 16ms/step - loss: 6.3650 - accuracy: 0.4169\n",
      "Epoch 6/10\n",
      "48/48 [==============================] - 1s 14ms/step - loss: 6.2403 - accuracy: 0.4413\n",
      "Epoch 7/10\n",
      "48/48 [==============================] - 1s 15ms/step - loss: 6.1229 - accuracy: 0.4601\n",
      "Epoch 8/10\n",
      "48/48 [==============================] - 1s 15ms/step - loss: 6.0112 - accuracy: 0.4831\n",
      "Epoch 9/10\n",
      "48/48 [==============================] - 1s 15ms/step - loss: 5.9062 - accuracy: 0.5090\n",
      "Epoch 10/10\n",
      "48/48 [==============================] - 1s 15ms/step - loss: 5.8058 - accuracy: 0.5330\n",
      "12/12 [==============================] - 0s 7ms/step - loss: 5.7461 - accuracy: 0.5625\n",
      "Epoch 1/10\n",
      "48/48 [==============================] - 1s 13ms/step - loss: 7.0336 - accuracy: 0.1370\n",
      "Epoch 2/10\n",
      "48/48 [==============================] - 1s 14ms/step - loss: 6.8148 - accuracy: 0.2156\n",
      "Epoch 3/10\n",
      "48/48 [==============================] - 1s 15ms/step - loss: 6.6413 - accuracy: 0.3038\n",
      "Epoch 4/10\n",
      "48/48 [==============================] - 1s 14ms/step - loss: 6.4862 - accuracy: 0.3805\n",
      "Epoch 5/10\n",
      "48/48 [==============================] - 1s 15ms/step - loss: 6.3486 - accuracy: 0.4683\n",
      "Epoch 6/10\n",
      "48/48 [==============================] - 1s 15ms/step - loss: 6.2221 - accuracy: 0.5359\n",
      "Epoch 7/10\n",
      "48/48 [==============================] - 1s 16ms/step - loss: 6.1056 - accuracy: 0.5718\n",
      "Epoch 8/10\n",
      "48/48 [==============================] - 1s 16ms/step - loss: 5.9970 - accuracy: 0.5909\n",
      "Epoch 9/10\n",
      "48/48 [==============================] - 1s 15ms/step - loss: 5.8936 - accuracy: 0.6045\n",
      "Epoch 10/10\n",
      "48/48 [==============================] - 1s 15ms/step - loss: 5.7954 - accuracy: 0.6153\n",
      "12/12 [==============================] - 0s 6ms/step - loss: 5.7359 - accuracy: 0.6318\n",
      "Epoch 1/10\n",
      "48/48 [==============================] - 1s 11ms/step - loss: 4.6506 - accuracy: 0.5713 0s - loss: 5.6329 - accura\n",
      "Epoch 2/10\n",
      "48/48 [==============================] - 1s 13ms/step - loss: 1.8032 - accuracy: 0.7331\n",
      "Epoch 3/10\n",
      "48/48 [==============================] - 1s 17ms/step - loss: 1.1546 - accuracy: 0.7567 0s - loss: 1.2100 - \n",
      "Epoch 4/10\n",
      "48/48 [==============================] - 1s 15ms/step - loss: 0.9807 - accuracy: 0.7702\n",
      "Epoch 5/10\n",
      "48/48 [==============================] - 1s 15ms/step - loss: 0.8828 - accuracy: 0.7825\n",
      "Epoch 6/10\n",
      "48/48 [==============================] - 1s 14ms/step - loss: 0.8196 - accuracy: 0.7920\n",
      "Epoch 7/10\n",
      "48/48 [==============================] - 1s 14ms/step - loss: 0.7740 - accuracy: 0.7974\n",
      "Epoch 8/10\n",
      "48/48 [==============================] - 1s 16ms/step - loss: 0.7419 - accuracy: 0.8035\n",
      "Epoch 9/10\n",
      "48/48 [==============================] - 1s 15ms/step - loss: 0.7092 - accuracy: 0.8085\n",
      "Epoch 10/10\n",
      "48/48 [==============================] - 1s 16ms/step - loss: 0.6871 - accuracy: 0.8149\n",
      "12/12 [==============================] - 0s 7ms/step - loss: 0.6587 - accuracy: 0.8147\n",
      "Epoch 1/10\n",
      "48/48 [==============================] - 1s 12ms/step - loss: 4.6386 - accuracy: 0.5399\n",
      "Epoch 2/10\n",
      "48/48 [==============================] - 1s 19ms/step - loss: 1.8155 - accuracy: 0.7038\n",
      "Epoch 3/10\n",
      "48/48 [==============================] - 1s 20ms/step - loss: 1.1655 - accuracy: 0.7370\n",
      "Epoch 4/10\n",
      "48/48 [==============================] - 1s 17ms/step - loss: 0.9924 - accuracy: 0.7655\n",
      "Epoch 5/10\n",
      "48/48 [==============================] - 1s 17ms/step - loss: 0.8893 - accuracy: 0.7841\n",
      "Epoch 6/10\n",
      "48/48 [==============================] - 1s 17ms/step - loss: 0.8155 - accuracy: 0.7955\n",
      "Epoch 7/10\n",
      "48/48 [==============================] - 1s 20ms/step - loss: 0.7799 - accuracy: 0.7995\n",
      "Epoch 8/10\n",
      "48/48 [==============================] - 1s 20ms/step - loss: 0.7481 - accuracy: 0.8036\n",
      "Epoch 9/10\n",
      "48/48 [==============================] - 1s 20ms/step - loss: 0.7066 - accuracy: 0.8129\n",
      "Epoch 10/10\n",
      "48/48 [==============================] - 1s 15ms/step - loss: 0.6872 - accuracy: 0.8138 0s - loss: 0.7004 \n",
      "12/12 [==============================] - 0s 9ms/step - loss: 0.6703 - accuracy: 0.8193\n",
      "Epoch 1/10\n",
      "48/48 [==============================] - 1s 11ms/step - loss: 4.6111 - accuracy: 0.5493\n",
      "Epoch 2/10\n",
      "48/48 [==============================] - 1s 14ms/step - loss: 1.7948 - accuracy: 0.7226\n",
      "Epoch 3/10\n",
      "48/48 [==============================] - 1s 15ms/step - loss: 1.1621 - accuracy: 0.7547\n",
      "Epoch 4/10\n",
      "48/48 [==============================] - 1s 14ms/step - loss: 0.9862 - accuracy: 0.7708\n",
      "Epoch 5/10\n",
      "48/48 [==============================] - 1s 14ms/step - loss: 0.8813 - accuracy: 0.7858\n",
      "Epoch 6/10\n",
      "48/48 [==============================] - 1s 14ms/step - loss: 0.8125 - accuracy: 0.7955\n",
      "Epoch 7/10\n",
      "48/48 [==============================] - 1s 15ms/step - loss: 0.7747 - accuracy: 0.7995\n",
      "Epoch 8/10\n",
      "48/48 [==============================] - 1s 17ms/step - loss: 0.7611 - accuracy: 0.7962\n",
      "Epoch 9/10\n",
      "48/48 [==============================] - 1s 16ms/step - loss: 0.7136 - accuracy: 0.8087\n"
     ]
    },
    {
     "name": "stdout",
     "output_type": "stream",
     "text": [
      "Epoch 10/10\n",
      "48/48 [==============================] - 1s 15ms/step - loss: 0.6839 - accuracy: 0.8140\n",
      "12/12 [==============================] - 0s 6ms/step - loss: 0.6510 - accuracy: 0.8253\n",
      "Epoch 1/10\n",
      "48/48 [==============================] - 1s 13ms/step - loss: 4.8862 - accuracy: 0.4085\n",
      "Epoch 2/10\n",
      "48/48 [==============================] - 1s 16ms/step - loss: 2.0156 - accuracy: 0.7078\n",
      "Epoch 3/10\n",
      "48/48 [==============================] - 1s 15ms/step - loss: 1.2583 - accuracy: 0.7516\n",
      "Epoch 4/10\n",
      "48/48 [==============================] - 1s 15ms/step - loss: 1.0448 - accuracy: 0.7721\n",
      "Epoch 5/10\n",
      "48/48 [==============================] - 1s 16ms/step - loss: 0.9238 - accuracy: 0.7874\n",
      "Epoch 6/10\n",
      "48/48 [==============================] - 1s 16ms/step - loss: 0.8424 - accuracy: 0.7983\n",
      "Epoch 7/10\n",
      "48/48 [==============================] - 1s 15ms/step - loss: 0.7907 - accuracy: 0.8052\n",
      "Epoch 8/10\n",
      "48/48 [==============================] - 1s 16ms/step - loss: 0.7608 - accuracy: 0.8060\n",
      "Epoch 9/10\n",
      "48/48 [==============================] - 1s 17ms/step - loss: 0.7232 - accuracy: 0.8135 0s - loss: 0.7\n",
      "Epoch 10/10\n",
      "48/48 [==============================] - 1s 17ms/step - loss: 0.7027 - accuracy: 0.8148\n",
      "12/12 [==============================] - 0s 7ms/step - loss: 0.6772 - accuracy: 0.8245\n",
      "Epoch 1/10\n",
      "48/48 [==============================] - 1s 11ms/step - loss: 4.9199 - accuracy: 0.3878\n",
      "Epoch 2/10\n",
      "48/48 [==============================] - 1s 13ms/step - loss: 2.0071 - accuracy: 0.7076\n",
      "Epoch 3/10\n",
      "48/48 [==============================] - 1s 14ms/step - loss: 1.2557 - accuracy: 0.7449\n",
      "Epoch 4/10\n",
      "48/48 [==============================] - 1s 14ms/step - loss: 1.0404 - accuracy: 0.7682\n",
      "Epoch 5/10\n",
      "48/48 [==============================] - 1s 14ms/step - loss: 0.9139 - accuracy: 0.7835\n",
      "Epoch 6/10\n",
      "48/48 [==============================] - 1s 15ms/step - loss: 0.8371 - accuracy: 0.7933\n",
      "Epoch 7/10\n",
      "48/48 [==============================] - 1s 16ms/step - loss: 0.7904 - accuracy: 0.7994\n",
      "Epoch 8/10\n",
      "48/48 [==============================] - 1s 16ms/step - loss: 0.7408 - accuracy: 0.8105\n",
      "Epoch 9/10\n",
      "48/48 [==============================] - 1s 14ms/step - loss: 0.7067 - accuracy: 0.8162\n",
      "Epoch 10/10\n",
      "48/48 [==============================] - 1s 15ms/step - loss: 0.6889 - accuracy: 0.8184\n",
      "12/12 [==============================] - 0s 7ms/step - loss: 0.6813 - accuracy: 0.8163\n",
      "Epoch 1/10\n",
      "120/120 [==============================] - 2s 8ms/step - loss: 2.8488 - accuracy: 0.6470\n",
      "Epoch 2/10\n",
      "120/120 [==============================] - 1s 9ms/step - loss: 1.0276 - accuracy: 0.7533\n",
      "Epoch 3/10\n",
      "120/120 [==============================] - 1s 9ms/step - loss: 0.8454 - accuracy: 0.7830\n",
      "Epoch 4/10\n",
      "120/120 [==============================] - 1s 9ms/step - loss: 0.7632 - accuracy: 0.7986\n",
      "Epoch 5/10\n",
      "120/120 [==============================] - 1s 9ms/step - loss: 0.7123 - accuracy: 0.8083\n",
      "Epoch 6/10\n",
      "120/120 [==============================] - 1s 9ms/step - loss: 0.6792 - accuracy: 0.8157\n",
      "Epoch 7/10\n",
      "120/120 [==============================] - 1s 9ms/step - loss: 0.6490 - accuracy: 0.8219\n",
      "Epoch 8/10\n",
      "120/120 [==============================] - 1s 9ms/step - loss: 0.6337 - accuracy: 0.8255\n",
      "Epoch 9/10\n",
      "120/120 [==============================] - 1s 9ms/step - loss: 0.6159 - accuracy: 0.8291\n",
      "Epoch 10/10\n",
      "120/120 [==============================] - 1s 9ms/step - loss: 0.6034 - accuracy: 0.8321\n"
     ]
    }
   ],
   "source": [
    "grid_result = grid.fit(x, y)"
   ]
  },
  {
   "cell_type": "code",
   "execution_count": 197,
   "id": "909b8cf5",
   "metadata": {},
   "outputs": [
    {
     "data": {
      "text/plain": [
       "{'batch_size': 500, 'neurons': [150, 75, 30], 'opt': 'adam'}"
      ]
     },
     "execution_count": 197,
     "metadata": {},
     "output_type": "execute_result"
    }
   ],
   "source": [
    "grid_result.best_params_"
   ]
  },
  {
   "cell_type": "code",
   "execution_count": 198,
   "id": "b3c3e7ad",
   "metadata": {},
   "outputs": [
    {
     "data": {
      "text/plain": [
       "0.8281166672706604"
      ]
     },
     "execution_count": 198,
     "metadata": {},
     "output_type": "execute_result"
    }
   ],
   "source": [
    "grid_result.best_score_"
   ]
  },
  {
   "cell_type": "code",
   "execution_count": 199,
   "id": "67bb6ae3",
   "metadata": {},
   "outputs": [],
   "source": [
    "final_model = Sequential()"
   ]
  },
  {
   "cell_type": "code",
   "execution_count": 200,
   "id": "c2d996dd",
   "metadata": {
    "scrolled": true
   },
   "outputs": [
    {
     "name": "stdout",
     "output_type": "stream",
     "text": [
      "Epoch 1/20\n",
      "96/96 [==============================] - 1s 10ms/step - loss: 3.3689 - accuracy: 0.6332 - val_loss: 1.4157 - val_accuracy: 0.7478\n",
      "Epoch 2/20\n",
      "96/96 [==============================] - 1s 9ms/step - loss: 1.1581 - accuracy: 0.7612 - val_loss: 0.9944 - val_accuracy: 0.7724\n",
      "Epoch 3/20\n",
      "96/96 [==============================] - 1s 9ms/step - loss: 0.9069 - accuracy: 0.7874 - val_loss: 0.8202 - val_accuracy: 0.7986\n",
      "Epoch 4/20\n",
      "96/96 [==============================] - 1s 9ms/step - loss: 0.8079 - accuracy: 0.7973 - val_loss: 0.7430 - val_accuracy: 0.8095\n",
      "Epoch 5/20\n",
      "96/96 [==============================] - 1s 9ms/step - loss: 0.7430 - accuracy: 0.8076 - val_loss: 0.7411 - val_accuracy: 0.7973\n",
      "Epoch 6/20\n",
      "96/96 [==============================] - 1s 9ms/step - loss: 0.7085 - accuracy: 0.8120 - val_loss: 0.6758 - val_accuracy: 0.8155\n",
      "Epoch 7/20\n",
      "96/96 [==============================] - 1s 9ms/step - loss: 0.6750 - accuracy: 0.8178 - val_loss: 0.6562 - val_accuracy: 0.8209\n",
      "Epoch 8/20\n",
      "96/96 [==============================] - 1s 9ms/step - loss: 0.6511 - accuracy: 0.8225 - val_loss: 0.6438 - val_accuracy: 0.8251\n",
      "Epoch 9/20\n",
      "96/96 [==============================] - 1s 9ms/step - loss: 0.6560 - accuracy: 0.8189 - val_loss: 0.6832 - val_accuracy: 0.8163\n",
      "Epoch 10/20\n",
      "96/96 [==============================] - 1s 9ms/step - loss: 0.6366 - accuracy: 0.8251 - val_loss: 0.6209 - val_accuracy: 0.8278\n",
      "Epoch 11/20\n",
      "96/96 [==============================] - 1s 10ms/step - loss: 0.6133 - accuracy: 0.8290 - val_loss: 0.6791 - val_accuracy: 0.7903\n",
      "Epoch 12/20\n",
      "96/96 [==============================] - 1s 12ms/step - loss: 0.6100 - accuracy: 0.8289 - val_loss: 0.6038 - val_accuracy: 0.8305\n",
      "Epoch 13/20\n",
      "96/96 [==============================] - 1s 15ms/step - loss: 0.5989 - accuracy: 0.8333 - val_loss: 0.5907 - val_accuracy: 0.8353\n",
      "Epoch 14/20\n",
      "96/96 [==============================] - 2s 17ms/step - loss: 0.5887 - accuracy: 0.8328 - val_loss: 0.5989 - val_accuracy: 0.8298\n",
      "Epoch 15/20\n",
      "96/96 [==============================] - 1s 14ms/step - loss: 0.5774 - accuracy: 0.8378 - val_loss: 0.5871 - val_accuracy: 0.8301\n",
      "Epoch 16/20\n",
      "96/96 [==============================] - 1s 13ms/step - loss: 0.5723 - accuracy: 0.8377 - val_loss: 0.5682 - val_accuracy: 0.8411\n",
      "Epoch 17/20\n",
      "96/96 [==============================] - 2s 17ms/step - loss: 0.5825 - accuracy: 0.8349 - val_loss: 0.5820 - val_accuracy: 0.8352\n",
      "Epoch 18/20\n",
      "96/96 [==============================] - 1s 15ms/step - loss: 0.5662 - accuracy: 0.8400 - val_loss: 0.5700 - val_accuracy: 0.8351\n",
      "Epoch 19/20\n",
      "96/96 [==============================] - 1s 15ms/step - loss: 0.5697 - accuracy: 0.8380 - val_loss: 0.5922 - val_accuracy: 0.8273\n",
      "Epoch 20/20\n",
      "96/96 [==============================] - 1s 15ms/step - loss: 0.5612 - accuracy: 0.8397 - val_loss: 0.5913 - val_accuracy: 0.8301\n"
     ]
    }
   ],
   "source": [
    "final_model.add(Dense(units=150, input_dim=784, kernel_regularizer=l1(0.001)))  \n",
    "final_model.add(Activation('tanh'))\n",
    "\n",
    "final_model.add(Dense(units=75))\n",
    "final_model.add(Activation('tanh'))\n",
    "\n",
    "final_model.add(Dropout(0.2, seed=42))\n",
    "\n",
    "final_model.add(Dense(units=30))\n",
    "final_model.add(Activation('sigmoid'))\n",
    "    \n",
    "final_model.add(Dense(units=10)) \n",
    "final_model.add(Activation('softmax'))\n",
    "\n",
    "final_model.compile(loss='categorical_crossentropy', optimizer='adam', metrics=['accuracy'])\n",
    "\n",
    "final_history = final_model.fit(x, y, epochs=20, batch_size=500, validation_split=0.20)"
   ]
  },
  {
   "cell_type": "code",
   "execution_count": 201,
   "id": "4ad083d6",
   "metadata": {},
   "outputs": [
    {
     "data": {
      "text/plain": [
       "<matplotlib.legend.Legend at 0x254fb911b80>"
      ]
     },
     "execution_count": 201,
     "metadata": {},
     "output_type": "execute_result"
    },
    {
     "data": {
      "image/png": "[encoded data removed]",
      "text/plain": [
       "<Figure size 432x288 with 1 Axes>"
      ]
     },
     "metadata": {
      "needs_background": "light"
     },
     "output_type": "display_data"
    }
   ],
   "source": [
    "plt.plot(final_history.history['loss'])\n",
    "plt.plot(final_history.history['val_loss'])\n",
    "plt.title('model loss')\n",
    "plt.xlabel('epoch')\n",
    "plt.ylabel('loss')\n",
    "plt.legend(['train','validation'], loc='upper left')"
   ]
  },
  {
   "cell_type": "code",
   "execution_count": 202,
   "id": "9f694f0d",
   "metadata": {},
   "outputs": [
    {
     "data": {
      "text/plain": [
       "<matplotlib.legend.Legend at 0x254fb7739d0>"
      ]
     },
     "execution_count": 202,
     "metadata": {},
     "output_type": "execute_result"
    },
    {
     "data": {
      "image/png": "[encoded data removed]",
      "text/plain": [
       "<Figure size 432x288 with 1 Axes>"
      ]
     },
     "metadata": {
      "needs_background": "light"
     },
     "output_type": "display_data"
    }
   ],
   "source": [
    "plt.plot(final_history.history['accuracy'])\n",
    "plt.plot(final_history.history['val_accuracy'])\n",
    "plt.title('model accuracy')\n",
    "plt.xlabel('epoch')\n",
    "plt.ylabel('loss')\n",
    "plt.legend(['train','validation'], loc='upper left')"
   ]
  },
  {
   "cell_type": "code",
   "execution_count": 203,
   "id": "15943e6d",
   "metadata": {},
   "outputs": [
    {
     "data": {
      "text/plain": [
       "0.832"
      ]
     },
     "execution_count": 203,
     "metadata": {},
     "output_type": "execute_result"
    }
   ],
   "source": [
    "preds = final_model.predict(np.array(xtest))\n",
    "\n",
    "pred_classes = np.argmax(preds, axis=1)\n",
    "\n",
    "accuracy_score(ytest, pred_classes)"
   ]
  },
  {
   "cell_type": "code",
   "execution_count": null,
   "id": "fa730659",
   "metadata": {},
   "outputs": [],
   "source": []
  },
  {
   "cell_type": "markdown",
   "id": "de800436",
   "metadata": {},
   "source": [
    "## Regression"
   ]
  },
  {
   "cell_type": "code",
   "execution_count": 250,
   "id": "343d3388",
   "metadata": {},
   "outputs": [],
   "source": [
    "np.set_printoptions(precision=3, suppress=True)"
   ]
  },
  {
   "cell_type": "code",
   "execution_count": 252,
   "id": "e933b7c0",
   "metadata": {},
   "outputs": [],
   "source": [
    "url = 'http://archive.ics.uci.edu/ml/machine-learning-databases/auto-mpg/auto-mpg.data'\n",
    "column_names = ['MPG', 'Cylinders', 'Displacement', 'Horsepower', 'Weight',\n",
    "                'Acceleration', 'Model Year', 'Origin']\n",
    "\n",
    "raw_dataset = pd.read_csv(url, names=column_names,\n",
    "                          na_values='?', comment='\\t', #ignore commented lines\n",
    "                          sep=' ', skipinitialspace=True) #Skip spaces after delimiter."
   ]
  },
  {
   "cell_type": "code",
   "execution_count": 253,
   "id": "01f98153",
   "metadata": {},
   "outputs": [
    {
     "data": {
      "text/html": [
       "<div>\n",
       "<style scoped>\n",
       "    .dataframe tbody tr th:only-of-type {\n",
       "        vertical-align: middle;\n",
       "    }\n",
       "\n",
       "    .dataframe tbody tr th {\n",
       "        vertical-align: top;\n",
       "    }\n",
       "\n",
       "    .dataframe thead th {\n",
       "        text-align: right;\n",
       "    }\n",
       "</style>\n",
       "<table border=\"1\" class=\"dataframe\">\n",
       "  <thead>\n",
       "    <tr style=\"text-align: right;\">\n",
       "      <th></th>\n",
       "      <th>MPG</th>\n",
       "      <th>Cylinders</th>\n",
       "      <th>Displacement</th>\n",
       "      <th>Horsepower</th>\n",
       "      <th>Weight</th>\n",
       "      <th>Acceleration</th>\n",
       "      <th>Model Year</th>\n",
       "      <th>Origin</th>\n",
       "    </tr>\n",
       "  </thead>\n",
       "  <tbody>\n",
       "    <tr>\n",
       "      <th>0</th>\n",
       "      <td>18.0</td>\n",
       "      <td>8</td>\n",
       "      <td>307.0</td>\n",
       "      <td>130.0</td>\n",
       "      <td>3504.0</td>\n",
       "      <td>12.0</td>\n",
       "      <td>70</td>\n",
       "      <td>1</td>\n",
       "    </tr>\n",
       "    <tr>\n",
       "      <th>1</th>\n",
       "      <td>15.0</td>\n",
       "      <td>8</td>\n",
       "      <td>350.0</td>\n",
       "      <td>165.0</td>\n",
       "      <td>3693.0</td>\n",
       "      <td>11.5</td>\n",
       "      <td>70</td>\n",
       "      <td>1</td>\n",
       "    </tr>\n",
       "    <tr>\n",
       "      <th>2</th>\n",
       "      <td>18.0</td>\n",
       "      <td>8</td>\n",
       "      <td>318.0</td>\n",
       "      <td>150.0</td>\n",
       "      <td>3436.0</td>\n",
       "      <td>11.0</td>\n",
       "      <td>70</td>\n",
       "      <td>1</td>\n",
       "    </tr>\n",
       "    <tr>\n",
       "      <th>3</th>\n",
       "      <td>16.0</td>\n",
       "      <td>8</td>\n",
       "      <td>304.0</td>\n",
       "      <td>150.0</td>\n",
       "      <td>3433.0</td>\n",
       "      <td>12.0</td>\n",
       "      <td>70</td>\n",
       "      <td>1</td>\n",
       "    </tr>\n",
       "    <tr>\n",
       "      <th>4</th>\n",
       "      <td>17.0</td>\n",
       "      <td>8</td>\n",
       "      <td>302.0</td>\n",
       "      <td>140.0</td>\n",
       "      <td>3449.0</td>\n",
       "      <td>10.5</td>\n",
       "      <td>70</td>\n",
       "      <td>1</td>\n",
       "    </tr>\n",
       "  </tbody>\n",
       "</table>\n",
       "</div>"
      ],
      "text/plain": [
       "    MPG  Cylinders  Displacement  Horsepower  Weight  Acceleration  \\\n",
       "0  18.0          8         307.0       130.0  3504.0          12.0   \n",
       "1  15.0          8         350.0       165.0  3693.0          11.5   \n",
       "2  18.0          8         318.0       150.0  3436.0          11.0   \n",
       "3  16.0          8         304.0       150.0  3433.0          12.0   \n",
       "4  17.0          8         302.0       140.0  3449.0          10.5   \n",
       "\n",
       "   Model Year  Origin  \n",
       "0          70       1  \n",
       "1          70       1  \n",
       "2          70       1  \n",
       "3          70       1  \n",
       "4          70       1  "
      ]
     },
     "execution_count": 253,
     "metadata": {},
     "output_type": "execute_result"
    }
   ],
   "source": [
    "dataset = raw_dataset.copy()\n",
    "dataset.head()"
   ]
  },
  {
   "cell_type": "code",
   "execution_count": 254,
   "id": "6b6e371b",
   "metadata": {},
   "outputs": [],
   "source": [
    "dataset['Origin'] = dataset['Origin'].map({1: 'USA', 2: 'Europe', 3:'Japan'})"
   ]
  },
  {
   "cell_type": "code",
   "execution_count": 255,
   "id": "5aa15a61",
   "metadata": {},
   "outputs": [
    {
     "data": {
      "text/html": [
       "<div>\n",
       "<style scoped>\n",
       "    .dataframe tbody tr th:only-of-type {\n",
       "        vertical-align: middle;\n",
       "    }\n",
       "\n",
       "    .dataframe tbody tr th {\n",
       "        vertical-align: top;\n",
       "    }\n",
       "\n",
       "    .dataframe thead th {\n",
       "        text-align: right;\n",
       "    }\n",
       "</style>\n",
       "<table border=\"1\" class=\"dataframe\">\n",
       "  <thead>\n",
       "    <tr style=\"text-align: right;\">\n",
       "      <th></th>\n",
       "      <th>MPG</th>\n",
       "      <th>Cylinders</th>\n",
       "      <th>Displacement</th>\n",
       "      <th>Horsepower</th>\n",
       "      <th>Weight</th>\n",
       "      <th>Acceleration</th>\n",
       "      <th>Model Year</th>\n",
       "      <th>Europe</th>\n",
       "      <th>Japan</th>\n",
       "      <th>USA</th>\n",
       "    </tr>\n",
       "  </thead>\n",
       "  <tbody>\n",
       "    <tr>\n",
       "      <th>0</th>\n",
       "      <td>18.0</td>\n",
       "      <td>8</td>\n",
       "      <td>307.0</td>\n",
       "      <td>130.0</td>\n",
       "      <td>3504.0</td>\n",
       "      <td>12.0</td>\n",
       "      <td>70</td>\n",
       "      <td>0</td>\n",
       "      <td>0</td>\n",
       "      <td>1</td>\n",
       "    </tr>\n",
       "    <tr>\n",
       "      <th>1</th>\n",
       "      <td>15.0</td>\n",
       "      <td>8</td>\n",
       "      <td>350.0</td>\n",
       "      <td>165.0</td>\n",
       "      <td>3693.0</td>\n",
       "      <td>11.5</td>\n",
       "      <td>70</td>\n",
       "      <td>0</td>\n",
       "      <td>0</td>\n",
       "      <td>1</td>\n",
       "    </tr>\n",
       "    <tr>\n",
       "      <th>2</th>\n",
       "      <td>18.0</td>\n",
       "      <td>8</td>\n",
       "      <td>318.0</td>\n",
       "      <td>150.0</td>\n",
       "      <td>3436.0</td>\n",
       "      <td>11.0</td>\n",
       "      <td>70</td>\n",
       "      <td>0</td>\n",
       "      <td>0</td>\n",
       "      <td>1</td>\n",
       "    </tr>\n",
       "    <tr>\n",
       "      <th>3</th>\n",
       "      <td>16.0</td>\n",
       "      <td>8</td>\n",
       "      <td>304.0</td>\n",
       "      <td>150.0</td>\n",
       "      <td>3433.0</td>\n",
       "      <td>12.0</td>\n",
       "      <td>70</td>\n",
       "      <td>0</td>\n",
       "      <td>0</td>\n",
       "      <td>1</td>\n",
       "    </tr>\n",
       "    <tr>\n",
       "      <th>4</th>\n",
       "      <td>17.0</td>\n",
       "      <td>8</td>\n",
       "      <td>302.0</td>\n",
       "      <td>140.0</td>\n",
       "      <td>3449.0</td>\n",
       "      <td>10.5</td>\n",
       "      <td>70</td>\n",
       "      <td>0</td>\n",
       "      <td>0</td>\n",
       "      <td>1</td>\n",
       "    </tr>\n",
       "  </tbody>\n",
       "</table>\n",
       "</div>"
      ],
      "text/plain": [
       "    MPG  Cylinders  Displacement  Horsepower  Weight  Acceleration  \\\n",
       "0  18.0          8         307.0       130.0  3504.0          12.0   \n",
       "1  15.0          8         350.0       165.0  3693.0          11.5   \n",
       "2  18.0          8         318.0       150.0  3436.0          11.0   \n",
       "3  16.0          8         304.0       150.0  3433.0          12.0   \n",
       "4  17.0          8         302.0       140.0  3449.0          10.5   \n",
       "\n",
       "   Model Year  Europe  Japan  USA  \n",
       "0          70       0      0    1  \n",
       "1          70       0      0    1  \n",
       "2          70       0      0    1  \n",
       "3          70       0      0    1  \n",
       "4          70       0      0    1  "
      ]
     },
     "execution_count": 255,
     "metadata": {},
     "output_type": "execute_result"
    }
   ],
   "source": [
    "dataset = pd.get_dummies(dataset, columns=['Origin'], prefix='', prefix_sep='')\n",
    "dataset.head()"
   ]
  },
  {
   "cell_type": "code",
   "execution_count": 210,
   "id": "3f3ebc7c",
   "metadata": {},
   "outputs": [
    {
     "data": {
      "text/html": [
       "<div>\n",
       "<style scoped>\n",
       "    .dataframe tbody tr th:only-of-type {\n",
       "        vertical-align: middle;\n",
       "    }\n",
       "\n",
       "    .dataframe tbody tr th {\n",
       "        vertical-align: top;\n",
       "    }\n",
       "\n",
       "    .dataframe thead th {\n",
       "        text-align: right;\n",
       "    }\n",
       "</style>\n",
       "<table border=\"1\" class=\"dataframe\">\n",
       "  <thead>\n",
       "    <tr style=\"text-align: right;\">\n",
       "      <th></th>\n",
       "      <th>MPG</th>\n",
       "      <th>Cylinders</th>\n",
       "      <th>Displacement</th>\n",
       "      <th>Horsepower</th>\n",
       "      <th>Weight</th>\n",
       "      <th>Acceleration</th>\n",
       "      <th>Model Year</th>\n",
       "      <th>Europe</th>\n",
       "      <th>Japan</th>\n",
       "      <th>USA</th>\n",
       "    </tr>\n",
       "  </thead>\n",
       "  <tbody>\n",
       "    <tr>\n",
       "      <th>393</th>\n",
       "      <td>27.0</td>\n",
       "      <td>4</td>\n",
       "      <td>140.0</td>\n",
       "      <td>86.0</td>\n",
       "      <td>2790.0</td>\n",
       "      <td>15.6</td>\n",
       "      <td>82</td>\n",
       "      <td>0</td>\n",
       "      <td>0</td>\n",
       "      <td>1</td>\n",
       "    </tr>\n",
       "    <tr>\n",
       "      <th>394</th>\n",
       "      <td>44.0</td>\n",
       "      <td>4</td>\n",
       "      <td>97.0</td>\n",
       "      <td>52.0</td>\n",
       "      <td>2130.0</td>\n",
       "      <td>24.6</td>\n",
       "      <td>82</td>\n",
       "      <td>1</td>\n",
       "      <td>0</td>\n",
       "      <td>0</td>\n",
       "    </tr>\n",
       "    <tr>\n",
       "      <th>395</th>\n",
       "      <td>32.0</td>\n",
       "      <td>4</td>\n",
       "      <td>135.0</td>\n",
       "      <td>84.0</td>\n",
       "      <td>2295.0</td>\n",
       "      <td>11.6</td>\n",
       "      <td>82</td>\n",
       "      <td>0</td>\n",
       "      <td>0</td>\n",
       "      <td>1</td>\n",
       "    </tr>\n",
       "    <tr>\n",
       "      <th>396</th>\n",
       "      <td>28.0</td>\n",
       "      <td>4</td>\n",
       "      <td>120.0</td>\n",
       "      <td>79.0</td>\n",
       "      <td>2625.0</td>\n",
       "      <td>18.6</td>\n",
       "      <td>82</td>\n",
       "      <td>0</td>\n",
       "      <td>0</td>\n",
       "      <td>1</td>\n",
       "    </tr>\n",
       "    <tr>\n",
       "      <th>397</th>\n",
       "      <td>31.0</td>\n",
       "      <td>4</td>\n",
       "      <td>119.0</td>\n",
       "      <td>82.0</td>\n",
       "      <td>2720.0</td>\n",
       "      <td>19.4</td>\n",
       "      <td>82</td>\n",
       "      <td>0</td>\n",
       "      <td>0</td>\n",
       "      <td>1</td>\n",
       "    </tr>\n",
       "  </tbody>\n",
       "</table>\n",
       "</div>"
      ],
      "text/plain": [
       "      MPG  Cylinders  Displacement  Horsepower  Weight  Acceleration  \\\n",
       "393  27.0          4         140.0        86.0  2790.0          15.6   \n",
       "394  44.0          4          97.0        52.0  2130.0          24.6   \n",
       "395  32.0          4         135.0        84.0  2295.0          11.6   \n",
       "396  28.0          4         120.0        79.0  2625.0          18.6   \n",
       "397  31.0          4         119.0        82.0  2720.0          19.4   \n",
       "\n",
       "     Model Year  Europe  Japan  USA  \n",
       "393          82       0      0    1  \n",
       "394          82       1      0    0  \n",
       "395          82       0      0    1  \n",
       "396          82       0      0    1  \n",
       "397          82       0      0    1  "
      ]
     },
     "execution_count": 210,
     "metadata": {},
     "output_type": "execute_result"
    }
   ],
   "source": [
    "dataset.tail()"
   ]
  },
  {
   "cell_type": "code",
   "execution_count": 256,
   "id": "0bef44a2",
   "metadata": {},
   "outputs": [
    {
     "data": {
      "text/plain": [
       "MPG             0\n",
       "Cylinders       0\n",
       "Displacement    0\n",
       "Horsepower      6\n",
       "Weight          0\n",
       "Acceleration    0\n",
       "Model Year      0\n",
       "Europe          0\n",
       "Japan           0\n",
       "USA             0\n",
       "dtype: int64"
      ]
     },
     "execution_count": 256,
     "metadata": {},
     "output_type": "execute_result"
    }
   ],
   "source": [
    "dataset.isna().sum()"
   ]
  },
  {
   "cell_type": "code",
   "execution_count": 257,
   "id": "550b6ec8",
   "metadata": {},
   "outputs": [],
   "source": [
    "dataset = dataset.dropna()"
   ]
  },
  {
   "cell_type": "code",
   "execution_count": 216,
   "id": "fe616480",
   "metadata": {},
   "outputs": [
    {
     "data": {
      "text/html": [
       "<div>\n",
       "<style scoped>\n",
       "    .dataframe tbody tr th:only-of-type {\n",
       "        vertical-align: middle;\n",
       "    }\n",
       "\n",
       "    .dataframe tbody tr th {\n",
       "        vertical-align: top;\n",
       "    }\n",
       "\n",
       "    .dataframe thead th {\n",
       "        text-align: right;\n",
       "    }\n",
       "</style>\n",
       "<table border=\"1\" class=\"dataframe\">\n",
       "  <thead>\n",
       "    <tr style=\"text-align: right;\">\n",
       "      <th></th>\n",
       "      <th>mean</th>\n",
       "      <th>std</th>\n",
       "    </tr>\n",
       "  </thead>\n",
       "  <tbody>\n",
       "    <tr>\n",
       "      <th>MPG</th>\n",
       "      <td>23.514573</td>\n",
       "      <td>7.815984</td>\n",
       "    </tr>\n",
       "    <tr>\n",
       "      <th>Cylinders</th>\n",
       "      <td>5.454774</td>\n",
       "      <td>1.701004</td>\n",
       "    </tr>\n",
       "    <tr>\n",
       "      <th>Displacement</th>\n",
       "      <td>193.425879</td>\n",
       "      <td>104.269838</td>\n",
       "    </tr>\n",
       "    <tr>\n",
       "      <th>Horsepower</th>\n",
       "      <td>104.469388</td>\n",
       "      <td>38.491160</td>\n",
       "    </tr>\n",
       "    <tr>\n",
       "      <th>Weight</th>\n",
       "      <td>2970.424623</td>\n",
       "      <td>846.841774</td>\n",
       "    </tr>\n",
       "    <tr>\n",
       "      <th>Acceleration</th>\n",
       "      <td>15.568090</td>\n",
       "      <td>2.757689</td>\n",
       "    </tr>\n",
       "    <tr>\n",
       "      <th>Model Year</th>\n",
       "      <td>76.010050</td>\n",
       "      <td>3.697627</td>\n",
       "    </tr>\n",
       "    <tr>\n",
       "      <th>Europe</th>\n",
       "      <td>0.175879</td>\n",
       "      <td>0.381197</td>\n",
       "    </tr>\n",
       "    <tr>\n",
       "      <th>Japan</th>\n",
       "      <td>0.198492</td>\n",
       "      <td>0.399367</td>\n",
       "    </tr>\n",
       "    <tr>\n",
       "      <th>USA</th>\n",
       "      <td>0.625628</td>\n",
       "      <td>0.484569</td>\n",
       "    </tr>\n",
       "  </tbody>\n",
       "</table>\n",
       "</div>"
      ],
      "text/plain": [
       "                     mean         std\n",
       "MPG             23.514573    7.815984\n",
       "Cylinders        5.454774    1.701004\n",
       "Displacement   193.425879  104.269838\n",
       "Horsepower     104.469388   38.491160\n",
       "Weight        2970.424623  846.841774\n",
       "Acceleration    15.568090    2.757689\n",
       "Model Year      76.010050    3.697627\n",
       "Europe           0.175879    0.381197\n",
       "Japan            0.198492    0.399367\n",
       "USA              0.625628    0.484569"
      ]
     },
     "execution_count": 216,
     "metadata": {},
     "output_type": "execute_result"
    }
   ],
   "source": [
    "dataset.describe().transpose()[['mean','std']]"
   ]
  },
  {
   "cell_type": "code",
   "execution_count": 258,
   "id": "ae5ac03a",
   "metadata": {},
   "outputs": [],
   "source": [
    "train_dataset = dataset.sample(frac=0.8, random_state=42)\n",
    "test_dataset = dataset.drop(train_dataset.index)"
   ]
  },
  {
   "cell_type": "code",
   "execution_count": 224,
   "id": "e61ad4ff",
   "metadata": {},
   "outputs": [
    {
     "data": {
      "text/html": [
       "<div>\n",
       "<style scoped>\n",
       "    .dataframe tbody tr th:only-of-type {\n",
       "        vertical-align: middle;\n",
       "    }\n",
       "\n",
       "    .dataframe tbody tr th {\n",
       "        vertical-align: top;\n",
       "    }\n",
       "\n",
       "    .dataframe thead th {\n",
       "        text-align: right;\n",
       "    }\n",
       "</style>\n",
       "<table border=\"1\" class=\"dataframe\">\n",
       "  <thead>\n",
       "    <tr style=\"text-align: right;\">\n",
       "      <th></th>\n",
       "      <th>MPG</th>\n",
       "      <th>Cylinders</th>\n",
       "      <th>Displacement</th>\n",
       "      <th>Horsepower</th>\n",
       "      <th>Weight</th>\n",
       "      <th>Acceleration</th>\n",
       "      <th>Model Year</th>\n",
       "      <th>Europe</th>\n",
       "      <th>Japan</th>\n",
       "      <th>USA</th>\n",
       "    </tr>\n",
       "  </thead>\n",
       "  <tbody>\n",
       "    <tr>\n",
       "      <th>198</th>\n",
       "      <td>33.0</td>\n",
       "      <td>4</td>\n",
       "      <td>91.0</td>\n",
       "      <td>53.0</td>\n",
       "      <td>1795.0</td>\n",
       "      <td>17.4</td>\n",
       "      <td>76</td>\n",
       "      <td>0</td>\n",
       "      <td>1</td>\n",
       "      <td>0</td>\n",
       "    </tr>\n",
       "    <tr>\n",
       "      <th>396</th>\n",
       "      <td>28.0</td>\n",
       "      <td>4</td>\n",
       "      <td>120.0</td>\n",
       "      <td>79.0</td>\n",
       "      <td>2625.0</td>\n",
       "      <td>18.6</td>\n",
       "      <td>82</td>\n",
       "      <td>0</td>\n",
       "      <td>0</td>\n",
       "      <td>1</td>\n",
       "    </tr>\n",
       "    <tr>\n",
       "      <th>33</th>\n",
       "      <td>19.0</td>\n",
       "      <td>6</td>\n",
       "      <td>232.0</td>\n",
       "      <td>100.0</td>\n",
       "      <td>2634.0</td>\n",
       "      <td>13.0</td>\n",
       "      <td>71</td>\n",
       "      <td>0</td>\n",
       "      <td>0</td>\n",
       "      <td>1</td>\n",
       "    </tr>\n",
       "    <tr>\n",
       "      <th>208</th>\n",
       "      <td>13.0</td>\n",
       "      <td>8</td>\n",
       "      <td>318.0</td>\n",
       "      <td>150.0</td>\n",
       "      <td>3940.0</td>\n",
       "      <td>13.2</td>\n",
       "      <td>76</td>\n",
       "      <td>0</td>\n",
       "      <td>0</td>\n",
       "      <td>1</td>\n",
       "    </tr>\n",
       "    <tr>\n",
       "      <th>93</th>\n",
       "      <td>14.0</td>\n",
       "      <td>8</td>\n",
       "      <td>318.0</td>\n",
       "      <td>150.0</td>\n",
       "      <td>4237.0</td>\n",
       "      <td>14.5</td>\n",
       "      <td>73</td>\n",
       "      <td>0</td>\n",
       "      <td>0</td>\n",
       "      <td>1</td>\n",
       "    </tr>\n",
       "  </tbody>\n",
       "</table>\n",
       "</div>"
      ],
      "text/plain": [
       "      MPG  Cylinders  Displacement  Horsepower  Weight  Acceleration  \\\n",
       "198  33.0          4          91.0        53.0  1795.0          17.4   \n",
       "396  28.0          4         120.0        79.0  2625.0          18.6   \n",
       "33   19.0          6         232.0       100.0  2634.0          13.0   \n",
       "208  13.0          8         318.0       150.0  3940.0          13.2   \n",
       "93   14.0          8         318.0       150.0  4237.0          14.5   \n",
       "\n",
       "     Model Year  Europe  Japan  USA  \n",
       "198          76       0      1    0  \n",
       "396          82       0      0    1  \n",
       "33           71       0      0    1  \n",
       "208          76       0      0    1  \n",
       "93           73       0      0    1  "
      ]
     },
     "execution_count": 224,
     "metadata": {},
     "output_type": "execute_result"
    }
   ],
   "source": [
    "train_dataset.head()"
   ]
  },
  {
   "cell_type": "code",
   "execution_count": 259,
   "id": "90d5079c",
   "metadata": {},
   "outputs": [],
   "source": [
    "train_features = train_dataset.drop(columns='MPG', axis=1)\n",
    "test_features = test_dataset.drop(columns='MPG', axis=1)"
   ]
  },
  {
   "cell_type": "code",
   "execution_count": 260,
   "id": "818a464b",
   "metadata": {},
   "outputs": [],
   "source": [
    "train_labels = train_dataset.pop('MPG')\n",
    "test_labels = test_dataset.pop('MPG')"
   ]
  },
  {
   "cell_type": "code",
   "execution_count": 235,
   "id": "873b3ae4",
   "metadata": {},
   "outputs": [],
   "source": [
    "from keras.layers import Normalization"
   ]
  },
  {
   "cell_type": "code",
   "execution_count": 261,
   "id": "8ec05c69",
   "metadata": {},
   "outputs": [],
   "source": [
    "normalizer = Normalization(axis=-1)"
   ]
  },
  {
   "cell_type": "code",
   "execution_count": 262,
   "id": "48820f92",
   "metadata": {},
   "outputs": [],
   "source": [
    "normalizer.adapt(np.array(train_features))"
   ]
  },
  {
   "cell_type": "code",
   "execution_count": 268,
   "id": "de28996e",
   "metadata": {},
   "outputs": [
    {
     "name": "stdout",
     "output_type": "stream",
     "text": [
      "[[   5.532  197.855  105.971 3005.746   15.511   75.911    0.172    0.204\n",
      "     0.624]]\n"
     ]
    }
   ],
   "source": [
    "print(normalizer.mean.numpy())"
   ]
  },
  {
   "cell_type": "code",
   "execution_count": 264,
   "id": "f25ae1cc",
   "metadata": {},
   "outputs": [
    {
     "name": "stdout",
     "output_type": "stream",
     "text": [
      "[[   4.   96.   69. 2189.   18.   72.    1.    0.    0.]]\n",
      "[[-0.887 -0.958 -0.934 -0.952  0.889 -1.062  2.194 -0.506 -1.289]]\n"
     ]
    }
   ],
   "source": [
    "print(np.array(train_features[:1]))\n",
    "print(normalizer(np.array(train_features[:1])).numpy())"
   ]
  },
  {
   "cell_type": "markdown",
   "id": "7d749a36",
   "metadata": {},
   "source": [
    "### With One Input"
   ]
  },
  {
   "cell_type": "code",
   "execution_count": 269,
   "id": "9a760a0b",
   "metadata": {},
   "outputs": [],
   "source": [
    "horsepower = np.array(train_features['Horsepower'])"
   ]
  },
  {
   "cell_type": "code",
   "execution_count": 270,
   "id": "71065745",
   "metadata": {},
   "outputs": [],
   "source": [
    "hp_normalizer = Normalization(input_shape=[1,], axis=None)\n",
    "hp_normalizer.adapt(horsepower)"
   ]
  },
  {
   "cell_type": "code",
   "execution_count": 271,
   "id": "4606ddb0",
   "metadata": {},
   "outputs": [],
   "source": [
    "hp_model = Sequential([\n",
    "    hp_normalizer,\n",
    "    Dense(units=1)\n",
    "])"
   ]
  },
  {
   "cell_type": "code",
   "execution_count": 272,
   "id": "a5e59051",
   "metadata": {},
   "outputs": [
    {
     "name": "stdout",
     "output_type": "stream",
     "text": [
      "Model: \"sequential_169\"\n",
      "_________________________________________________________________\n",
      "Layer (type)                 Output Shape              Param #   \n",
      "=================================================================\n",
      "normalization_5 (Normalizati (None, 1)                 3         \n",
      "_________________________________________________________________\n",
      "dense_677 (Dense)            (None, 1)                 2         \n",
      "=================================================================\n",
      "Total params: 5\n",
      "Trainable params: 2\n",
      "Non-trainable params: 3\n",
      "_________________________________________________________________\n"
     ]
    }
   ],
   "source": [
    "hp_model.summary()"
   ]
  },
  {
   "cell_type": "code",
   "execution_count": 274,
   "id": "bb38ee15",
   "metadata": {},
   "outputs": [],
   "source": [
    "import tensorflow as tf"
   ]
  },
  {
   "cell_type": "code",
   "execution_count": 275,
   "id": "357eb01b",
   "metadata": {},
   "outputs": [],
   "source": [
    "hp_model.compile(optimizer=tf.optimizers.Adam(learning_rate=0.1), loss='mean_absolute_error')"
   ]
  },
  {
   "cell_type": "code",
   "execution_count": 276,
   "id": "f5e94da2",
   "metadata": {},
   "outputs": [
    {
     "name": "stdout",
     "output_type": "stream",
     "text": [
      "Epoch 1/100\n",
      "8/8 - 0s - loss: 23.0582 - val_loss: 21.3906\n",
      "Epoch 2/100\n",
      "8/8 - 0s - loss: 22.2493 - val_loss: 20.6098\n",
      "Epoch 3/100\n",
      "8/8 - 0s - loss: 21.4507 - val_loss: 19.8521\n",
      "Epoch 4/100\n",
      "8/8 - 0s - loss: 20.6461 - val_loss: 19.0898\n",
      "Epoch 5/100\n",
      "8/8 - 0s - loss: 19.8294 - val_loss: 18.3079\n",
      "Epoch 6/100\n",
      "8/8 - 0s - loss: 19.0226 - val_loss: 17.5208\n",
      "Epoch 7/100\n",
      "8/8 - 0s - loss: 18.2194 - val_loss: 16.7271\n",
      "Epoch 8/100\n",
      "8/8 - 0s - loss: 17.4140 - val_loss: 15.9510\n",
      "Epoch 9/100\n",
      "8/8 - 0s - loss: 16.6133 - val_loss: 15.1858\n",
      "Epoch 10/100\n",
      "8/8 - 0s - loss: 15.8010 - val_loss: 14.4006\n",
      "Epoch 11/100\n",
      "8/8 - 0s - loss: 14.9973 - val_loss: 13.6262\n",
      "Epoch 12/100\n",
      "8/8 - 0s - loss: 14.2043 - val_loss: 12.8682\n",
      "Epoch 13/100\n",
      "8/8 - 0s - loss: 13.3823 - val_loss: 12.0814\n",
      "Epoch 14/100\n",
      "8/8 - 0s - loss: 12.5797 - val_loss: 11.3052\n",
      "Epoch 15/100\n",
      "8/8 - 0s - loss: 11.7735 - val_loss: 10.5163\n",
      "Epoch 16/100\n",
      "8/8 - 0s - loss: 10.9680 - val_loss: 9.7325\n",
      "Epoch 17/100\n",
      "8/8 - 0s - loss: 10.1805 - val_loss: 8.9694\n",
      "Epoch 18/100\n",
      "8/8 - 0s - loss: 9.3886 - val_loss: 8.1994\n",
      "Epoch 19/100\n",
      "8/8 - 0s - loss: 8.6129 - val_loss: 7.4205\n",
      "Epoch 20/100\n",
      "8/8 - 0s - loss: 7.8544 - val_loss: 6.6585\n",
      "Epoch 21/100\n",
      "8/8 - 0s - loss: 7.1452 - val_loss: 5.9738\n",
      "Epoch 22/100\n",
      "8/8 - 0s - loss: 6.4665 - val_loss: 5.3904\n",
      "Epoch 23/100\n",
      "8/8 - 0s - loss: 5.8775 - val_loss: 4.9491\n",
      "Epoch 24/100\n",
      "8/8 - 0s - loss: 5.3606 - val_loss: 4.6182\n",
      "Epoch 25/100\n",
      "8/8 - 0s - loss: 4.9889 - val_loss: 4.3461\n",
      "Epoch 26/100\n",
      "8/8 - 0s - loss: 4.7122 - val_loss: 4.1132\n",
      "Epoch 27/100\n",
      "8/8 - 0s - loss: 4.5157 - val_loss: 3.9287\n",
      "Epoch 28/100\n",
      "8/8 - 0s - loss: 4.3604 - val_loss: 3.7799\n",
      "Epoch 29/100\n",
      "8/8 - 0s - loss: 4.2323 - val_loss: 3.6681\n",
      "Epoch 30/100\n",
      "8/8 - 0s - loss: 4.1378 - val_loss: 3.5783\n",
      "Epoch 31/100\n",
      "8/8 - 0s - loss: 4.0756 - val_loss: 3.5098\n",
      "Epoch 32/100\n",
      "8/8 - 0s - loss: 4.0293 - val_loss: 3.4502\n",
      "Epoch 33/100\n",
      "8/8 - 0s - loss: 3.9953 - val_loss: 3.4235\n",
      "Epoch 34/100\n",
      "8/8 - 0s - loss: 3.9752 - val_loss: 3.3869\n",
      "Epoch 35/100\n",
      "8/8 - 0s - loss: 3.9556 - val_loss: 3.3656\n",
      "Epoch 36/100\n",
      "8/8 - 0s - loss: 3.9418 - val_loss: 3.3624\n",
      "Epoch 37/100\n",
      "8/8 - 0s - loss: 3.9390 - val_loss: 3.3590\n",
      "Epoch 38/100\n",
      "8/8 - 0s - loss: 3.9282 - val_loss: 3.3754\n",
      "Epoch 39/100\n",
      "8/8 - 0s - loss: 3.9227 - val_loss: 3.3628\n",
      "Epoch 40/100\n",
      "8/8 - 0s - loss: 3.9166 - val_loss: 3.3509\n",
      "Epoch 41/100\n",
      "8/8 - 0s - loss: 3.9150 - val_loss: 3.3349\n",
      "Epoch 42/100\n",
      "8/8 - 0s - loss: 3.9132 - val_loss: 3.3319\n",
      "Epoch 43/100\n",
      "8/8 - 0s - loss: 3.9089 - val_loss: 3.3332\n",
      "Epoch 44/100\n",
      "8/8 - 0s - loss: 3.9099 - val_loss: 3.3293\n",
      "Epoch 45/100\n",
      "8/8 - 0s - loss: 3.9098 - val_loss: 3.3203\n",
      "Epoch 46/100\n",
      "8/8 - 0s - loss: 3.9094 - val_loss: 3.3167\n",
      "Epoch 47/100\n",
      "8/8 - 0s - loss: 3.9074 - val_loss: 3.3316\n",
      "Epoch 48/100\n",
      "8/8 - 0s - loss: 3.9063 - val_loss: 3.3308\n",
      "Epoch 49/100\n",
      "8/8 - 0s - loss: 3.9055 - val_loss: 3.3141\n",
      "Epoch 50/100\n",
      "8/8 - 0s - loss: 3.9052 - val_loss: 3.3080\n",
      "Epoch 51/100\n",
      "8/8 - 0s - loss: 3.9058 - val_loss: 3.3129\n",
      "Epoch 52/100\n",
      "8/8 - 0s - loss: 3.9056 - val_loss: 3.3144\n",
      "Epoch 53/100\n",
      "8/8 - 0s - loss: 3.9060 - val_loss: 3.3132\n",
      "Epoch 54/100\n",
      "8/8 - 0s - loss: 3.9049 - val_loss: 3.3305\n",
      "Epoch 55/100\n",
      "8/8 - 0s - loss: 3.9056 - val_loss: 3.3164\n",
      "Epoch 56/100\n",
      "8/8 - 0s - loss: 3.9058 - val_loss: 3.3077\n",
      "Epoch 57/100\n",
      "8/8 - 0s - loss: 3.9040 - val_loss: 3.3154\n",
      "Epoch 58/100\n",
      "8/8 - 0s - loss: 3.9058 - val_loss: 3.3332\n",
      "Epoch 59/100\n",
      "8/8 - 0s - loss: 3.9046 - val_loss: 3.3290\n",
      "Epoch 60/100\n",
      "8/8 - 0s - loss: 3.9042 - val_loss: 3.3108\n",
      "Epoch 61/100\n",
      "8/8 - 0s - loss: 3.9047 - val_loss: 3.3075\n",
      "Epoch 62/100\n",
      "8/8 - 0s - loss: 3.9048 - val_loss: 3.3076\n",
      "Epoch 63/100\n",
      "8/8 - 0s - loss: 3.9051 - val_loss: 3.3177\n",
      "Epoch 64/100\n",
      "8/8 - 0s - loss: 3.9058 - val_loss: 3.3279\n",
      "Epoch 65/100\n",
      "8/8 - 0s - loss: 3.9077 - val_loss: 3.3342\n",
      "Epoch 66/100\n",
      "8/8 - 0s - loss: 3.9048 - val_loss: 3.3229\n",
      "Epoch 67/100\n",
      "8/8 - 0s - loss: 3.9078 - val_loss: 3.3091\n",
      "Epoch 68/100\n",
      "8/8 - 0s - loss: 3.9049 - val_loss: 3.3178\n",
      "Epoch 69/100\n",
      "8/8 - 0s - loss: 3.9080 - val_loss: 3.3292\n",
      "Epoch 70/100\n",
      "8/8 - 0s - loss: 3.9051 - val_loss: 3.3135\n",
      "Epoch 71/100\n",
      "8/8 - 0s - loss: 3.9049 - val_loss: 3.3186\n",
      "Epoch 72/100\n",
      "8/8 - 0s - loss: 3.9069 - val_loss: 3.3121\n",
      "Epoch 73/100\n",
      "8/8 - 0s - loss: 3.9042 - val_loss: 3.3229\n",
      "Epoch 74/100\n",
      "8/8 - 0s - loss: 3.9045 - val_loss: 3.3324\n",
      "Epoch 75/100\n",
      "8/8 - 0s - loss: 3.9052 - val_loss: 3.3276\n",
      "Epoch 76/100\n",
      "8/8 - 0s - loss: 3.9074 - val_loss: 3.3297\n",
      "Epoch 77/100\n",
      "8/8 - 0s - loss: 3.9091 - val_loss: 3.3053\n",
      "Epoch 78/100\n",
      "8/8 - 0s - loss: 3.9061 - val_loss: 3.3086\n",
      "Epoch 79/100\n",
      "8/8 - 0s - loss: 3.9066 - val_loss: 3.3302\n",
      "Epoch 80/100\n",
      "8/8 - 0s - loss: 3.9052 - val_loss: 3.3157\n",
      "Epoch 81/100\n",
      "8/8 - 0s - loss: 3.9090 - val_loss: 3.3124\n",
      "Epoch 82/100\n",
      "8/8 - 0s - loss: 3.9054 - val_loss: 3.3108\n",
      "Epoch 83/100\n",
      "8/8 - 0s - loss: 3.9033 - val_loss: 3.3217\n",
      "Epoch 84/100\n",
      "8/8 - 0s - loss: 3.9089 - val_loss: 3.3210\n",
      "Epoch 85/100\n",
      "8/8 - 0s - loss: 3.9045 - val_loss: 3.3198\n",
      "Epoch 86/100\n",
      "8/8 - 0s - loss: 3.9043 - val_loss: 3.3257\n",
      "Epoch 87/100\n",
      "8/8 - 0s - loss: 3.9054 - val_loss: 3.3231\n",
      "Epoch 88/100\n",
      "8/8 - 0s - loss: 3.9044 - val_loss: 3.3195\n",
      "Epoch 89/100\n",
      "8/8 - 0s - loss: 3.9045 - val_loss: 3.3172\n",
      "Epoch 90/100\n",
      "8/8 - 0s - loss: 3.9063 - val_loss: 3.3316\n",
      "Epoch 91/100\n",
      "8/8 - 0s - loss: 3.9058 - val_loss: 3.3267\n",
      "Epoch 92/100\n",
      "8/8 - 0s - loss: 3.9069 - val_loss: 3.3194\n",
      "Epoch 93/100\n",
      "8/8 - 0s - loss: 3.9060 - val_loss: 3.3105\n",
      "Epoch 94/100\n",
      "8/8 - 0s - loss: 3.9052 - val_loss: 3.3106\n",
      "Epoch 95/100\n",
      "8/8 - 0s - loss: 3.9064 - val_loss: 3.3218\n",
      "Epoch 96/100\n",
      "8/8 - 0s - loss: 3.9058 - val_loss: 3.3294\n",
      "Epoch 97/100\n",
      "8/8 - 0s - loss: 3.9084 - val_loss: 3.3240\n",
      "Epoch 98/100\n",
      "8/8 - 0s - loss: 3.9082 - val_loss: 3.3035\n",
      "Epoch 99/100\n",
      "8/8 - 0s - loss: 3.9058 - val_loss: 3.3119\n",
      "Epoch 100/100\n",
      "8/8 - 0s - loss: 3.9055 - val_loss: 3.3199\n"
     ]
    }
   ],
   "source": [
    "history = hp_model.fit(train_features['Horsepower'], train_labels, epochs=100, verbose=2, validation_split=0.2)"
   ]
  },
  {
   "cell_type": "code",
   "execution_count": 277,
   "id": "2b49853d",
   "metadata": {},
   "outputs": [
    {
     "data": {
      "text/plain": [
       "<matplotlib.legend.Legend at 0x254fb7c37f0>"
      ]
     },
     "execution_count": 277,
     "metadata": {},
     "output_type": "execute_result"
    },
    {
     "data": {
      "image/png": "[encoded data removed]",
      "text/plain": [
       "<Figure size 432x288 with 1 Axes>"
      ]
     },
     "metadata": {
      "needs_background": "light"
     },
     "output_type": "display_data"
    }
   ],
   "source": [
    "plt.plot(history.history['loss'])\n",
    "plt.plot(history.history['val_loss'])\n",
    "plt.title('model loss')\n",
    "plt.xlabel('epoch')\n",
    "plt.ylabel('loss')\n",
    "plt.legend(['train','validation'], loc='upper left')"
   ]
  },
  {
   "cell_type": "code",
   "execution_count": 278,
   "id": "89340b6c",
   "metadata": {},
   "outputs": [
    {
     "name": "stdout",
     "output_type": "stream",
     "text": [
      "3/3 [==============================] - 0s 997us/step - loss: 3.9446\n"
     ]
    }
   ],
   "source": [
    "test_results = {}\n",
    "\n",
    "test_results['hp_model_linreg'] = hp_model.evaluate(test_features['Horsepower'], test_labels)"
   ]
  },
  {
   "cell_type": "code",
   "execution_count": 279,
   "id": "ef1d8ce4",
   "metadata": {},
   "outputs": [
    {
     "data": {
      "text/plain": [
       "{'hp_model_linreg': 3.944617748260498}"
      ]
     },
     "execution_count": 279,
     "metadata": {},
     "output_type": "execute_result"
    }
   ],
   "source": [
    "test_results"
   ]
  },
  {
   "cell_type": "code",
   "execution_count": 280,
   "id": "06227024",
   "metadata": {},
   "outputs": [],
   "source": [
    "x = tf.linspace(0,250,251)\n",
    "y = hp_model.predict(x)"
   ]
  },
  {
   "cell_type": "code",
   "execution_count": 281,
   "id": "fc9f1dce",
   "metadata": {},
   "outputs": [
    {
     "data": {
      "text/plain": [
       "<matplotlib.legend.Legend at 0x254fba680d0>"
      ]
     },
     "execution_count": 281,
     "metadata": {},
     "output_type": "execute_result"
    },
    {
     "data": {
      "image/png": "[encoded data removed]",
      "text/plain": [
       "<Figure size 432x288 with 1 Axes>"
      ]
     },
     "metadata": {
      "needs_background": "light"
     },
     "output_type": "display_data"
    }
   ],
   "source": [
    "plt.scatter(train_features['Horsepower'], train_labels, label='Data')\n",
    "plt.plot(x ,y, color='k', label='Predictions')\n",
    "plt.xlabel('Horsepower')\n",
    "plt.ylabel('MPG')\n",
    "plt.legend()"
   ]
  },
  {
   "cell_type": "markdown",
   "id": "b6f43a92",
   "metadata": {},
   "source": [
    "### With Mulitple Input"
   ]
  },
  {
   "cell_type": "code",
   "execution_count": 282,
   "id": "638af945",
   "metadata": {},
   "outputs": [],
   "source": [
    "linear_model = Sequential([\n",
    "    normalizer,\n",
    "    Dense(units=1)\n",
    "])"
   ]
  },
  {
   "cell_type": "code",
   "execution_count": 283,
   "id": "f29a20fe",
   "metadata": {},
   "outputs": [
    {
     "name": "stdout",
     "output_type": "stream",
     "text": [
      "Model: \"sequential_170\"\n",
      "_________________________________________________________________\n",
      "Layer (type)                 Output Shape              Param #   \n",
      "=================================================================\n",
      "normalization_4 (Normalizati (None, 9)                 19        \n",
      "_________________________________________________________________\n",
      "dense_678 (Dense)            (None, 1)                 10        \n",
      "=================================================================\n",
      "Total params: 29\n",
      "Trainable params: 10\n",
      "Non-trainable params: 19\n",
      "_________________________________________________________________\n"
     ]
    }
   ],
   "source": [
    "linear_model.summary()"
   ]
  },
  {
   "cell_type": "code",
   "execution_count": 284,
   "id": "0896a6d0",
   "metadata": {},
   "outputs": [],
   "source": [
    "linear_model.compile(optimizer=tf.optimizers.Adam(learning_rate=0.1), loss='mean_absolute_error')"
   ]
  },
  {
   "cell_type": "code",
   "execution_count": 285,
   "id": "9cecac61",
   "metadata": {},
   "outputs": [
    {
     "name": "stdout",
     "output_type": "stream",
     "text": [
      "Epoch 1/100\n",
      "8/8 - 0s - loss: 23.1887 - val_loss: 21.8042\n",
      "Epoch 2/100\n",
      "8/8 - 0s - loss: 22.1898 - val_loss: 21.1472\n",
      "Epoch 3/100\n",
      "8/8 - 0s - loss: 21.3168 - val_loss: 20.4959\n",
      "Epoch 4/100\n",
      "8/8 - 0s - loss: 20.4753 - val_loss: 19.8672\n",
      "Epoch 5/100\n",
      "8/8 - 0s - loss: 19.6303 - val_loss: 19.2915\n",
      "Epoch 6/100\n",
      "8/8 - 0s - loss: 18.8015 - val_loss: 18.7535\n",
      "Epoch 7/100\n",
      "8/8 - 0s - loss: 17.9061 - val_loss: 18.1037\n",
      "Epoch 8/100\n",
      "8/8 - 0s - loss: 17.0740 - val_loss: 17.5125\n",
      "Epoch 9/100\n",
      "8/8 - 0s - loss: 16.2209 - val_loss: 16.9114\n",
      "Epoch 10/100\n",
      "8/8 - 0s - loss: 15.3970 - val_loss: 16.3361\n",
      "Epoch 11/100\n",
      "8/8 - 0s - loss: 14.5657 - val_loss: 15.7679\n",
      "Epoch 12/100\n",
      "8/8 - 0s - loss: 13.7411 - val_loss: 15.1444\n",
      "Epoch 13/100\n",
      "8/8 - 0s - loss: 12.9623 - val_loss: 14.5075\n",
      "Epoch 14/100\n",
      "8/8 - 0s - loss: 12.2350 - val_loss: 13.8928\n",
      "Epoch 15/100\n",
      "8/8 - 0s - loss: 11.4912 - val_loss: 12.9452\n",
      "Epoch 16/100\n",
      "8/8 - 0s - loss: 10.7374 - val_loss: 12.0924\n",
      "Epoch 17/100\n",
      "8/8 - 0s - loss: 10.0076 - val_loss: 11.1457\n",
      "Epoch 18/100\n",
      "8/8 - 0s - loss: 9.2633 - val_loss: 10.3099\n",
      "Epoch 19/100\n",
      "8/8 - 0s - loss: 8.5539 - val_loss: 9.2968\n",
      "Epoch 20/100\n",
      "8/8 - 0s - loss: 7.8156 - val_loss: 8.4809\n",
      "Epoch 21/100\n",
      "8/8 - 0s - loss: 7.1335 - val_loss: 7.5499\n",
      "Epoch 22/100\n",
      "8/8 - 0s - loss: 6.4412 - val_loss: 6.7435\n",
      "Epoch 23/100\n",
      "8/8 - 0s - loss: 5.7724 - val_loss: 5.9308\n",
      "Epoch 24/100\n",
      "8/8 - 0s - loss: 5.1496 - val_loss: 5.1495\n",
      "Epoch 25/100\n",
      "8/8 - 0s - loss: 4.5576 - val_loss: 4.4363\n",
      "Epoch 26/100\n",
      "8/8 - 0s - loss: 4.0318 - val_loss: 3.6981\n",
      "Epoch 27/100\n",
      "8/8 - 0s - loss: 3.5495 - val_loss: 3.1792\n",
      "Epoch 28/100\n",
      "8/8 - 0s - loss: 3.1423 - val_loss: 2.8838\n",
      "Epoch 29/100\n",
      "8/8 - 0s - loss: 2.9086 - val_loss: 2.6621\n",
      "Epoch 30/100\n",
      "8/8 - 0s - loss: 2.7676 - val_loss: 2.6074\n",
      "Epoch 31/100\n",
      "8/8 - 0s - loss: 2.6552 - val_loss: 2.4508\n",
      "Epoch 32/100\n",
      "8/8 - 0s - loss: 2.5476 - val_loss: 2.4522\n",
      "Epoch 33/100\n",
      "8/8 - 0s - loss: 2.5308 - val_loss: 2.3967\n",
      "Epoch 34/100\n",
      "8/8 - 0s - loss: 2.4993 - val_loss: 2.3980\n",
      "Epoch 35/100\n",
      "8/8 - 0s - loss: 2.5061 - val_loss: 2.3699\n",
      "Epoch 36/100\n",
      "8/8 - 0s - loss: 2.4834 - val_loss: 2.3731\n",
      "Epoch 37/100\n",
      "8/8 - 0s - loss: 2.4847 - val_loss: 2.3757\n",
      "Epoch 38/100\n",
      "8/8 - 0s - loss: 2.4762 - val_loss: 2.3599\n",
      "Epoch 39/100\n",
      "8/8 - 0s - loss: 2.4815 - val_loss: 2.3710\n",
      "Epoch 40/100\n",
      "8/8 - 0s - loss: 2.4880 - val_loss: 2.3556\n",
      "Epoch 41/100\n",
      "8/8 - 0s - loss: 2.4782 - val_loss: 2.3539\n",
      "Epoch 42/100\n",
      "8/8 - 0s - loss: 2.4930 - val_loss: 2.3616\n",
      "Epoch 43/100\n",
      "8/8 - 0s - loss: 2.4640 - val_loss: 2.3869\n",
      "Epoch 44/100\n",
      "8/8 - 0s - loss: 2.4735 - val_loss: 2.3721\n",
      "Epoch 45/100\n",
      "8/8 - 0s - loss: 2.4653 - val_loss: 2.3591\n",
      "Epoch 46/100\n",
      "8/8 - 0s - loss: 2.4706 - val_loss: 2.3721\n",
      "Epoch 47/100\n",
      "8/8 - 0s - loss: 2.4659 - val_loss: 2.3702\n",
      "Epoch 48/100\n",
      "8/8 - 0s - loss: 2.4809 - val_loss: 2.3757\n",
      "Epoch 49/100\n",
      "8/8 - 0s - loss: 2.4595 - val_loss: 2.3858\n",
      "Epoch 50/100\n",
      "8/8 - 0s - loss: 2.4780 - val_loss: 2.3937\n",
      "Epoch 51/100\n",
      "8/8 - 0s - loss: 2.4821 - val_loss: 2.3848\n",
      "Epoch 52/100\n",
      "8/8 - 0s - loss: 2.4647 - val_loss: 2.4123\n",
      "Epoch 53/100\n",
      "8/8 - 0s - loss: 2.4658 - val_loss: 2.4156\n",
      "Epoch 54/100\n",
      "8/8 - 0s - loss: 2.4903 - val_loss: 2.3749\n",
      "Epoch 55/100\n",
      "8/8 - 0s - loss: 2.5191 - val_loss: 2.3803\n",
      "Epoch 56/100\n",
      "8/8 - 0s - loss: 2.5186 - val_loss: 2.4206\n",
      "Epoch 57/100\n",
      "8/8 - 0s - loss: 2.5019 - val_loss: 2.4359\n",
      "Epoch 58/100\n",
      "8/8 - 0s - loss: 2.5019 - val_loss: 2.4831\n",
      "Epoch 59/100\n",
      "8/8 - 0s - loss: 2.4657 - val_loss: 2.4056\n",
      "Epoch 60/100\n",
      "8/8 - 0s - loss: 2.4697 - val_loss: 2.3948\n",
      "Epoch 61/100\n",
      "8/8 - 0s - loss: 2.4696 - val_loss: 2.4066\n",
      "Epoch 62/100\n",
      "8/8 - 0s - loss: 2.4825 - val_loss: 2.3921\n",
      "Epoch 63/100\n",
      "8/8 - 0s - loss: 2.4682 - val_loss: 2.4185\n",
      "Epoch 64/100\n",
      "8/8 - 0s - loss: 2.4756 - val_loss: 2.4626\n",
      "Epoch 65/100\n",
      "8/8 - 0s - loss: 2.4711 - val_loss: 2.3996\n",
      "Epoch 66/100\n",
      "8/8 - 0s - loss: 2.4945 - val_loss: 2.4106\n",
      "Epoch 67/100\n",
      "8/8 - 0s - loss: 2.4759 - val_loss: 2.4595\n",
      "Epoch 68/100\n",
      "8/8 - 0s - loss: 2.4806 - val_loss: 2.4162\n",
      "Epoch 69/100\n",
      "8/8 - 0s - loss: 2.4652 - val_loss: 2.4111\n",
      "Epoch 70/100\n",
      "8/8 - 0s - loss: 2.4830 - val_loss: 2.3931\n",
      "Epoch 71/100\n",
      "8/8 - 0s - loss: 2.4693 - val_loss: 2.4277\n",
      "Epoch 72/100\n",
      "8/8 - 0s - loss: 2.4666 - val_loss: 2.4132\n",
      "Epoch 73/100\n",
      "8/8 - 0s - loss: 2.4477 - val_loss: 2.4095\n",
      "Epoch 74/100\n",
      "8/8 - 0s - loss: 2.4512 - val_loss: 2.4046\n",
      "Epoch 75/100\n",
      "8/8 - 0s - loss: 2.4540 - val_loss: 2.4097\n",
      "Epoch 76/100\n",
      "8/8 - 0s - loss: 2.4557 - val_loss: 2.4038\n",
      "Epoch 77/100\n",
      "8/8 - 0s - loss: 2.4662 - val_loss: 2.3869\n",
      "Epoch 78/100\n",
      "8/8 - 0s - loss: 2.4780 - val_loss: 2.4263\n",
      "Epoch 79/100\n",
      "8/8 - 0s - loss: 2.4605 - val_loss: 2.4248\n",
      "Epoch 80/100\n",
      "8/8 - 0s - loss: 2.4544 - val_loss: 2.4117\n",
      "Epoch 81/100\n",
      "8/8 - 0s - loss: 2.4635 - val_loss: 2.4098\n",
      "Epoch 82/100\n",
      "8/8 - 0s - loss: 2.4897 - val_loss: 2.4227\n",
      "Epoch 83/100\n",
      "8/8 - 0s - loss: 2.4670 - val_loss: 2.4242\n",
      "Epoch 84/100\n",
      "8/8 - 0s - loss: 2.4721 - val_loss: 2.4161\n",
      "Epoch 85/100\n",
      "8/8 - 0s - loss: 2.4515 - val_loss: 2.4170\n",
      "Epoch 86/100\n",
      "8/8 - 0s - loss: 2.4747 - val_loss: 2.4173\n",
      "Epoch 87/100\n",
      "8/8 - 0s - loss: 2.4813 - val_loss: 2.4198\n",
      "Epoch 88/100\n",
      "8/8 - 0s - loss: 2.4885 - val_loss: 2.4429\n",
      "Epoch 89/100\n",
      "8/8 - 0s - loss: 2.4826 - val_loss: 2.4900\n",
      "Epoch 90/100\n",
      "8/8 - 0s - loss: 2.4499 - val_loss: 2.4202\n",
      "Epoch 91/100\n",
      "8/8 - 0s - loss: 2.4682 - val_loss: 2.4080\n",
      "Epoch 92/100\n",
      "8/8 - 0s - loss: 2.4511 - val_loss: 2.4116\n",
      "Epoch 93/100\n",
      "8/8 - 0s - loss: 2.4550 - val_loss: 2.4145\n",
      "Epoch 94/100\n",
      "8/8 - 0s - loss: 2.4464 - val_loss: 2.4097\n",
      "Epoch 95/100\n",
      "8/8 - 0s - loss: 2.4568 - val_loss: 2.4194\n",
      "Epoch 96/100\n",
      "8/8 - 0s - loss: 2.4482 - val_loss: 2.4272\n",
      "Epoch 97/100\n",
      "8/8 - 0s - loss: 2.4678 - val_loss: 2.4253\n",
      "Epoch 98/100\n",
      "8/8 - 0s - loss: 2.4519 - val_loss: 2.4098\n",
      "Epoch 99/100\n",
      "8/8 - 0s - loss: 2.4495 - val_loss: 2.4027\n",
      "Epoch 100/100\n",
      "8/8 - 0s - loss: 2.4681 - val_loss: 2.4195\n"
     ]
    }
   ],
   "source": [
    "history = linear_model.fit(train_features, train_labels, epochs=100, verbose=2, validation_split=0.2)"
   ]
  },
  {
   "cell_type": "code",
   "execution_count": 286,
   "id": "28c3d5fd",
   "metadata": {},
   "outputs": [
    {
     "data": {
      "text/plain": [
       "<matplotlib.legend.Legend at 0x254fba80820>"
      ]
     },
     "execution_count": 286,
     "metadata": {},
     "output_type": "execute_result"
    },
    {
     "data": {
      "image/png": "[encoded data removed]",
      "text/plain": [
       "<Figure size 432x288 with 1 Axes>"
      ]
     },
     "metadata": {
      "needs_background": "light"
     },
     "output_type": "display_data"
    }
   ],
   "source": [
    "plt.plot(history.history['loss'])\n",
    "plt.plot(history.history['val_loss'])\n",
    "plt.title('model loss')\n",
    "plt.xlabel('epoch')\n",
    "plt.ylabel('loss')\n",
    "plt.legend(['train','validation'], loc='upper left')"
   ]
  },
  {
   "cell_type": "code",
   "execution_count": 287,
   "id": "8d4699d2",
   "metadata": {},
   "outputs": [
    {
     "name": "stdout",
     "output_type": "stream",
     "text": [
      "3/3 [==============================] - 0s 997us/step - loss: 2.5040\n"
     ]
    }
   ],
   "source": [
    "test_results['model_linreg'] = linear_model.evaluate(test_features, test_labels)"
   ]
  },
  {
   "cell_type": "code",
   "execution_count": 288,
   "id": "1ca6bc6e",
   "metadata": {},
   "outputs": [
    {
     "data": {
      "text/plain": [
       "{'hp_model_linreg': 3.944617748260498, 'model_linreg': 2.5039665699005127}"
      ]
     },
     "execution_count": 288,
     "metadata": {},
     "output_type": "execute_result"
    }
   ],
   "source": [
    "test_results"
   ]
  },
  {
   "cell_type": "code",
   "execution_count": 289,
   "id": "6dd914bc",
   "metadata": {},
   "outputs": [
    {
     "data": {
      "text/plain": [
       "array([[14.464],\n",
       "       [19.276],\n",
       "       [21.391],\n",
       "       [22.648],\n",
       "       [17.38 ],\n",
       "       [ 8.146],\n",
       "       [22.876],\n",
       "       [25.154],\n",
       "       [24.843],\n",
       "       [28.323]], dtype=float32)"
      ]
     },
     "execution_count": 289,
     "metadata": {},
     "output_type": "execute_result"
    }
   ],
   "source": [
    "linear_model.predict(test_features[:10])"
   ]
  },
  {
   "cell_type": "code",
   "execution_count": 292,
   "id": "e707d31f",
   "metadata": {},
   "outputs": [
    {
     "data": {
      "text/plain": [
       "<tf.Variable 'dense_678/kernel:0' shape=(9, 1) dtype=float32, numpy=\n",
       "array([[-1.46 ],\n",
       "       [ 1.902],\n",
       "       [-0.237],\n",
       "       [-4.641],\n",
       "       [-0.017],\n",
       "       [ 2.507],\n",
       "       [-0.078],\n",
       "       [ 0.706],\n",
       "       [-1.013]], dtype=float32)>"
      ]
     },
     "execution_count": 292,
     "metadata": {},
     "output_type": "execute_result"
    }
   ],
   "source": [
    "linear_model.layers[1].kernel"
   ]
  },
  {
   "cell_type": "markdown",
   "id": "3e2e1fcf",
   "metadata": {},
   "source": [
    "### DNN"
   ]
  },
  {
   "cell_type": "code",
   "execution_count": 298,
   "id": "bd3a49bc",
   "metadata": {},
   "outputs": [],
   "source": [
    "def build_model(norm):\n",
    "    model = Sequential([\n",
    "        norm,\n",
    "        Dense(64, activation='relu'),\n",
    "        Dense(64, activation='relu'),\n",
    "        Dense(1)\n",
    "    ])\n",
    "    model.compile(optimizer=tf.optimizers.Adam(learning_rate=0.001), loss='mean_absolute_error')\n",
    "    return model"
   ]
  },
  {
   "cell_type": "markdown",
   "id": "a72aed45",
   "metadata": {},
   "source": [
    "### Deep Neural Network with One Input"
   ]
  },
  {
   "cell_type": "code",
   "execution_count": 299,
   "id": "e5599cad",
   "metadata": {},
   "outputs": [],
   "source": [
    "dnn_hp_model = build_model(hp_normalizer)"
   ]
  },
  {
   "cell_type": "code",
   "execution_count": 300,
   "id": "981632b9",
   "metadata": {},
   "outputs": [
    {
     "name": "stdout",
     "output_type": "stream",
     "text": [
      "Model: \"sequential_172\"\n",
      "_________________________________________________________________\n",
      "Layer (type)                 Output Shape              Param #   \n",
      "=================================================================\n",
      "normalization_5 (Normalizati (None, 1)                 3         \n",
      "_________________________________________________________________\n",
      "dense_682 (Dense)            (None, 64)                128       \n",
      "_________________________________________________________________\n",
      "dense_683 (Dense)            (None, 64)                4160      \n",
      "_________________________________________________________________\n",
      "dense_684 (Dense)            (None, 1)                 65        \n",
      "=================================================================\n",
      "Total params: 4,356\n",
      "Trainable params: 4,353\n",
      "Non-trainable params: 3\n",
      "_________________________________________________________________\n"
     ]
    }
   ],
   "source": [
    "dnn_hp_model.summary()"
   ]
  },
  {
   "cell_type": "code",
   "execution_count": 301,
   "id": "63eb2004",
   "metadata": {},
   "outputs": [
    {
     "name": "stdout",
     "output_type": "stream",
     "text": [
      "Epoch 1/100\n",
      "8/8 - 0s - loss: 23.2647 - val_loss: 21.8525\n",
      "Epoch 2/100\n",
      "8/8 - 0s - loss: 23.0417 - val_loss: 21.6202\n",
      "Epoch 3/100\n",
      "8/8 - 0s - loss: 22.8069 - val_loss: 21.3561\n",
      "Epoch 4/100\n",
      "8/8 - 0s - loss: 22.5211 - val_loss: 21.0357\n",
      "Epoch 5/100\n",
      "8/8 - 0s - loss: 22.1686 - val_loss: 20.6191\n",
      "Epoch 6/100\n",
      "8/8 - 0s - loss: 21.6976 - val_loss: 20.0693\n",
      "Epoch 7/100\n",
      "8/8 - 0s - loss: 21.0867 - val_loss: 19.3624\n",
      "Epoch 8/100\n",
      "8/8 - 0s - loss: 20.3186 - val_loss: 18.4708\n",
      "Epoch 9/100\n",
      "8/8 - 0s - loss: 19.3333 - val_loss: 17.3628\n",
      "Epoch 10/100\n",
      "8/8 - 0s - loss: 18.1640 - val_loss: 16.1456\n",
      "Epoch 11/100\n",
      "8/8 - 0s - loss: 16.8148 - val_loss: 14.8195\n",
      "Epoch 12/100\n",
      "8/8 - 0s - loss: 15.3500 - val_loss: 13.3543\n",
      "Epoch 13/100\n",
      "8/8 - 0s - loss: 13.7231 - val_loss: 11.7934\n",
      "Epoch 14/100\n",
      "8/8 - 0s - loss: 11.8698 - val_loss: 10.0483\n",
      "Epoch 15/100\n",
      "8/8 - 0s - loss: 9.8785 - val_loss: 8.0840\n",
      "Epoch 16/100\n",
      "8/8 - 0s - loss: 7.6328 - val_loss: 5.9561\n",
      "Epoch 17/100\n",
      "8/8 - 0s - loss: 5.4960 - val_loss: 4.4849\n",
      "Epoch 18/100\n",
      "8/8 - 0s - loss: 4.3413 - val_loss: 3.6920\n",
      "Epoch 19/100\n",
      "8/8 - 0s - loss: 4.1593 - val_loss: 3.4946\n",
      "Epoch 20/100\n",
      "8/8 - 0s - loss: 4.0583 - val_loss: 3.3855\n",
      "Epoch 21/100\n",
      "8/8 - 0s - loss: 3.9551 - val_loss: 3.4150\n",
      "Epoch 22/100\n",
      "8/8 - 0s - loss: 3.9018 - val_loss: 3.4154\n",
      "Epoch 23/100\n",
      "8/8 - 0s - loss: 3.8601 - val_loss: 3.3780\n",
      "Epoch 24/100\n",
      "8/8 - 0s - loss: 3.8174 - val_loss: 3.3245\n",
      "Epoch 25/100\n",
      "8/8 - 0s - loss: 3.7773 - val_loss: 3.3214\n",
      "Epoch 26/100\n",
      "8/8 - 0s - loss: 3.7423 - val_loss: 3.2764\n",
      "Epoch 27/100\n",
      "8/8 - 0s - loss: 3.7077 - val_loss: 3.2819\n",
      "Epoch 28/100\n",
      "8/8 - 0s - loss: 3.6804 - val_loss: 3.2527\n",
      "Epoch 29/100\n",
      "8/8 - 0s - loss: 3.6606 - val_loss: 3.2559\n",
      "Epoch 30/100\n",
      "8/8 - 0s - loss: 3.6484 - val_loss: 3.2081\n",
      "Epoch 31/100\n",
      "8/8 - 0s - loss: 3.6211 - val_loss: 3.2349\n",
      "Epoch 32/100\n",
      "8/8 - 0s - loss: 3.6001 - val_loss: 3.2044\n",
      "Epoch 33/100\n",
      "8/8 - 0s - loss: 3.5873 - val_loss: 3.1644\n",
      "Epoch 34/100\n",
      "8/8 - 0s - loss: 3.5691 - val_loss: 3.1973\n",
      "Epoch 35/100\n",
      "8/8 - 0s - loss: 3.5524 - val_loss: 3.1591\n",
      "Epoch 36/100\n",
      "8/8 - 0s - loss: 3.5292 - val_loss: 3.1450\n",
      "Epoch 37/100\n",
      "8/8 - 0s - loss: 3.5219 - val_loss: 3.0965\n",
      "Epoch 38/100\n",
      "8/8 - 0s - loss: 3.5030 - val_loss: 3.1225\n",
      "Epoch 39/100\n",
      "8/8 - 0s - loss: 3.4878 - val_loss: 3.0774\n",
      "Epoch 40/100\n",
      "8/8 - 0s - loss: 3.4724 - val_loss: 3.0676\n",
      "Epoch 41/100\n",
      "8/8 - 0s - loss: 3.4610 - val_loss: 3.0495\n",
      "Epoch 42/100\n",
      "8/8 - 0s - loss: 3.4491 - val_loss: 3.0052\n",
      "Epoch 43/100\n",
      "8/8 - 0s - loss: 3.4393 - val_loss: 3.0410\n",
      "Epoch 44/100\n",
      "8/8 - 0s - loss: 3.4249 - val_loss: 3.0054\n",
      "Epoch 45/100\n",
      "8/8 - 0s - loss: 3.4130 - val_loss: 2.9971\n",
      "Epoch 46/100\n",
      "8/8 - 0s - loss: 3.4034 - val_loss: 2.9592\n",
      "Epoch 47/100\n",
      "8/8 - 0s - loss: 3.4105 - val_loss: 2.9284\n",
      "Epoch 48/100\n",
      "8/8 - 0s - loss: 3.3924 - val_loss: 2.9490\n",
      "Epoch 49/100\n",
      "8/8 - 0s - loss: 3.3897 - val_loss: 2.9609\n",
      "Epoch 50/100\n",
      "8/8 - 0s - loss: 3.3819 - val_loss: 2.9320\n",
      "Epoch 51/100\n",
      "8/8 - 0s - loss: 3.3757 - val_loss: 2.9385\n",
      "Epoch 52/100\n",
      "8/8 - 0s - loss: 3.3762 - val_loss: 2.8985\n",
      "Epoch 53/100\n",
      "8/8 - 0s - loss: 3.3755 - val_loss: 2.9020\n",
      "Epoch 54/100\n",
      "8/8 - 0s - loss: 3.3736 - val_loss: 2.9328\n",
      "Epoch 55/100\n",
      "8/8 - 0s - loss: 3.3682 - val_loss: 2.8904\n",
      "Epoch 56/100\n",
      "8/8 - 0s - loss: 3.3742 - val_loss: 2.8861\n",
      "Epoch 57/100\n",
      "8/8 - 0s - loss: 3.3694 - val_loss: 2.8971\n",
      "Epoch 58/100\n",
      "8/8 - 0s - loss: 3.3581 - val_loss: 2.9064\n",
      "Epoch 59/100\n",
      "8/8 - 0s - loss: 3.3530 - val_loss: 2.8967\n",
      "Epoch 60/100\n",
      "8/8 - 0s - loss: 3.3510 - val_loss: 2.8619\n",
      "Epoch 61/100\n",
      "8/8 - 0s - loss: 3.3543 - val_loss: 2.8403\n",
      "Epoch 62/100\n",
      "8/8 - 0s - loss: 3.3452 - val_loss: 2.8707\n",
      "Epoch 63/100\n",
      "8/8 - 0s - loss: 3.3523 - val_loss: 2.8945\n",
      "Epoch 64/100\n",
      "8/8 - 0s - loss: 3.3442 - val_loss: 2.8815\n",
      "Epoch 65/100\n",
      "8/8 - 0s - loss: 3.3498 - val_loss: 2.8584\n",
      "Epoch 66/100\n",
      "8/8 - 0s - loss: 3.3430 - val_loss: 2.8728\n",
      "Epoch 67/100\n",
      "8/8 - 0s - loss: 3.3520 - val_loss: 2.8807\n",
      "Epoch 68/100\n",
      "8/8 - 0s - loss: 3.3444 - val_loss: 2.8403\n",
      "Epoch 69/100\n",
      "8/8 - 0s - loss: 3.3391 - val_loss: 2.8460\n",
      "Epoch 70/100\n",
      "8/8 - 0s - loss: 3.3506 - val_loss: 2.8294\n",
      "Epoch 71/100\n",
      "8/8 - 0s - loss: 3.3435 - val_loss: 2.8381\n",
      "Epoch 72/100\n",
      "8/8 - 0s - loss: 3.3474 - val_loss: 2.9218\n",
      "Epoch 73/100\n",
      "8/8 - 0s - loss: 3.3456 - val_loss: 2.8909\n",
      "Epoch 74/100\n",
      "8/8 - 0s - loss: 3.3366 - val_loss: 2.8816\n",
      "Epoch 75/100\n",
      "8/8 - 0s - loss: 3.3424 - val_loss: 2.8492\n",
      "Epoch 76/100\n",
      "8/8 - 0s - loss: 3.3353 - val_loss: 2.8445\n",
      "Epoch 77/100\n",
      "8/8 - 0s - loss: 3.3308 - val_loss: 2.8468\n",
      "Epoch 78/100\n",
      "8/8 - 0s - loss: 3.3374 - val_loss: 2.8612\n",
      "Epoch 79/100\n",
      "8/8 - 0s - loss: 3.3395 - val_loss: 2.8295\n",
      "Epoch 80/100\n",
      "8/8 - 0s - loss: 3.3296 - val_loss: 2.8507\n",
      "Epoch 81/100\n",
      "8/8 - 0s - loss: 3.3305 - val_loss: 2.8473\n",
      "Epoch 82/100\n",
      "8/8 - 0s - loss: 3.3350 - val_loss: 2.8220\n",
      "Epoch 83/100\n",
      "8/8 - 0s - loss: 3.3324 - val_loss: 2.8345\n",
      "Epoch 84/100\n",
      "8/8 - 0s - loss: 3.3254 - val_loss: 2.8805\n",
      "Epoch 85/100\n",
      "8/8 - 0s - loss: 3.3328 - val_loss: 2.8508\n",
      "Epoch 86/100\n",
      "8/8 - 0s - loss: 3.3299 - val_loss: 2.8454\n",
      "Epoch 87/100\n",
      "8/8 - 0s - loss: 3.3350 - val_loss: 2.8130\n",
      "Epoch 88/100\n",
      "8/8 - 0s - loss: 3.3262 - val_loss: 2.8467\n",
      "Epoch 89/100\n",
      "8/8 - 0s - loss: 3.3291 - val_loss: 2.8560\n",
      "Epoch 90/100\n",
      "8/8 - 0s - loss: 3.3312 - val_loss: 2.8356\n",
      "Epoch 91/100\n",
      "8/8 - 0s - loss: 3.3321 - val_loss: 2.8564\n",
      "Epoch 92/100\n",
      "8/8 - 0s - loss: 3.3258 - val_loss: 2.8560\n",
      "Epoch 93/100\n",
      "8/8 - 0s - loss: 3.3257 - val_loss: 2.8112\n",
      "Epoch 94/100\n",
      "8/8 - 0s - loss: 3.3271 - val_loss: 2.8411\n",
      "Epoch 95/100\n",
      "8/8 - 0s - loss: 3.3196 - val_loss: 2.8087\n",
      "Epoch 96/100\n",
      "8/8 - 0s - loss: 3.3272 - val_loss: 2.8117\n",
      "Epoch 97/100\n",
      "8/8 - 0s - loss: 3.3223 - val_loss: 2.7903\n",
      "Epoch 98/100\n",
      "8/8 - 0s - loss: 3.3307 - val_loss: 2.8469\n",
      "Epoch 99/100\n",
      "8/8 - 0s - loss: 3.3148 - val_loss: 2.8338\n",
      "Epoch 100/100\n",
      "8/8 - 0s - loss: 3.3187 - val_loss: 2.8095\n"
     ]
    }
   ],
   "source": [
    "history = dnn_hp_model.fit(train_features['Horsepower'], train_labels, epochs=100, verbose=2, validation_split=0.2)"
   ]
  },
  {
   "cell_type": "code",
   "execution_count": 302,
   "id": "9f47e0db",
   "metadata": {},
   "outputs": [
    {
     "data": {
      "text/plain": [
       "<matplotlib.legend.Legend at 0x25516de2fd0>"
      ]
     },
     "execution_count": 302,
     "metadata": {},
     "output_type": "execute_result"
    },
    {
     "data": {
      "image/png": "[encoded data removed]",
      "text/plain": [
       "<Figure size 432x288 with 1 Axes>"
      ]
     },
     "metadata": {
      "needs_background": "light"
     },
     "output_type": "display_data"
    }
   ],
   "source": [
    "plt.plot(history.history['loss'])\n",
    "plt.plot(history.history['val_loss'])\n",
    "plt.title('model loss')\n",
    "plt.xlabel('epoch')\n",
    "plt.ylabel('loss')\n",
    "plt.legend(['train','validation'], loc='upper left')"
   ]
  },
  {
   "cell_type": "code",
   "execution_count": 303,
   "id": "703f35a1",
   "metadata": {},
   "outputs": [
    {
     "data": {
      "text/plain": [
       "<matplotlib.legend.Legend at 0x2555db6fd60>"
      ]
     },
     "execution_count": 303,
     "metadata": {},
     "output_type": "execute_result"
    },
    {
     "data": {
      "image/png": "[encoded data removed]",
      "text/plain": [
       "<Figure size 432x288 with 1 Axes>"
      ]
     },
     "metadata": {
      "needs_background": "light"
     },
     "output_type": "display_data"
    }
   ],
   "source": [
    "x = tf.linspace(0,250,251)\n",
    "y = dnn_hp_model.predict(x)\n",
    "\n",
    "plt.scatter(train_features['Horsepower'], train_labels, label='Data')\n",
    "plt.plot(x ,y, color='k', label='Predictions')\n",
    "plt.xlabel('Horsepower')\n",
    "plt.ylabel('MPG')\n",
    "plt.legend()"
   ]
  },
  {
   "cell_type": "code",
   "execution_count": 304,
   "id": "a4abf2d2",
   "metadata": {},
   "outputs": [
    {
     "name": "stdout",
     "output_type": "stream",
     "text": [
      "3/3 [==============================] - 0s 998us/step - loss: 3.4445\n"
     ]
    }
   ],
   "source": [
    "test_results['dnn_hp_model'] = dnn_hp_model.evaluate(test_features['Horsepower'], test_labels)"
   ]
  },
  {
   "cell_type": "code",
   "execution_count": 305,
   "id": "ebf691f0",
   "metadata": {},
   "outputs": [
    {
     "data": {
      "text/plain": [
       "{'hp_model_linreg': 3.944617748260498,\n",
       " 'model_linreg': 2.5039665699005127,\n",
       " 'dnn_hp_model': 3.444467782974243}"
      ]
     },
     "execution_count": 305,
     "metadata": {},
     "output_type": "execute_result"
    }
   ],
   "source": [
    "test_results"
   ]
  },
  {
   "cell_type": "markdown",
   "id": "6bd9d4be",
   "metadata": {},
   "source": [
    "### DNN with Multiple Inputs"
   ]
  },
  {
   "cell_type": "code",
   "execution_count": 306,
   "id": "5786781e",
   "metadata": {},
   "outputs": [],
   "source": [
    "dnn_model = build_model(normalizer)"
   ]
  },
  {
   "cell_type": "code",
   "execution_count": 308,
   "id": "8e24717a",
   "metadata": {},
   "outputs": [
    {
     "name": "stdout",
     "output_type": "stream",
     "text": [
      "Epoch 1/100\n",
      "8/8 - 0s - loss: 23.2457 - val_loss: 21.6096\n",
      "Epoch 2/100\n",
      "8/8 - 0s - loss: 22.4964 - val_loss: 20.8551\n",
      "Epoch 3/100\n",
      "8/8 - 0s - loss: 21.6868 - val_loss: 19.9908\n",
      "Epoch 4/100\n",
      "8/8 - 0s - loss: 20.7092 - val_loss: 18.9142\n",
      "Epoch 5/100\n",
      "8/8 - 0s - loss: 19.4618 - val_loss: 17.5391\n",
      "Epoch 6/100\n",
      "8/8 - 0s - loss: 17.8685 - val_loss: 15.7675\n",
      "Epoch 7/100\n",
      "8/8 - 0s - loss: 15.9181 - val_loss: 13.8185\n",
      "Epoch 8/100\n",
      "8/8 - 0s - loss: 13.7536 - val_loss: 11.9112\n",
      "Epoch 9/100\n",
      "8/8 - 0s - loss: 11.3730 - val_loss: 10.0793\n",
      "Epoch 10/100\n",
      "8/8 - 0s - loss: 8.9861 - val_loss: 8.2560\n",
      "Epoch 11/100\n",
      "8/8 - 0s - loss: 7.4333 - val_loss: 7.0394\n",
      "Epoch 12/100\n",
      "8/8 - 0s - loss: 6.6306 - val_loss: 6.3492\n",
      "Epoch 13/100\n",
      "8/8 - 0s - loss: 5.9672 - val_loss: 5.6944\n",
      "Epoch 14/100\n",
      "8/8 - 0s - loss: 5.2439 - val_loss: 5.1676\n",
      "Epoch 15/100\n",
      "8/8 - 0s - loss: 4.6131 - val_loss: 4.5897\n",
      "Epoch 16/100\n",
      "8/8 - 0s - loss: 4.1089 - val_loss: 3.9828\n",
      "Epoch 17/100\n",
      "8/8 - 0s - loss: 3.6680 - val_loss: 3.5004\n",
      "Epoch 18/100\n",
      "8/8 - 0s - loss: 3.2634 - val_loss: 3.1436\n",
      "Epoch 19/100\n",
      "8/8 - 0s - loss: 2.9665 - val_loss: 2.7969\n",
      "Epoch 20/100\n",
      "8/8 - 0s - loss: 2.7571 - val_loss: 2.6288\n",
      "Epoch 21/100\n",
      "8/8 - 0s - loss: 2.6156 - val_loss: 2.5288\n",
      "Epoch 22/100\n",
      "8/8 - 0s - loss: 2.4872 - val_loss: 2.4294\n",
      "Epoch 23/100\n",
      "8/8 - 0s - loss: 2.3961 - val_loss: 2.3099\n",
      "Epoch 24/100\n",
      "8/8 - 0s - loss: 2.3208 - val_loss: 2.2767\n",
      "Epoch 25/100\n",
      "8/8 - 0s - loss: 2.2392 - val_loss: 2.2017\n",
      "Epoch 26/100\n",
      "8/8 - 0s - loss: 2.1985 - val_loss: 2.1365\n",
      "Epoch 27/100\n",
      "8/8 - 0s - loss: 2.1480 - val_loss: 2.1257\n",
      "Epoch 28/100\n",
      "8/8 - 0s - loss: 2.1279 - val_loss: 2.1130\n",
      "Epoch 29/100\n",
      "8/8 - 0s - loss: 2.1038 - val_loss: 2.0687\n",
      "Epoch 30/100\n",
      "8/8 - 0s - loss: 2.1030 - val_loss: 2.0160\n",
      "Epoch 31/100\n",
      "8/8 - 0s - loss: 2.0748 - val_loss: 2.0387\n",
      "Epoch 32/100\n",
      "8/8 - 0s - loss: 2.0480 - val_loss: 1.9824\n",
      "Epoch 33/100\n",
      "8/8 - 0s - loss: 2.0574 - val_loss: 2.0103\n",
      "Epoch 34/100\n",
      "8/8 - 0s - loss: 2.0056 - val_loss: 2.0242\n",
      "Epoch 35/100\n",
      "8/8 - 0s - loss: 1.9921 - val_loss: 1.9708\n",
      "Epoch 36/100\n",
      "8/8 - 0s - loss: 1.9657 - val_loss: 2.0046\n",
      "Epoch 37/100\n",
      "8/8 - 0s - loss: 1.9567 - val_loss: 1.9762\n",
      "Epoch 38/100\n",
      "8/8 - 0s - loss: 1.9426 - val_loss: 1.9655\n",
      "Epoch 39/100\n",
      "8/8 - 0s - loss: 1.9456 - val_loss: 1.9723\n",
      "Epoch 40/100\n",
      "8/8 - 0s - loss: 1.9275 - val_loss: 1.9610\n",
      "Epoch 41/100\n",
      "8/8 - 0s - loss: 1.9079 - val_loss: 1.9557\n",
      "Epoch 42/100\n",
      "8/8 - 0s - loss: 1.9041 - val_loss: 1.9798\n",
      "Epoch 43/100\n",
      "8/8 - 0s - loss: 1.8915 - val_loss: 1.9576\n",
      "Epoch 44/100\n",
      "8/8 - 0s - loss: 1.8899 - val_loss: 1.9693\n",
      "Epoch 45/100\n",
      "8/8 - 0s - loss: 1.8941 - val_loss: 1.9815\n",
      "Epoch 46/100\n",
      "8/8 - 0s - loss: 1.8846 - val_loss: 1.9495\n",
      "Epoch 47/100\n",
      "8/8 - 0s - loss: 1.8720 - val_loss: 1.9315\n",
      "Epoch 48/100\n",
      "8/8 - 0s - loss: 1.8548 - val_loss: 1.9373\n",
      "Epoch 49/100\n",
      "8/8 - 0s - loss: 1.8658 - val_loss: 1.9539\n",
      "Epoch 50/100\n",
      "8/8 - 0s - loss: 1.8627 - val_loss: 1.9224\n",
      "Epoch 51/100\n",
      "8/8 - 0s - loss: 1.8526 - val_loss: 1.9311\n",
      "Epoch 52/100\n",
      "8/8 - 0s - loss: 1.8467 - val_loss: 1.9100\n",
      "Epoch 53/100\n",
      "8/8 - 0s - loss: 1.8348 - val_loss: 1.9310\n",
      "Epoch 54/100\n",
      "8/8 - 0s - loss: 1.8334 - val_loss: 1.9264\n",
      "Epoch 55/100\n",
      "8/8 - 0s - loss: 1.8344 - val_loss: 1.8895\n",
      "Epoch 56/100\n",
      "8/8 - 0s - loss: 1.8228 - val_loss: 1.9217\n",
      "Epoch 57/100\n",
      "8/8 - 0s - loss: 1.8210 - val_loss: 1.9293\n",
      "Epoch 58/100\n",
      "8/8 - 0s - loss: 1.8264 - val_loss: 1.8924\n",
      "Epoch 59/100\n",
      "8/8 - 0s - loss: 1.8087 - val_loss: 1.8917\n",
      "Epoch 60/100\n",
      "8/8 - 0s - loss: 1.8092 - val_loss: 1.8947\n",
      "Epoch 61/100\n",
      "8/8 - 0s - loss: 1.8471 - val_loss: 1.8623\n",
      "Epoch 62/100\n",
      "8/8 - 0s - loss: 1.8513 - val_loss: 1.8771\n",
      "Epoch 63/100\n",
      "8/8 - 0s - loss: 1.8125 - val_loss: 1.8952\n",
      "Epoch 64/100\n",
      "8/8 - 0s - loss: 1.7995 - val_loss: 1.8892\n",
      "Epoch 65/100\n",
      "8/8 - 0s - loss: 1.8001 - val_loss: 1.8671\n",
      "Epoch 66/100\n",
      "8/8 - 0s - loss: 1.7966 - val_loss: 1.8493\n",
      "Epoch 67/100\n",
      "8/8 - 0s - loss: 1.8013 - val_loss: 1.8738\n",
      "Epoch 68/100\n",
      "8/8 - 0s - loss: 1.7885 - val_loss: 1.8959\n",
      "Epoch 69/100\n",
      "8/8 - 0s - loss: 1.8104 - val_loss: 1.9029\n",
      "Epoch 70/100\n",
      "8/8 - 0s - loss: 1.7858 - val_loss: 1.8436\n",
      "Epoch 71/100\n",
      "8/8 - 0s - loss: 1.7816 - val_loss: 1.8539\n",
      "Epoch 72/100\n",
      "8/8 - 0s - loss: 1.7849 - val_loss: 1.8650\n",
      "Epoch 73/100\n",
      "8/8 - 0s - loss: 1.7797 - val_loss: 1.8545\n",
      "Epoch 74/100\n",
      "8/8 - 0s - loss: 1.7839 - val_loss: 1.8582\n",
      "Epoch 75/100\n",
      "8/8 - 0s - loss: 1.7776 - val_loss: 1.8429\n",
      "Epoch 76/100\n",
      "8/8 - 0s - loss: 1.7802 - val_loss: 1.8552\n",
      "Epoch 77/100\n",
      "8/8 - 0s - loss: 1.7947 - val_loss: 1.8111\n",
      "Epoch 78/100\n",
      "8/8 - 0s - loss: 1.7828 - val_loss: 1.8260\n",
      "Epoch 79/100\n",
      "8/8 - 0s - loss: 1.7715 - val_loss: 1.8303\n",
      "Epoch 80/100\n",
      "8/8 - 0s - loss: 1.7641 - val_loss: 1.8269\n",
      "Epoch 81/100\n",
      "8/8 - 0s - loss: 1.7588 - val_loss: 1.8258\n",
      "Epoch 82/100\n",
      "8/8 - 0s - loss: 1.7599 - val_loss: 1.8140\n",
      "Epoch 83/100\n",
      "8/8 - 0s - loss: 1.7475 - val_loss: 1.8183\n",
      "Epoch 84/100\n",
      "8/8 - 0s - loss: 1.7479 - val_loss: 1.8306\n",
      "Epoch 85/100\n",
      "8/8 - 0s - loss: 1.7602 - val_loss: 1.8143\n",
      "Epoch 86/100\n",
      "8/8 - 0s - loss: 1.7802 - val_loss: 1.7890\n",
      "Epoch 87/100\n",
      "8/8 - 0s - loss: 1.7748 - val_loss: 1.8123\n",
      "Epoch 88/100\n",
      "8/8 - 0s - loss: 1.7795 - val_loss: 1.8388\n",
      "Epoch 89/100\n",
      "8/8 - 0s - loss: 1.7635 - val_loss: 1.7765\n",
      "Epoch 90/100\n",
      "8/8 - 0s - loss: 1.7345 - val_loss: 1.7656\n",
      "Epoch 91/100\n",
      "8/8 - 0s - loss: 1.7486 - val_loss: 1.7595\n",
      "Epoch 92/100\n",
      "8/8 - 0s - loss: 1.7322 - val_loss: 1.8024\n",
      "Epoch 93/100\n",
      "8/8 - 0s - loss: 1.7568 - val_loss: 1.7954\n",
      "Epoch 94/100\n",
      "8/8 - 0s - loss: 1.7284 - val_loss: 1.8010\n",
      "Epoch 95/100\n",
      "8/8 - 0s - loss: 1.7351 - val_loss: 1.7531\n",
      "Epoch 96/100\n",
      "8/8 - 0s - loss: 1.7277 - val_loss: 1.7688\n",
      "Epoch 97/100\n",
      "8/8 - 0s - loss: 1.7406 - val_loss: 1.7767\n",
      "Epoch 98/100\n",
      "8/8 - 0s - loss: 1.7307 - val_loss: 1.7995\n",
      "Epoch 99/100\n",
      "8/8 - 0s - loss: 1.7364 - val_loss: 1.7696\n",
      "Epoch 100/100\n",
      "8/8 - 0s - loss: 1.7283 - val_loss: 1.7601\n"
     ]
    }
   ],
   "source": [
    "history = dnn_model.fit(train_features, train_labels, epochs=100, verbose=2, validation_split=0.2)"
   ]
  },
  {
   "cell_type": "code",
   "execution_count": 309,
   "id": "10e5f41e",
   "metadata": {},
   "outputs": [
    {
     "data": {
      "text/plain": [
       "<matplotlib.legend.Legend at 0x2554b999070>"
      ]
     },
     "execution_count": 309,
     "metadata": {},
     "output_type": "execute_result"
    },
    {
     "data": {
      "image/png": "[encoded data removed]",
      "text/plain": [
       "<Figure size 432x288 with 1 Axes>"
      ]
     },
     "metadata": {
      "needs_background": "light"
     },
     "output_type": "display_data"
    }
   ],
   "source": [
    "plt.plot(history.history['loss'])\n",
    "plt.plot(history.history['val_loss'])\n",
    "plt.title('model loss')\n",
    "plt.xlabel('epoch')\n",
    "plt.ylabel('loss')\n",
    "plt.legend(['train','validation'], loc='upper left')"
   ]
  },
  {
   "cell_type": "code",
   "execution_count": 310,
   "id": "7473cd80",
   "metadata": {},
   "outputs": [
    {
     "name": "stdout",
     "output_type": "stream",
     "text": [
      "3/3 [==============================] - 0s 2ms/step - loss: 1.7861\n"
     ]
    }
   ],
   "source": [
    "test_results['dnn_model'] = dnn_model.evaluate(test_features, test_labels)"
   ]
  },
  {
   "cell_type": "code",
   "execution_count": 311,
   "id": "3f201984",
   "metadata": {},
   "outputs": [
    {
     "data": {
      "text/plain": [
       "{'hp_model_linreg': 3.944617748260498,\n",
       " 'model_linreg': 2.5039665699005127,\n",
       " 'dnn_hp_model': 3.444467782974243,\n",
       " 'dnn_model': 1.7861276865005493}"
      ]
     },
     "execution_count": 311,
     "metadata": {},
     "output_type": "execute_result"
    }
   ],
   "source": [
    "test_results"
   ]
  },
  {
   "cell_type": "code",
   "execution_count": 314,
   "id": "1f5b9692",
   "metadata": {},
   "outputs": [],
   "source": [
    "test_predictions = dnn_model.predict(test_features).flatten()"
   ]
  },
  {
   "cell_type": "code",
   "execution_count": 319,
   "id": "66d231a5",
   "metadata": {},
   "outputs": [
    {
     "data": {
      "text/plain": [
       "[<matplotlib.lines.Line2D at 0x25516403eb0>]"
      ]
     },
     "execution_count": 319,
     "metadata": {},
     "output_type": "execute_result"
    },
    {
     "data": {
      "image/png": "[encoded data removed]",
      "text/plain": [
       "<Figure size 432x288 with 1 Axes>"
      ]
     },
     "metadata": {
      "needs_background": "light"
     },
     "output_type": "display_data"
    }
   ],
   "source": [
    "plt.scatter(test_labels, test_predictions)\n",
    "plt.xlabel('True Values (MPG)')\n",
    "plt.ylabel('Predicted Values (MPG)')\n",
    "lims = [10,40]\n",
    "plt.xlim(lims)\n",
    "plt.ylim(lims)\n",
    "plt.plot(lims, lims)"
   ]
  },
  {
   "cell_type": "code",
   "execution_count": null,
   "id": "5fe81a09",
   "metadata": {},
   "outputs": [],
   "source": []
  },
  {
   "cell_type": "code",
   "execution_count": 327,
   "id": "4e3b293e",
   "metadata": {},
   "outputs": [],
   "source": [
    "stop_early = keras.callbacks.EarlyStopping(monitor='val_loss', patience=5, min_delta=0.0001)"
   ]
  },
  {
   "cell_type": "code",
   "execution_count": 328,
   "id": "b1ee3515",
   "metadata": {
    "scrolled": true
   },
   "outputs": [
    {
     "name": "stdout",
     "output_type": "stream",
     "text": [
      "Epoch 1/100\n",
      "8/8 - 0s - loss: 1.6898 - val_loss: 1.7298\n",
      "Epoch 2/100\n",
      "8/8 - 0s - loss: 1.6878 - val_loss: 1.7343\n",
      "Epoch 3/100\n",
      "8/8 - 0s - loss: 1.6988 - val_loss: 1.7327\n",
      "Epoch 4/100\n",
      "8/8 - 0s - loss: 1.6807 - val_loss: 1.7251\n",
      "Epoch 5/100\n",
      "8/8 - 0s - loss: 1.6831 - val_loss: 1.7396\n",
      "Epoch 6/100\n",
      "8/8 - 0s - loss: 1.6838 - val_loss: 1.7670\n",
      "Epoch 7/100\n",
      "8/8 - 0s - loss: 1.6882 - val_loss: 1.7218\n",
      "Epoch 8/100\n",
      "8/8 - 0s - loss: 1.6877 - val_loss: 1.7183\n",
      "Epoch 9/100\n",
      "8/8 - 0s - loss: 1.6737 - val_loss: 1.7214\n",
      "Epoch 10/100\n",
      "8/8 - 0s - loss: 1.6723 - val_loss: 1.7434\n",
      "Epoch 11/100\n",
      "8/8 - 0s - loss: 1.6683 - val_loss: 1.7183\n",
      "Epoch 12/100\n",
      "8/8 - 0s - loss: 1.6643 - val_loss: 1.7083\n",
      "Epoch 13/100\n",
      "8/8 - 0s - loss: 1.6727 - val_loss: 1.7239\n",
      "Epoch 14/100\n",
      "8/8 - 0s - loss: 1.6642 - val_loss: 1.7247\n",
      "Epoch 15/100\n",
      "8/8 - 0s - loss: 1.6773 - val_loss: 1.7390\n",
      "Epoch 16/100\n",
      "8/8 - 0s - loss: 1.6739 - val_loss: 1.6795\n",
      "Epoch 17/100\n",
      "8/8 - 0s - loss: 1.6589 - val_loss: 1.7085\n",
      "Epoch 18/100\n",
      "8/8 - 0s - loss: 1.6489 - val_loss: 1.6979\n",
      "Epoch 19/100\n",
      "8/8 - 0s - loss: 1.6732 - val_loss: 1.7115\n",
      "Epoch 20/100\n",
      "8/8 - 0s - loss: 1.6642 - val_loss: 1.7356\n",
      "Epoch 21/100\n",
      "8/8 - 0s - loss: 1.7041 - val_loss: 1.7132\n"
     ]
    }
   ],
   "source": [
    "history = dnn_model.fit(train_features, train_labels, epochs=100, verbose=2, validation_split=0.2, callbacks=[stop_early])"
   ]
  },
  {
   "cell_type": "code",
   "execution_count": null,
   "id": "3909b7cc",
   "metadata": {},
   "outputs": [],
   "source": []
  },
  {
   "cell_type": "code",
   "execution_count": 335,
   "id": "7729d1c1",
   "metadata": {},
   "outputs": [],
   "source": [
    "def build_model(norm):\n",
    "    model = Sequential([\n",
    "        norm,\n",
    "        Dense(64, activation='relu', kernel_regularizer=l2(0.001)),\n",
    "        Dropout(0.2),\n",
    "        Dense(64, activation='relu', kernel_regularizer=l2(0.001)),\n",
    "        Dropout(0.2),\n",
    "        Dense(1)\n",
    "    ])\n",
    "    model.compile(optimizer=tf.optimizers.Adam(learning_rate=0.001), loss='mean_absolute_error')\n",
    "    return model"
   ]
  },
  {
   "cell_type": "code",
   "execution_count": 336,
   "id": "0834f227",
   "metadata": {},
   "outputs": [],
   "source": [
    "dnn_reg_dropout_model = build_model(normalizer)"
   ]
  },
  {
   "cell_type": "code",
   "execution_count": 337,
   "id": "981fc8e4",
   "metadata": {},
   "outputs": [
    {
     "name": "stdout",
     "output_type": "stream",
     "text": [
      "Epoch 1/100\n",
      "8/8 - 0s - loss: 23.3114 - val_loss: 21.6507\n",
      "Epoch 2/100\n",
      "8/8 - 0s - loss: 22.5851 - val_loss: 20.9662\n",
      "Epoch 3/100\n",
      "8/8 - 0s - loss: 21.7085 - val_loss: 20.1471\n",
      "Epoch 4/100\n",
      "8/8 - 0s - loss: 20.7200 - val_loss: 19.0946\n",
      "Epoch 5/100\n",
      "8/8 - 0s - loss: 19.4623 - val_loss: 17.7162\n",
      "Epoch 6/100\n",
      "8/8 - 0s - loss: 17.7880 - val_loss: 15.9196\n",
      "Epoch 7/100\n",
      "8/8 - 0s - loss: 15.5923 - val_loss: 13.5874\n",
      "Epoch 8/100\n",
      "8/8 - 0s - loss: 12.7643 - val_loss: 10.6980\n",
      "Epoch 9/100\n",
      "8/8 - 0s - loss: 9.5413 - val_loss: 7.9281\n",
      "Epoch 10/100\n",
      "8/8 - 0s - loss: 6.7311 - val_loss: 5.9682\n",
      "Epoch 11/100\n",
      "8/8 - 0s - loss: 5.6777 - val_loss: 5.3662\n",
      "Epoch 12/100\n",
      "8/8 - 0s - loss: 5.7965 - val_loss: 4.8732\n",
      "Epoch 13/100\n",
      "8/8 - 0s - loss: 5.2630 - val_loss: 4.3473\n",
      "Epoch 14/100\n",
      "8/8 - 0s - loss: 4.5601 - val_loss: 4.1173\n",
      "Epoch 15/100\n",
      "8/8 - 0s - loss: 4.5213 - val_loss: 3.9975\n",
      "Epoch 16/100\n",
      "8/8 - 0s - loss: 4.4180 - val_loss: 3.5040\n",
      "Epoch 17/100\n",
      "8/8 - 0s - loss: 4.3028 - val_loss: 3.1524\n",
      "Epoch 18/100\n",
      "8/8 - 0s - loss: 4.2039 - val_loss: 2.9335\n",
      "Epoch 19/100\n",
      "8/8 - 0s - loss: 3.7918 - val_loss: 2.8554\n",
      "Epoch 20/100\n",
      "8/8 - 0s - loss: 3.7644 - val_loss: 2.8857\n",
      "Epoch 21/100\n",
      "8/8 - 0s - loss: 3.6860 - val_loss: 2.9330\n",
      "Epoch 22/100\n",
      "8/8 - 0s - loss: 3.9520 - val_loss: 2.6407\n",
      "Epoch 23/100\n",
      "8/8 - 0s - loss: 3.6051 - val_loss: 2.5065\n",
      "Epoch 24/100\n",
      "8/8 - 0s - loss: 3.7685 - val_loss: 2.4666\n",
      "Epoch 25/100\n",
      "8/8 - 0s - loss: 3.7747 - val_loss: 2.3992\n",
      "Epoch 26/100\n",
      "8/8 - 0s - loss: 3.5789 - val_loss: 2.4586\n",
      "Epoch 27/100\n",
      "8/8 - 0s - loss: 3.4909 - val_loss: 2.4786\n",
      "Epoch 28/100\n",
      "8/8 - 0s - loss: 3.4088 - val_loss: 2.4539\n",
      "Epoch 29/100\n",
      "8/8 - 0s - loss: 3.3682 - val_loss: 2.4225\n",
      "Epoch 30/100\n",
      "8/8 - 0s - loss: 3.5650 - val_loss: 2.3662\n",
      "Epoch 31/100\n",
      "8/8 - 0s - loss: 3.4034 - val_loss: 2.3333\n",
      "Epoch 32/100\n",
      "8/8 - 0s - loss: 3.4360 - val_loss: 2.3777\n",
      "Epoch 33/100\n",
      "8/8 - 0s - loss: 3.4205 - val_loss: 2.3694\n",
      "Epoch 34/100\n",
      "8/8 - 0s - loss: 3.3291 - val_loss: 2.3651\n",
      "Epoch 35/100\n",
      "8/8 - 0s - loss: 3.3597 - val_loss: 2.2864\n",
      "Epoch 36/100\n",
      "8/8 - 0s - loss: 3.2942 - val_loss: 2.4224\n",
      "Epoch 37/100\n",
      "8/8 - 0s - loss: 3.2735 - val_loss: 2.3784\n",
      "Epoch 38/100\n",
      "8/8 - 0s - loss: 3.2886 - val_loss: 2.3013\n",
      "Epoch 39/100\n",
      "8/8 - 0s - loss: 3.3032 - val_loss: 2.2517\n",
      "Epoch 40/100\n",
      "8/8 - 0s - loss: 3.6619 - val_loss: 2.2325\n",
      "Epoch 41/100\n",
      "8/8 - 0s - loss: 2.9876 - val_loss: 2.3083\n",
      "Epoch 42/100\n",
      "8/8 - 0s - loss: 3.2689 - val_loss: 2.2645\n",
      "Epoch 43/100\n",
      "8/8 - 0s - loss: 3.4144 - val_loss: 2.3020\n",
      "Epoch 44/100\n",
      "8/8 - 0s - loss: 3.3448 - val_loss: 2.3050\n",
      "Epoch 45/100\n",
      "8/8 - 0s - loss: 3.3427 - val_loss: 2.3283\n",
      "Epoch 46/100\n",
      "8/8 - 0s - loss: 3.2035 - val_loss: 2.3551\n",
      "Epoch 47/100\n",
      "8/8 - 0s - loss: 3.2084 - val_loss: 2.3065\n",
      "Epoch 48/100\n",
      "8/8 - 0s - loss: 3.3476 - val_loss: 2.3117\n",
      "Epoch 49/100\n",
      "8/8 - 0s - loss: 3.2620 - val_loss: 2.2781\n",
      "Epoch 50/100\n",
      "8/8 - 0s - loss: 3.1434 - val_loss: 2.2311\n",
      "Epoch 51/100\n",
      "8/8 - 0s - loss: 3.1706 - val_loss: 2.2183\n",
      "Epoch 52/100\n",
      "8/8 - 0s - loss: 3.5276 - val_loss: 2.1859\n",
      "Epoch 53/100\n",
      "8/8 - 0s - loss: 3.3544 - val_loss: 2.1385\n",
      "Epoch 54/100\n",
      "8/8 - 0s - loss: 3.1113 - val_loss: 2.2967\n",
      "Epoch 55/100\n",
      "8/8 - 0s - loss: 3.1533 - val_loss: 2.2410\n",
      "Epoch 56/100\n",
      "8/8 - 0s - loss: 3.1270 - val_loss: 2.2468\n",
      "Epoch 57/100\n",
      "8/8 - 0s - loss: 3.1757 - val_loss: 2.1850\n",
      "Epoch 58/100\n",
      "8/8 - 0s - loss: 3.2350 - val_loss: 2.1757\n",
      "Epoch 59/100\n",
      "8/8 - 0s - loss: 3.0688 - val_loss: 2.2143\n",
      "Epoch 60/100\n",
      "8/8 - 0s - loss: 3.1939 - val_loss: 2.2981\n",
      "Epoch 61/100\n",
      "8/8 - 0s - loss: 3.1059 - val_loss: 2.1816\n",
      "Epoch 62/100\n",
      "8/8 - 0s - loss: 3.3517 - val_loss: 2.2162\n",
      "Epoch 63/100\n",
      "8/8 - 0s - loss: 3.4006 - val_loss: 2.2344\n",
      "Epoch 64/100\n",
      "8/8 - 0s - loss: 3.2694 - val_loss: 2.2955\n",
      "Epoch 65/100\n",
      "8/8 - 0s - loss: 3.2231 - val_loss: 2.2802\n",
      "Epoch 66/100\n",
      "8/8 - 0s - loss: 3.1515 - val_loss: 2.1404\n",
      "Epoch 67/100\n",
      "8/8 - 0s - loss: 3.1983 - val_loss: 2.1262\n",
      "Epoch 68/100\n",
      "8/8 - 0s - loss: 2.9351 - val_loss: 2.2268\n",
      "Epoch 69/100\n",
      "8/8 - 0s - loss: 3.3050 - val_loss: 2.2280\n",
      "Epoch 70/100\n",
      "8/8 - 0s - loss: 3.2035 - val_loss: 2.1401\n",
      "Epoch 71/100\n",
      "8/8 - 0s - loss: 3.1037 - val_loss: 2.1860\n",
      "Epoch 72/100\n",
      "8/8 - 0s - loss: 3.1751 - val_loss: 2.1773\n",
      "Epoch 73/100\n",
      "8/8 - 0s - loss: 3.2145 - val_loss: 2.1816\n",
      "Epoch 74/100\n",
      "8/8 - 0s - loss: 3.1547 - val_loss: 2.1855\n",
      "Epoch 75/100\n",
      "8/8 - 0s - loss: 3.1864 - val_loss: 2.1888\n",
      "Epoch 76/100\n",
      "8/8 - 0s - loss: 3.1541 - val_loss: 2.2446\n",
      "Epoch 77/100\n",
      "8/8 - 0s - loss: 3.0752 - val_loss: 2.2072\n",
      "Epoch 78/100\n",
      "8/8 - 0s - loss: 3.0228 - val_loss: 2.1591\n",
      "Epoch 79/100\n",
      "8/8 - 0s - loss: 2.8337 - val_loss: 2.0983\n",
      "Epoch 80/100\n",
      "8/8 - 0s - loss: 3.1599 - val_loss: 2.0563\n",
      "Epoch 81/100\n",
      "8/8 - 0s - loss: 3.1295 - val_loss: 2.1647\n",
      "Epoch 82/100\n",
      "8/8 - 0s - loss: 3.1272 - val_loss: 2.1653\n",
      "Epoch 83/100\n",
      "8/8 - 0s - loss: 2.8995 - val_loss: 2.1060\n",
      "Epoch 84/100\n",
      "8/8 - 0s - loss: 3.2512 - val_loss: 2.1282\n",
      "Epoch 85/100\n",
      "8/8 - 0s - loss: 3.2148 - val_loss: 2.2183\n",
      "Epoch 86/100\n",
      "8/8 - 0s - loss: 3.0430 - val_loss: 2.1276\n",
      "Epoch 87/100\n",
      "8/8 - 0s - loss: 3.0806 - val_loss: 2.0372\n",
      "Epoch 88/100\n",
      "8/8 - 0s - loss: 3.0852 - val_loss: 2.1054\n",
      "Epoch 89/100\n",
      "8/8 - 0s - loss: 3.1478 - val_loss: 2.1726\n",
      "Epoch 90/100\n",
      "8/8 - 0s - loss: 3.1048 - val_loss: 2.0486\n",
      "Epoch 91/100\n",
      "8/8 - 0s - loss: 2.9919 - val_loss: 2.1127\n",
      "Epoch 92/100\n",
      "8/8 - 0s - loss: 3.2503 - val_loss: 2.1415\n",
      "Epoch 93/100\n",
      "8/8 - 0s - loss: 3.1377 - val_loss: 2.2168\n",
      "Epoch 94/100\n",
      "8/8 - 0s - loss: 2.7700 - val_loss: 2.2121\n",
      "Epoch 95/100\n",
      "8/8 - 0s - loss: 2.8633 - val_loss: 2.1245\n",
      "Epoch 96/100\n",
      "8/8 - 0s - loss: 3.1590 - val_loss: 2.0852\n",
      "Epoch 97/100\n",
      "8/8 - 0s - loss: 3.1542 - val_loss: 2.1119\n",
      "Epoch 98/100\n",
      "8/8 - 0s - loss: 3.2392 - val_loss: 2.1648\n",
      "Epoch 99/100\n",
      "8/8 - 0s - loss: 3.1962 - val_loss: 2.0359\n",
      "Epoch 100/100\n",
      "8/8 - 0s - loss: 3.0226 - val_loss: 2.1366\n"
     ]
    }
   ],
   "source": [
    "history = dnn_reg_dropout_model.fit(train_features, train_labels, epochs=100, verbose=2, validation_split=0.2)"
   ]
  },
  {
   "cell_type": "code",
   "execution_count": 338,
   "id": "8739bc71",
   "metadata": {},
   "outputs": [
    {
     "name": "stdout",
     "output_type": "stream",
     "text": [
      "3/3 [==============================] - 0s 997us/step - loss: 2.1362\n"
     ]
    }
   ],
   "source": [
    "test_results['dnn_reg_dropout_model'] = dnn_reg_dropout_model.evaluate(test_features, test_labels)"
   ]
  },
  {
   "cell_type": "code",
   "execution_count": 339,
   "id": "15afe779",
   "metadata": {},
   "outputs": [
    {
     "data": {
      "text/plain": [
       "{'hp_model_linreg': 3.944617748260498,\n",
       " 'model_linreg': 2.5039665699005127,\n",
       " 'dnn_hp_model': 3.444467782974243,\n",
       " 'dnn_model': 1.7861276865005493,\n",
       " 'dnn_reg_dropout_model': 2.136164665222168}"
      ]
     },
     "execution_count": 339,
     "metadata": {},
     "output_type": "execute_result"
    }
   ],
   "source": [
    "test_results"
   ]
  },
  {
   "cell_type": "code",
   "execution_count": null,
   "id": "f5a7b27a",
   "metadata": {},
   "outputs": [],
   "source": []
  },
  {
   "cell_type": "code",
   "execution_count": null,
   "id": "00610d41",
   "metadata": {},
   "outputs": [],
   "source": []
  },
  {
   "cell_type": "code",
   "execution_count": null,
   "id": "2a9fe074",
   "metadata": {},
   "outputs": [],
   "source": []
  },
  {
   "cell_type": "code",
   "execution_count": null,
   "id": "0b2e994f",
   "metadata": {},
   "outputs": [],
   "source": []
  },
  {
   "cell_type": "code",
   "execution_count": null,
   "id": "5034ed61",
   "metadata": {},
   "outputs": [],
   "source": []
  },
  {
   "cell_type": "code",
   "execution_count": null,
   "id": "8581b944",
   "metadata": {},
   "outputs": [],
   "source": []
  },
  {
   "cell_type": "code",
   "execution_count": null,
   "id": "4cf75955",
   "metadata": {},
   "outputs": [],
   "source": []
  },
  {
   "cell_type": "code",
   "execution_count": null,
   "id": "1ff12598",
   "metadata": {},
   "outputs": [],
   "source": []
  },
  {
   "cell_type": "code",
   "execution_count": null,
   "id": "419aafa7",
   "metadata": {},
   "outputs": [],
   "source": []
  },
  {
   "cell_type": "code",
   "execution_count": null,
   "id": "b091c0c4",
   "metadata": {},
   "outputs": [],
   "source": []
  },
  {
   "cell_type": "code",
   "execution_count": null,
   "id": "3e6b757c",
   "metadata": {},
   "outputs": [],
   "source": []
  },
  {
   "cell_type": "code",
   "execution_count": null,
   "id": "d9a6d036",
   "metadata": {},
   "outputs": [],
   "source": []
  },
  {
   "cell_type": "code",
   "execution_count": null,
   "id": "7002a71f",
   "metadata": {},
   "outputs": [],
   "source": []
  },
  {
   "cell_type": "code",
   "execution_count": null,
   "id": "bcdd5d6f",
   "metadata": {},
   "outputs": [],
   "source": []
  },
  {
   "cell_type": "code",
   "execution_count": null,
   "id": "c20bf4c8",
   "metadata": {},
   "outputs": [],
   "source": []
  },
  {
   "cell_type": "code",
   "execution_count": null,
   "id": "5a76289a",
   "metadata": {},
   "outputs": [],
   "source": []
  },
  {
   "cell_type": "code",
   "execution_count": null,
   "id": "f53d5532",
   "metadata": {},
   "outputs": [],
   "source": []
  },
  {
   "cell_type": "code",
   "execution_count": null,
   "id": "69d6b2ae",
   "metadata": {},
   "outputs": [],
   "source": []
  },
  {
   "cell_type": "code",
   "execution_count": null,
   "id": "d13d5090",
   "metadata": {},
   "outputs": [],
   "source": []
  },
  {
   "cell_type": "code",
   "execution_count": null,
   "id": "6b1f5769",
   "metadata": {},
   "outputs": [],
   "source": []
  },
  {
   "cell_type": "code",
   "execution_count": null,
   "id": "80955e1c",
   "metadata": {},
   "outputs": [],
   "source": []
  },
  {
   "cell_type": "code",
   "execution_count": null,
   "id": "dab02dbb",
   "metadata": {},
   "outputs": [],
   "source": []
  },
  {
   "cell_type": "code",
   "execution_count": null,
   "id": "526de869",
   "metadata": {},
   "outputs": [],
   "source": []
  },
  {
   "cell_type": "code",
   "execution_count": null,
   "id": "e5958d68",
   "metadata": {},
   "outputs": [],
   "source": []
  },
  {
   "cell_type": "code",
   "execution_count": null,
   "id": "a7d2a0d6",
   "metadata": {},
   "outputs": [],
   "source": []
  }
 ],
 "metadata": {
  "kernelspec": {
   "display_name": "Python 3",
   "language": "python",
   "name": "python3"
  },
  "language_info": {
   "codemirror_mode": {
    "name": "ipython",
    "version": 3
   },
   "file_extension": ".py",
   "mimetype": "text/x-python",
   "name": "python",
   "nbconvert_exporter": "python",
   "pygments_lexer": "ipython3",
   "version": "3.8.8"
  }
 },
 "nbformat": 4,
 "nbformat_minor": 5
}
