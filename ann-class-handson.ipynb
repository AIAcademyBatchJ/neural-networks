{
 "cells": [
  {
   "cell_type": "code",
   "execution_count": 1,
   "id": "0697163f",
   "metadata": {},
   "outputs": [],
   "source": [
    "from tensorflow import keras\n",
    "import pandas as pd\n",
    "import numpy as np\n",
    "import os\n",
    "import matplotlib.pyplot as plt\n",
    "%matplotlib inline"
   ]
  },
  {
   "cell_type": "code",
   "execution_count": 3,
   "id": "1b3f9917",
   "metadata": {},
   "outputs": [],
   "source": [
    "train = pd.read_csv('fashion-mnist_train.csv')\n",
    "test = pd.read_csv('fashion-mnist_test.csv')"
   ]
  },
  {
   "cell_type": "code",
   "execution_count": 4,
   "id": "ee815b28",
   "metadata": {},
   "outputs": [
    {
     "data": {
      "text/html": [
       "<div>\n",
       "<style scoped>\n",
       "    .dataframe tbody tr th:only-of-type {\n",
       "        vertical-align: middle;\n",
       "    }\n",
       "\n",
       "    .dataframe tbody tr th {\n",
       "        vertical-align: top;\n",
       "    }\n",
       "\n",
       "    .dataframe thead th {\n",
       "        text-align: right;\n",
       "    }\n",
       "</style>\n",
       "<table border=\"1\" class=\"dataframe\">\n",
       "  <thead>\n",
       "    <tr style=\"text-align: right;\">\n",
       "      <th></th>\n",
       "      <th>label</th>\n",
       "      <th>pixel1</th>\n",
       "      <th>pixel2</th>\n",
       "      <th>pixel3</th>\n",
       "      <th>pixel4</th>\n",
       "      <th>pixel5</th>\n",
       "      <th>pixel6</th>\n",
       "      <th>pixel7</th>\n",
       "      <th>pixel8</th>\n",
       "      <th>pixel9</th>\n",
       "      <th>...</th>\n",
       "      <th>pixel775</th>\n",
       "      <th>pixel776</th>\n",
       "      <th>pixel777</th>\n",
       "      <th>pixel778</th>\n",
       "      <th>pixel779</th>\n",
       "      <th>pixel780</th>\n",
       "      <th>pixel781</th>\n",
       "      <th>pixel782</th>\n",
       "      <th>pixel783</th>\n",
       "      <th>pixel784</th>\n",
       "    </tr>\n",
       "  </thead>\n",
       "  <tbody>\n",
       "    <tr>\n",
       "      <th>0</th>\n",
       "      <td>2</td>\n",
       "      <td>0</td>\n",
       "      <td>0</td>\n",
       "      <td>0</td>\n",
       "      <td>0</td>\n",
       "      <td>0</td>\n",
       "      <td>0</td>\n",
       "      <td>0</td>\n",
       "      <td>0</td>\n",
       "      <td>0</td>\n",
       "      <td>...</td>\n",
       "      <td>0</td>\n",
       "      <td>0</td>\n",
       "      <td>0</td>\n",
       "      <td>0</td>\n",
       "      <td>0</td>\n",
       "      <td>0</td>\n",
       "      <td>0</td>\n",
       "      <td>0</td>\n",
       "      <td>0</td>\n",
       "      <td>0</td>\n",
       "    </tr>\n",
       "    <tr>\n",
       "      <th>1</th>\n",
       "      <td>9</td>\n",
       "      <td>0</td>\n",
       "      <td>0</td>\n",
       "      <td>0</td>\n",
       "      <td>0</td>\n",
       "      <td>0</td>\n",
       "      <td>0</td>\n",
       "      <td>0</td>\n",
       "      <td>0</td>\n",
       "      <td>0</td>\n",
       "      <td>...</td>\n",
       "      <td>0</td>\n",
       "      <td>0</td>\n",
       "      <td>0</td>\n",
       "      <td>0</td>\n",
       "      <td>0</td>\n",
       "      <td>0</td>\n",
       "      <td>0</td>\n",
       "      <td>0</td>\n",
       "      <td>0</td>\n",
       "      <td>0</td>\n",
       "    </tr>\n",
       "    <tr>\n",
       "      <th>2</th>\n",
       "      <td>6</td>\n",
       "      <td>0</td>\n",
       "      <td>0</td>\n",
       "      <td>0</td>\n",
       "      <td>0</td>\n",
       "      <td>0</td>\n",
       "      <td>0</td>\n",
       "      <td>0</td>\n",
       "      <td>5</td>\n",
       "      <td>0</td>\n",
       "      <td>...</td>\n",
       "      <td>0</td>\n",
       "      <td>0</td>\n",
       "      <td>0</td>\n",
       "      <td>30</td>\n",
       "      <td>43</td>\n",
       "      <td>0</td>\n",
       "      <td>0</td>\n",
       "      <td>0</td>\n",
       "      <td>0</td>\n",
       "      <td>0</td>\n",
       "    </tr>\n",
       "    <tr>\n",
       "      <th>3</th>\n",
       "      <td>0</td>\n",
       "      <td>0</td>\n",
       "      <td>0</td>\n",
       "      <td>0</td>\n",
       "      <td>1</td>\n",
       "      <td>2</td>\n",
       "      <td>0</td>\n",
       "      <td>0</td>\n",
       "      <td>0</td>\n",
       "      <td>0</td>\n",
       "      <td>...</td>\n",
       "      <td>3</td>\n",
       "      <td>0</td>\n",
       "      <td>0</td>\n",
       "      <td>0</td>\n",
       "      <td>0</td>\n",
       "      <td>1</td>\n",
       "      <td>0</td>\n",
       "      <td>0</td>\n",
       "      <td>0</td>\n",
       "      <td>0</td>\n",
       "    </tr>\n",
       "    <tr>\n",
       "      <th>4</th>\n",
       "      <td>3</td>\n",
       "      <td>0</td>\n",
       "      <td>0</td>\n",
       "      <td>0</td>\n",
       "      <td>0</td>\n",
       "      <td>0</td>\n",
       "      <td>0</td>\n",
       "      <td>0</td>\n",
       "      <td>0</td>\n",
       "      <td>0</td>\n",
       "      <td>...</td>\n",
       "      <td>0</td>\n",
       "      <td>0</td>\n",
       "      <td>0</td>\n",
       "      <td>0</td>\n",
       "      <td>0</td>\n",
       "      <td>0</td>\n",
       "      <td>0</td>\n",
       "      <td>0</td>\n",
       "      <td>0</td>\n",
       "      <td>0</td>\n",
       "    </tr>\n",
       "  </tbody>\n",
       "</table>\n",
       "<p>5 rows × 785 columns</p>\n",
       "</div>"
      ],
      "text/plain": [
       "   label  pixel1  pixel2  pixel3  pixel4  pixel5  pixel6  pixel7  pixel8  \\\n",
       "0      2       0       0       0       0       0       0       0       0   \n",
       "1      9       0       0       0       0       0       0       0       0   \n",
       "2      6       0       0       0       0       0       0       0       5   \n",
       "3      0       0       0       0       1       2       0       0       0   \n",
       "4      3       0       0       0       0       0       0       0       0   \n",
       "\n",
       "   pixel9  ...  pixel775  pixel776  pixel777  pixel778  pixel779  pixel780  \\\n",
       "0       0  ...         0         0         0         0         0         0   \n",
       "1       0  ...         0         0         0         0         0         0   \n",
       "2       0  ...         0         0         0        30        43         0   \n",
       "3       0  ...         3         0         0         0         0         1   \n",
       "4       0  ...         0         0         0         0         0         0   \n",
       "\n",
       "   pixel781  pixel782  pixel783  pixel784  \n",
       "0         0         0         0         0  \n",
       "1         0         0         0         0  \n",
       "2         0         0         0         0  \n",
       "3         0         0         0         0  \n",
       "4         0         0         0         0  \n",
       "\n",
       "[5 rows x 785 columns]"
      ]
     },
     "execution_count": 4,
     "metadata": {},
     "output_type": "execute_result"
    }
   ],
   "source": [
    "train.head()"
   ]
  },
  {
   "cell_type": "code",
   "execution_count": 5,
   "id": "dc662cdc",
   "metadata": {},
   "outputs": [
    {
     "data": {
      "text/html": [
       "<div>\n",
       "<style scoped>\n",
       "    .dataframe tbody tr th:only-of-type {\n",
       "        vertical-align: middle;\n",
       "    }\n",
       "\n",
       "    .dataframe tbody tr th {\n",
       "        vertical-align: top;\n",
       "    }\n",
       "\n",
       "    .dataframe thead th {\n",
       "        text-align: right;\n",
       "    }\n",
       "</style>\n",
       "<table border=\"1\" class=\"dataframe\">\n",
       "  <thead>\n",
       "    <tr style=\"text-align: right;\">\n",
       "      <th></th>\n",
       "      <th>label</th>\n",
       "      <th>pixel1</th>\n",
       "      <th>pixel2</th>\n",
       "      <th>pixel3</th>\n",
       "      <th>pixel4</th>\n",
       "      <th>pixel5</th>\n",
       "      <th>pixel6</th>\n",
       "      <th>pixel7</th>\n",
       "      <th>pixel8</th>\n",
       "      <th>pixel9</th>\n",
       "      <th>...</th>\n",
       "      <th>pixel775</th>\n",
       "      <th>pixel776</th>\n",
       "      <th>pixel777</th>\n",
       "      <th>pixel778</th>\n",
       "      <th>pixel779</th>\n",
       "      <th>pixel780</th>\n",
       "      <th>pixel781</th>\n",
       "      <th>pixel782</th>\n",
       "      <th>pixel783</th>\n",
       "      <th>pixel784</th>\n",
       "    </tr>\n",
       "  </thead>\n",
       "  <tbody>\n",
       "    <tr>\n",
       "      <th>0</th>\n",
       "      <td>0</td>\n",
       "      <td>0</td>\n",
       "      <td>0</td>\n",
       "      <td>0</td>\n",
       "      <td>0</td>\n",
       "      <td>0</td>\n",
       "      <td>0</td>\n",
       "      <td>0</td>\n",
       "      <td>9</td>\n",
       "      <td>8</td>\n",
       "      <td>...</td>\n",
       "      <td>103</td>\n",
       "      <td>87</td>\n",
       "      <td>56</td>\n",
       "      <td>0</td>\n",
       "      <td>0</td>\n",
       "      <td>0</td>\n",
       "      <td>0</td>\n",
       "      <td>0</td>\n",
       "      <td>0</td>\n",
       "      <td>0</td>\n",
       "    </tr>\n",
       "    <tr>\n",
       "      <th>1</th>\n",
       "      <td>1</td>\n",
       "      <td>0</td>\n",
       "      <td>0</td>\n",
       "      <td>0</td>\n",
       "      <td>0</td>\n",
       "      <td>0</td>\n",
       "      <td>0</td>\n",
       "      <td>0</td>\n",
       "      <td>0</td>\n",
       "      <td>0</td>\n",
       "      <td>...</td>\n",
       "      <td>34</td>\n",
       "      <td>0</td>\n",
       "      <td>0</td>\n",
       "      <td>0</td>\n",
       "      <td>0</td>\n",
       "      <td>0</td>\n",
       "      <td>0</td>\n",
       "      <td>0</td>\n",
       "      <td>0</td>\n",
       "      <td>0</td>\n",
       "    </tr>\n",
       "    <tr>\n",
       "      <th>2</th>\n",
       "      <td>2</td>\n",
       "      <td>0</td>\n",
       "      <td>0</td>\n",
       "      <td>0</td>\n",
       "      <td>0</td>\n",
       "      <td>0</td>\n",
       "      <td>0</td>\n",
       "      <td>14</td>\n",
       "      <td>53</td>\n",
       "      <td>99</td>\n",
       "      <td>...</td>\n",
       "      <td>0</td>\n",
       "      <td>0</td>\n",
       "      <td>0</td>\n",
       "      <td>0</td>\n",
       "      <td>63</td>\n",
       "      <td>53</td>\n",
       "      <td>31</td>\n",
       "      <td>0</td>\n",
       "      <td>0</td>\n",
       "      <td>0</td>\n",
       "    </tr>\n",
       "    <tr>\n",
       "      <th>3</th>\n",
       "      <td>2</td>\n",
       "      <td>0</td>\n",
       "      <td>0</td>\n",
       "      <td>0</td>\n",
       "      <td>0</td>\n",
       "      <td>0</td>\n",
       "      <td>0</td>\n",
       "      <td>0</td>\n",
       "      <td>0</td>\n",
       "      <td>0</td>\n",
       "      <td>...</td>\n",
       "      <td>137</td>\n",
       "      <td>126</td>\n",
       "      <td>140</td>\n",
       "      <td>0</td>\n",
       "      <td>133</td>\n",
       "      <td>224</td>\n",
       "      <td>222</td>\n",
       "      <td>56</td>\n",
       "      <td>0</td>\n",
       "      <td>0</td>\n",
       "    </tr>\n",
       "    <tr>\n",
       "      <th>4</th>\n",
       "      <td>3</td>\n",
       "      <td>0</td>\n",
       "      <td>0</td>\n",
       "      <td>0</td>\n",
       "      <td>0</td>\n",
       "      <td>0</td>\n",
       "      <td>0</td>\n",
       "      <td>0</td>\n",
       "      <td>0</td>\n",
       "      <td>0</td>\n",
       "      <td>...</td>\n",
       "      <td>0</td>\n",
       "      <td>0</td>\n",
       "      <td>0</td>\n",
       "      <td>0</td>\n",
       "      <td>0</td>\n",
       "      <td>0</td>\n",
       "      <td>0</td>\n",
       "      <td>0</td>\n",
       "      <td>0</td>\n",
       "      <td>0</td>\n",
       "    </tr>\n",
       "  </tbody>\n",
       "</table>\n",
       "<p>5 rows × 785 columns</p>\n",
       "</div>"
      ],
      "text/plain": [
       "   label  pixel1  pixel2  pixel3  pixel4  pixel5  pixel6  pixel7  pixel8  \\\n",
       "0      0       0       0       0       0       0       0       0       9   \n",
       "1      1       0       0       0       0       0       0       0       0   \n",
       "2      2       0       0       0       0       0       0      14      53   \n",
       "3      2       0       0       0       0       0       0       0       0   \n",
       "4      3       0       0       0       0       0       0       0       0   \n",
       "\n",
       "   pixel9  ...  pixel775  pixel776  pixel777  pixel778  pixel779  pixel780  \\\n",
       "0       8  ...       103        87        56         0         0         0   \n",
       "1       0  ...        34         0         0         0         0         0   \n",
       "2      99  ...         0         0         0         0        63        53   \n",
       "3       0  ...       137       126       140         0       133       224   \n",
       "4       0  ...         0         0         0         0         0         0   \n",
       "\n",
       "   pixel781  pixel782  pixel783  pixel784  \n",
       "0         0         0         0         0  \n",
       "1         0         0         0         0  \n",
       "2        31         0         0         0  \n",
       "3       222        56         0         0  \n",
       "4         0         0         0         0  \n",
       "\n",
       "[5 rows x 785 columns]"
      ]
     },
     "execution_count": 5,
     "metadata": {},
     "output_type": "execute_result"
    }
   ],
   "source": [
    "test.head()"
   ]
  },
  {
   "cell_type": "code",
   "execution_count": 6,
   "id": "a336d77f",
   "metadata": {},
   "outputs": [],
   "source": [
    "xtrain = train.drop('label', axis=1)\n",
    "ytrain = train['label']"
   ]
  },
  {
   "cell_type": "code",
   "execution_count": 7,
   "id": "386abc0a",
   "metadata": {},
   "outputs": [],
   "source": [
    "xtest = test.drop('label', axis=1)\n",
    "ytest = test['label']"
   ]
  },
  {
   "cell_type": "code",
   "execution_count": 8,
   "id": "beacc3db",
   "metadata": {},
   "outputs": [],
   "source": [
    "xtrain = xtrain/255.0\n",
    "xtest = xtest/255.0"
   ]
  },
  {
   "cell_type": "code",
   "execution_count": 9,
   "id": "e27f6876",
   "metadata": {},
   "outputs": [
    {
     "name": "stdout",
     "output_type": "stream",
     "text": [
      "(60000, 784)\n",
      "(10000, 784)\n",
      "(60000,)\n",
      "(10000,)\n"
     ]
    }
   ],
   "source": [
    "print(xtrain.shape)\n",
    "print(xtest.shape)\n",
    "print(ytrain.shape)\n",
    "print(ytest.shape)"
   ]
  },
  {
   "cell_type": "code",
   "execution_count": 10,
   "id": "4924b147",
   "metadata": {},
   "outputs": [
    {
     "data": {
      "text/html": [
       "<div>\n",
       "<style scoped>\n",
       "    .dataframe tbody tr th:only-of-type {\n",
       "        vertical-align: middle;\n",
       "    }\n",
       "\n",
       "    .dataframe tbody tr th {\n",
       "        vertical-align: top;\n",
       "    }\n",
       "\n",
       "    .dataframe thead th {\n",
       "        text-align: right;\n",
       "    }\n",
       "</style>\n",
       "<table border=\"1\" class=\"dataframe\">\n",
       "  <thead>\n",
       "    <tr style=\"text-align: right;\">\n",
       "      <th></th>\n",
       "      <th>pixel1</th>\n",
       "      <th>pixel2</th>\n",
       "      <th>pixel3</th>\n",
       "      <th>pixel4</th>\n",
       "      <th>pixel5</th>\n",
       "      <th>pixel6</th>\n",
       "      <th>pixel7</th>\n",
       "      <th>pixel8</th>\n",
       "      <th>pixel9</th>\n",
       "      <th>pixel10</th>\n",
       "      <th>...</th>\n",
       "      <th>pixel775</th>\n",
       "      <th>pixel776</th>\n",
       "      <th>pixel777</th>\n",
       "      <th>pixel778</th>\n",
       "      <th>pixel779</th>\n",
       "      <th>pixel780</th>\n",
       "      <th>pixel781</th>\n",
       "      <th>pixel782</th>\n",
       "      <th>pixel783</th>\n",
       "      <th>pixel784</th>\n",
       "    </tr>\n",
       "  </thead>\n",
       "  <tbody>\n",
       "    <tr>\n",
       "      <th>0</th>\n",
       "      <td>0.0</td>\n",
       "      <td>0.0</td>\n",
       "      <td>0.0</td>\n",
       "      <td>0.000000</td>\n",
       "      <td>0.000000</td>\n",
       "      <td>0.0</td>\n",
       "      <td>0.0</td>\n",
       "      <td>0.000000</td>\n",
       "      <td>0.0</td>\n",
       "      <td>0.0</td>\n",
       "      <td>...</td>\n",
       "      <td>0.000000</td>\n",
       "      <td>0.0</td>\n",
       "      <td>0.0</td>\n",
       "      <td>0.000000</td>\n",
       "      <td>0.000000</td>\n",
       "      <td>0.000000</td>\n",
       "      <td>0.0</td>\n",
       "      <td>0.0</td>\n",
       "      <td>0.0</td>\n",
       "      <td>0.0</td>\n",
       "    </tr>\n",
       "    <tr>\n",
       "      <th>1</th>\n",
       "      <td>0.0</td>\n",
       "      <td>0.0</td>\n",
       "      <td>0.0</td>\n",
       "      <td>0.000000</td>\n",
       "      <td>0.000000</td>\n",
       "      <td>0.0</td>\n",
       "      <td>0.0</td>\n",
       "      <td>0.000000</td>\n",
       "      <td>0.0</td>\n",
       "      <td>0.0</td>\n",
       "      <td>...</td>\n",
       "      <td>0.000000</td>\n",
       "      <td>0.0</td>\n",
       "      <td>0.0</td>\n",
       "      <td>0.000000</td>\n",
       "      <td>0.000000</td>\n",
       "      <td>0.000000</td>\n",
       "      <td>0.0</td>\n",
       "      <td>0.0</td>\n",
       "      <td>0.0</td>\n",
       "      <td>0.0</td>\n",
       "    </tr>\n",
       "    <tr>\n",
       "      <th>2</th>\n",
       "      <td>0.0</td>\n",
       "      <td>0.0</td>\n",
       "      <td>0.0</td>\n",
       "      <td>0.000000</td>\n",
       "      <td>0.000000</td>\n",
       "      <td>0.0</td>\n",
       "      <td>0.0</td>\n",
       "      <td>0.019608</td>\n",
       "      <td>0.0</td>\n",
       "      <td>0.0</td>\n",
       "      <td>...</td>\n",
       "      <td>0.000000</td>\n",
       "      <td>0.0</td>\n",
       "      <td>0.0</td>\n",
       "      <td>0.117647</td>\n",
       "      <td>0.168627</td>\n",
       "      <td>0.000000</td>\n",
       "      <td>0.0</td>\n",
       "      <td>0.0</td>\n",
       "      <td>0.0</td>\n",
       "      <td>0.0</td>\n",
       "    </tr>\n",
       "    <tr>\n",
       "      <th>3</th>\n",
       "      <td>0.0</td>\n",
       "      <td>0.0</td>\n",
       "      <td>0.0</td>\n",
       "      <td>0.003922</td>\n",
       "      <td>0.007843</td>\n",
       "      <td>0.0</td>\n",
       "      <td>0.0</td>\n",
       "      <td>0.000000</td>\n",
       "      <td>0.0</td>\n",
       "      <td>0.0</td>\n",
       "      <td>...</td>\n",
       "      <td>0.011765</td>\n",
       "      <td>0.0</td>\n",
       "      <td>0.0</td>\n",
       "      <td>0.000000</td>\n",
       "      <td>0.000000</td>\n",
       "      <td>0.003922</td>\n",
       "      <td>0.0</td>\n",
       "      <td>0.0</td>\n",
       "      <td>0.0</td>\n",
       "      <td>0.0</td>\n",
       "    </tr>\n",
       "    <tr>\n",
       "      <th>4</th>\n",
       "      <td>0.0</td>\n",
       "      <td>0.0</td>\n",
       "      <td>0.0</td>\n",
       "      <td>0.000000</td>\n",
       "      <td>0.000000</td>\n",
       "      <td>0.0</td>\n",
       "      <td>0.0</td>\n",
       "      <td>0.000000</td>\n",
       "      <td>0.0</td>\n",
       "      <td>0.0</td>\n",
       "      <td>...</td>\n",
       "      <td>0.000000</td>\n",
       "      <td>0.0</td>\n",
       "      <td>0.0</td>\n",
       "      <td>0.000000</td>\n",
       "      <td>0.000000</td>\n",
       "      <td>0.000000</td>\n",
       "      <td>0.0</td>\n",
       "      <td>0.0</td>\n",
       "      <td>0.0</td>\n",
       "      <td>0.0</td>\n",
       "    </tr>\n",
       "  </tbody>\n",
       "</table>\n",
       "<p>5 rows × 784 columns</p>\n",
       "</div>"
      ],
      "text/plain": [
       "   pixel1  pixel2  pixel3    pixel4    pixel5  pixel6  pixel7    pixel8  \\\n",
       "0     0.0     0.0     0.0  0.000000  0.000000     0.0     0.0  0.000000   \n",
       "1     0.0     0.0     0.0  0.000000  0.000000     0.0     0.0  0.000000   \n",
       "2     0.0     0.0     0.0  0.000000  0.000000     0.0     0.0  0.019608   \n",
       "3     0.0     0.0     0.0  0.003922  0.007843     0.0     0.0  0.000000   \n",
       "4     0.0     0.0     0.0  0.000000  0.000000     0.0     0.0  0.000000   \n",
       "\n",
       "   pixel9  pixel10  ...  pixel775  pixel776  pixel777  pixel778  pixel779  \\\n",
       "0     0.0      0.0  ...  0.000000       0.0       0.0  0.000000  0.000000   \n",
       "1     0.0      0.0  ...  0.000000       0.0       0.0  0.000000  0.000000   \n",
       "2     0.0      0.0  ...  0.000000       0.0       0.0  0.117647  0.168627   \n",
       "3     0.0      0.0  ...  0.011765       0.0       0.0  0.000000  0.000000   \n",
       "4     0.0      0.0  ...  0.000000       0.0       0.0  0.000000  0.000000   \n",
       "\n",
       "   pixel780  pixel781  pixel782  pixel783  pixel784  \n",
       "0  0.000000       0.0       0.0       0.0       0.0  \n",
       "1  0.000000       0.0       0.0       0.0       0.0  \n",
       "2  0.000000       0.0       0.0       0.0       0.0  \n",
       "3  0.003922       0.0       0.0       0.0       0.0  \n",
       "4  0.000000       0.0       0.0       0.0       0.0  \n",
       "\n",
       "[5 rows x 784 columns]"
      ]
     },
     "execution_count": 10,
     "metadata": {},
     "output_type": "execute_result"
    }
   ],
   "source": [
    "xtrain.head()"
   ]
  },
  {
   "cell_type": "code",
   "execution_count": 11,
   "id": "d3695c7a",
   "metadata": {},
   "outputs": [
    {
     "data": {
      "text/plain": [
       "0    2\n",
       "1    9\n",
       "2    6\n",
       "3    0\n",
       "4    3\n",
       "Name: label, dtype: int64"
      ]
     },
     "execution_count": 11,
     "metadata": {},
     "output_type": "execute_result"
    }
   ],
   "source": [
    "ytrain.head()"
   ]
  },
  {
   "cell_type": "markdown",
   "id": "d6a3210b",
   "metadata": {},
   "source": [
    "Labels\n",
    "\n",
    "Each training and test example is assigned to one of the following labels:\n",
    "\n",
    "0 T-shirt/top\n",
    "\n",
    "1 Trouser\n",
    "\n",
    "2 Pullover\n",
    "\n",
    "3 Dress\n",
    "\n",
    "4 Coat\n",
    "\n",
    "5 Sandal\n",
    "\n",
    "6 Shirt\n",
    "\n",
    "7 Sneaker\n",
    "\n",
    "8 Bag\n",
    "\n",
    "9 Ankle boot"
   ]
  },
  {
   "cell_type": "code",
   "execution_count": 20,
   "id": "a658af3f",
   "metadata": {},
   "outputs": [
    {
     "data": {
      "text/plain": [
       "<matplotlib.image.AxesImage at 0x254f8cdef10>"
      ]
     },
     "execution_count": 20,
     "metadata": {},
     "output_type": "execute_result"
    },
    {
     "data": {
      "image/png": "[encoded data removed]",
      "text/plain": [
       "<Figure size 432x288 with 1 Axes>"
      ]
     },
     "metadata": {
      "needs_background": "light"
     },
     "output_type": "display_data"
    }
   ],
   "source": [
    "plt.imshow(np.array(xtrain.loc[0]).reshape(28,28), cmap='gray')"
   ]
  },
  {
   "cell_type": "code",
   "execution_count": 21,
   "id": "478cbe90",
   "metadata": {},
   "outputs": [],
   "source": [
    "label_dict = {0: 'T-shirt/top',\n",
    "              1: 'Trouser',\n",
    "              2: 'Pullover',\n",
    "              3: 'Dress',\n",
    "              4: 'Coat',\n",
    "              5: 'Sandal',\n",
    "              6: 'Shirt',\n",
    "              7: 'Sneaker',\n",
    "              8: 'Bag',\n",
    "              9: 'Ankle boot'}"
   ]
  },
  {
   "cell_type": "code",
   "execution_count": 22,
   "id": "2d8480d8",
   "metadata": {},
   "outputs": [],
   "source": [
    "x = np.array(xtrain)\n",
    "y = keras.utils.to_categorical(np.array(ytrain),10)"
   ]
  },
  {
   "cell_type": "code",
   "execution_count": 25,
   "id": "bc1b196f",
   "metadata": {
    "scrolled": true
   },
   "outputs": [
    {
     "data": {
      "text/html": [
       "<div>\n",
       "<style scoped>\n",
       "    .dataframe tbody tr th:only-of-type {\n",
       "        vertical-align: middle;\n",
       "    }\n",
       "\n",
       "    .dataframe tbody tr th {\n",
       "        vertical-align: top;\n",
       "    }\n",
       "\n",
       "    .dataframe thead th {\n",
       "        text-align: right;\n",
       "    }\n",
       "</style>\n",
       "<table border=\"1\" class=\"dataframe\">\n",
       "  <thead>\n",
       "    <tr style=\"text-align: right;\">\n",
       "      <th></th>\n",
       "      <th>0</th>\n",
       "      <th>1</th>\n",
       "      <th>2</th>\n",
       "      <th>3</th>\n",
       "      <th>4</th>\n",
       "      <th>5</th>\n",
       "      <th>6</th>\n",
       "      <th>7</th>\n",
       "      <th>8</th>\n",
       "      <th>9</th>\n",
       "    </tr>\n",
       "  </thead>\n",
       "  <tbody>\n",
       "    <tr>\n",
       "      <th>0</th>\n",
       "      <td>0.0</td>\n",
       "      <td>0.0</td>\n",
       "      <td>1.0</td>\n",
       "      <td>0.0</td>\n",
       "      <td>0.0</td>\n",
       "      <td>0.0</td>\n",
       "      <td>0.0</td>\n",
       "      <td>0.0</td>\n",
       "      <td>0.0</td>\n",
       "      <td>0.0</td>\n",
       "    </tr>\n",
       "    <tr>\n",
       "      <th>1</th>\n",
       "      <td>0.0</td>\n",
       "      <td>0.0</td>\n",
       "      <td>0.0</td>\n",
       "      <td>0.0</td>\n",
       "      <td>0.0</td>\n",
       "      <td>0.0</td>\n",
       "      <td>0.0</td>\n",
       "      <td>0.0</td>\n",
       "      <td>0.0</td>\n",
       "      <td>1.0</td>\n",
       "    </tr>\n",
       "    <tr>\n",
       "      <th>2</th>\n",
       "      <td>0.0</td>\n",
       "      <td>0.0</td>\n",
       "      <td>0.0</td>\n",
       "      <td>0.0</td>\n",
       "      <td>0.0</td>\n",
       "      <td>0.0</td>\n",
       "      <td>1.0</td>\n",
       "      <td>0.0</td>\n",
       "      <td>0.0</td>\n",
       "      <td>0.0</td>\n",
       "    </tr>\n",
       "    <tr>\n",
       "      <th>3</th>\n",
       "      <td>1.0</td>\n",
       "      <td>0.0</td>\n",
       "      <td>0.0</td>\n",
       "      <td>0.0</td>\n",
       "      <td>0.0</td>\n",
       "      <td>0.0</td>\n",
       "      <td>0.0</td>\n",
       "      <td>0.0</td>\n",
       "      <td>0.0</td>\n",
       "      <td>0.0</td>\n",
       "    </tr>\n",
       "    <tr>\n",
       "      <th>4</th>\n",
       "      <td>0.0</td>\n",
       "      <td>0.0</td>\n",
       "      <td>0.0</td>\n",
       "      <td>1.0</td>\n",
       "      <td>0.0</td>\n",
       "      <td>0.0</td>\n",
       "      <td>0.0</td>\n",
       "      <td>0.0</td>\n",
       "      <td>0.0</td>\n",
       "      <td>0.0</td>\n",
       "    </tr>\n",
       "  </tbody>\n",
       "</table>\n",
       "</div>"
      ],
      "text/plain": [
       "     0    1    2    3    4    5    6    7    8    9\n",
       "0  0.0  0.0  1.0  0.0  0.0  0.0  0.0  0.0  0.0  0.0\n",
       "1  0.0  0.0  0.0  0.0  0.0  0.0  0.0  0.0  0.0  1.0\n",
       "2  0.0  0.0  0.0  0.0  0.0  0.0  1.0  0.0  0.0  0.0\n",
       "3  1.0  0.0  0.0  0.0  0.0  0.0  0.0  0.0  0.0  0.0\n",
       "4  0.0  0.0  0.0  1.0  0.0  0.0  0.0  0.0  0.0  0.0"
      ]
     },
     "execution_count": 25,
     "metadata": {},
     "output_type": "execute_result"
    }
   ],
   "source": [
    "pd.DataFrame(y).head()"
   ]
  },
  {
   "cell_type": "code",
   "execution_count": 27,
   "id": "9c8bb0c2",
   "metadata": {},
   "outputs": [],
   "source": [
    "from keras.models import Sequential\n",
    "from keras.layers import Dense, Activation"
   ]
  },
  {
   "cell_type": "code",
   "execution_count": 28,
   "id": "a2c57036",
   "metadata": {},
   "outputs": [],
   "source": [
    "model = Sequential()"
   ]
  },
  {
   "cell_type": "code",
   "execution_count": 29,
   "id": "a76fd957",
   "metadata": {},
   "outputs": [],
   "source": [
    "model.add(Dense(units=24, input_dim=784)) # first and only hidden layer; 24 neurons; input dims as 784 from shape of x matrix\n",
    "model.add(Activation('sigmoid')) # to my hidden layer adding a sigmoid activation function\n",
    "model.add(Dense(units=10)) # output layers; as many neurons as classes\n",
    "model.add(Activation('softmax')) # classification problem; activation fn of output layer"
   ]
  },
  {
   "cell_type": "code",
   "execution_count": 30,
   "id": "ab20a17c",
   "metadata": {},
   "outputs": [],
   "source": [
    "model.compile(loss='categorical_crossentropy', optimizer='sgd', metrics=['accuracy'])"
   ]
  },
  {
   "cell_type": "code",
   "execution_count": 31,
   "id": "249c2c5c",
   "metadata": {},
   "outputs": [
    {
     "name": "stdout",
     "output_type": "stream",
     "text": [
      "Epoch 1/10\n",
      "48/48 [==============================] - 1s 7ms/step - loss: 2.2701 - accuracy: 0.1680 - val_loss: 2.2120 - val_accuracy: 0.3178\n",
      "Epoch 2/10\n",
      "48/48 [==============================] - 0s 4ms/step - loss: 2.1705 - accuracy: 0.3733 - val_loss: 2.1261 - val_accuracy: 0.4168\n",
      "Epoch 3/10\n",
      "48/48 [==============================] - 0s 4ms/step - loss: 2.0913 - accuracy: 0.4426 - val_loss: 2.0523 - val_accuracy: 0.4674\n",
      "Epoch 4/10\n",
      "48/48 [==============================] - 0s 5ms/step - loss: 2.0218 - accuracy: 0.4751 - val_loss: 1.9869 - val_accuracy: 0.4909\n",
      "Epoch 5/10\n",
      "48/48 [==============================] - 0s 4ms/step - loss: 1.9597 - accuracy: 0.4920 - val_loss: 1.9283 - val_accuracy: 0.5082\n",
      "Epoch 6/10\n",
      "48/48 [==============================] - 0s 4ms/step - loss: 1.9039 - accuracy: 0.5053 - val_loss: 1.8753 - val_accuracy: 0.5189\n",
      "Epoch 7/10\n",
      "48/48 [==============================] - 0s 4ms/step - loss: 1.8532 - accuracy: 0.5174 - val_loss: 1.8269 - val_accuracy: 0.5338\n",
      "Epoch 8/10\n",
      "48/48 [==============================] - 0s 4ms/step - loss: 1.8066 - accuracy: 0.5404 - val_loss: 1.7822 - val_accuracy: 0.5532\n",
      "Epoch 9/10\n",
      "48/48 [==============================] - 0s 4ms/step - loss: 1.7635 - accuracy: 0.5580 - val_loss: 1.7407 - val_accuracy: 0.5724\n",
      "Epoch 10/10\n",
      "48/48 [==============================] - 0s 4ms/step - loss: 1.7233 - accuracy: 0.5768 - val_loss: 1.7019 - val_accuracy: 0.5898\n"
     ]
    }
   ],
   "source": [
    "history = model.fit(x, y, epochs=10, batch_size=1000, validation_split=0.20)"
   ]
  },
  {
   "cell_type": "code",
   "execution_count": 48,
   "id": "531a1fae",
   "metadata": {},
   "outputs": [
    {
     "name": "stdout",
     "output_type": "stream",
     "text": [
      "[[0.08056754 0.06594986 0.07647324 0.06225822 0.0598115  0.13962822\n",
      "  0.07657529 0.13352992 0.1167197  0.18848647]]\n"
     ]
    }
   ],
   "source": [
    "p = model.predict(np.array(xtest.loc[15]).reshape(1,784))\n",
    "print(p)"
   ]
  },
  {
   "cell_type": "code",
   "execution_count": 49,
   "id": "9843db66",
   "metadata": {},
   "outputs": [],
   "source": [
    "m = np.argmax(p)"
   ]
  },
  {
   "cell_type": "code",
   "execution_count": 50,
   "id": "2f50ed29",
   "metadata": {},
   "outputs": [
    {
     "data": {
      "text/plain": [
       "'Ankle boot'"
      ]
     },
     "execution_count": 50,
     "metadata": {},
     "output_type": "execute_result"
    }
   ],
   "source": [
    "label_dict[m]"
   ]
  },
  {
   "cell_type": "code",
   "execution_count": 52,
   "id": "27831e15",
   "metadata": {},
   "outputs": [
    {
     "data": {
      "text/plain": [
       "<matplotlib.image.AxesImage at 0x254fa2262b0>"
      ]
     },
     "execution_count": 52,
     "metadata": {},
     "output_type": "execute_result"
    },
    {
     "data": {
      "image/png": "[encoded data removed]",
      "text/plain": [
       "<Figure size 432x288 with 1 Axes>"
      ]
     },
     "metadata": {
      "needs_background": "light"
     },
     "output_type": "display_data"
    }
   ],
   "source": [
    "plt.imshow(np.array(xtest.loc[15]).reshape(28,28), cmap='gray')"
   ]
  },
  {
   "cell_type": "code",
   "execution_count": 111,
   "id": "ffe6ed7c",
   "metadata": {},
   "outputs": [],
   "source": [
    "model1 = Sequential()"
   ]
  },
  {
   "cell_type": "code",
   "execution_count": 112,
   "id": "08780cce",
   "metadata": {},
   "outputs": [],
   "source": [
    "model1.add(Dense(units=200, input_dim=784)) \n",
    "model1.add(Activation('tanh'))\n",
    "model1.add(Dense(units=100))\n",
    "model1.add(Activation('tanh'))\n",
    "model1.add(Dense(units=50))\n",
    "model1.add(Activation('sigmoid'))\n",
    "model1.add(Dense(units=10)) \n",
    "model1.add(Activation('softmax'))"
   ]
  },
  {
   "cell_type": "code",
   "execution_count": 113,
   "id": "f11fc508",
   "metadata": {},
   "outputs": [],
   "source": [
    "model1.compile(loss='categorical_crossentropy', optimizer='adam', metrics=['accuracy'])"
   ]
  },
  {
   "cell_type": "code",
   "execution_count": 114,
   "id": "386e6b92",
   "metadata": {
    "scrolled": true
   },
   "outputs": [
    {
     "name": "stdout",
     "output_type": "stream",
     "text": [
      "Epoch 1/20\n",
      "48/48 [==============================] - 1s 14ms/step - loss: 1.4233 - accuracy: 0.5755 - val_loss: 0.9676 - val_accuracy: 0.7358\n",
      "Epoch 2/20\n",
      "48/48 [==============================] - 1s 11ms/step - loss: 0.7855 - accuracy: 0.7852 - val_loss: 0.6470 - val_accuracy: 0.8172\n",
      "Epoch 3/20\n",
      "48/48 [==============================] - 1s 12ms/step - loss: 0.5737 - accuracy: 0.8304 - val_loss: 0.5278 - val_accuracy: 0.8346\n",
      "Epoch 4/20\n",
      "48/48 [==============================] - 1s 13ms/step - loss: 0.4835 - accuracy: 0.8474 - val_loss: 0.4686 - val_accuracy: 0.8499\n",
      "Epoch 5/20\n",
      "48/48 [==============================] - 1s 11ms/step - loss: 0.4313 - accuracy: 0.8614 - val_loss: 0.4277 - val_accuracy: 0.8598\n",
      "Epoch 6/20\n",
      "48/48 [==============================] - 1s 12ms/step - loss: 0.4046 - accuracy: 0.8657 - val_loss: 0.4153 - val_accuracy: 0.8594\n",
      "Epoch 7/20\n",
      "48/48 [==============================] - 1s 12ms/step - loss: 0.3770 - accuracy: 0.8744 - val_loss: 0.3883 - val_accuracy: 0.8677\n",
      "Epoch 8/20\n",
      "48/48 [==============================] - 1s 12ms/step - loss: 0.3570 - accuracy: 0.8806 - val_loss: 0.3743 - val_accuracy: 0.8726\n",
      "Epoch 9/20\n",
      "48/48 [==============================] - 1s 13ms/step - loss: 0.3456 - accuracy: 0.8829 - val_loss: 0.3687 - val_accuracy: 0.8727\n",
      "Epoch 10/20\n",
      "48/48 [==============================] - 1s 13ms/step - loss: 0.3324 - accuracy: 0.8867 - val_loss: 0.3639 - val_accuracy: 0.8740\n",
      "Epoch 11/20\n",
      "48/48 [==============================] - 1s 13ms/step - loss: 0.3190 - accuracy: 0.8920 - val_loss: 0.3584 - val_accuracy: 0.8743\n",
      "Epoch 12/20\n",
      "48/48 [==============================] - 1s 12ms/step - loss: 0.3130 - accuracy: 0.8928 - val_loss: 0.3550 - val_accuracy: 0.8733\n",
      "Epoch 13/20\n",
      "48/48 [==============================] - 1s 13ms/step - loss: 0.3057 - accuracy: 0.8946 - val_loss: 0.3457 - val_accuracy: 0.8775\n",
      "Epoch 14/20\n",
      "48/48 [==============================] - 1s 12ms/step - loss: 0.2964 - accuracy: 0.8967 - val_loss: 0.3430 - val_accuracy: 0.8781\n",
      "Epoch 15/20\n",
      "48/48 [==============================] - 1s 13ms/step - loss: 0.2871 - accuracy: 0.9010 - val_loss: 0.3326 - val_accuracy: 0.8823\n",
      "Epoch 16/20\n",
      "48/48 [==============================] - 1s 13ms/step - loss: 0.2803 - accuracy: 0.9028 - val_loss: 0.3416 - val_accuracy: 0.8783\n",
      "Epoch 17/20\n",
      "48/48 [==============================] - 1s 13ms/step - loss: 0.2720 - accuracy: 0.9059 - val_loss: 0.3281 - val_accuracy: 0.8841\n",
      "Epoch 18/20\n",
      "48/48 [==============================] - 1s 11ms/step - loss: 0.2701 - accuracy: 0.9039 - val_loss: 0.3318 - val_accuracy: 0.8806\n",
      "Epoch 19/20\n",
      "48/48 [==============================] - 1s 11ms/step - loss: 0.2625 - accuracy: 0.9085 - val_loss: 0.3196 - val_accuracy: 0.8852\n",
      "Epoch 20/20\n",
      "48/48 [==============================] - 1s 11ms/step - loss: 0.2548 - accuracy: 0.9093 - val_loss: 0.3188 - val_accuracy: 0.8857\n"
     ]
    }
   ],
   "source": [
    "history1 = model1.fit(x, y, epochs=20, batch_size=1000, validation_split=0.20)"
   ]
  },
  {
   "cell_type": "code",
   "execution_count": 115,
   "id": "a690519f",
   "metadata": {},
   "outputs": [
    {
     "data": {
      "text/plain": [
       "<matplotlib.legend.Legend at 0x254fa34a040>"
      ]
     },
     "execution_count": 115,
     "metadata": {},
     "output_type": "execute_result"
    },
    {
     "data": {
      "image/png": "[encoded data removed]",
      "text/plain": [
       "<Figure size 432x288 with 1 Axes>"
      ]
     },
     "metadata": {
      "needs_background": "light"
     },
     "output_type": "display_data"
    }
   ],
   "source": [
    "plt.plot(history1.history['loss'])\n",
    "plt.plot(history1.history['val_loss'])\n",
    "plt.title('model loss')\n",
    "plt.xlabel('epoch')\n",
    "plt.ylabel('loss')\n",
    "plt.legend(['train','validation'], loc='upper left')"
   ]
  },
  {
   "cell_type": "code",
   "execution_count": 126,
   "id": "5acbdd2d",
   "metadata": {},
   "outputs": [
    {
     "data": {
      "text/plain": [
       "<matplotlib.legend.Legend at 0x254fb5d2760>"
      ]
     },
     "execution_count": 126,
     "metadata": {},
     "output_type": "execute_result"
    },
    {
     "data": {
      "image/png": "[encoded data removed]",
      "text/plain": [
       "<Figure size 432x288 with 1 Axes>"
      ]
     },
     "metadata": {
      "needs_background": "light"
     },
     "output_type": "display_data"
    }
   ],
   "source": [
    "plt.plot(history1.history['accuracy'])\n",
    "plt.plot(history1.history['val_accuracy'])\n",
    "plt.title('model accuracy')\n",
    "plt.xlabel('epoch')\n",
    "plt.ylabel('loss')\n",
    "plt.legend(['train','validation'], loc='upper left')"
   ]
  },
  {
   "cell_type": "code",
   "execution_count": 118,
   "id": "86773024",
   "metadata": {},
   "outputs": [],
   "source": [
    "preds = model1.predict(np.array(xtest))"
   ]
  },
  {
   "cell_type": "code",
   "execution_count": 119,
   "id": "83639af0",
   "metadata": {},
   "outputs": [
    {
     "data": {
      "text/plain": [
       "array([[7.8837317e-01, 6.8252638e-04, 5.2365186e-03, ..., 1.1875187e-04,\n",
       "        1.1788906e-03, 1.8551247e-04],\n",
       "       [6.3783553e-04, 9.9587232e-01, 8.5343642e-04, ..., 2.9462940e-04,\n",
       "        3.0496409e-05, 2.9138825e-04],\n",
       "       [2.1406170e-02, 2.0155045e-03, 7.7272284e-01, ..., 5.2429241e-04,\n",
       "        1.2293895e-03, 2.5845270e-04],\n",
       "       ...,\n",
       "       [9.7756521e-05, 3.5118421e-05, 1.8403018e-04, ..., 2.3442184e-04,\n",
       "        9.9772769e-01, 8.4371182e-05],\n",
       "       [3.2871652e-02, 2.4280178e-04, 4.9165930e-03, ..., 1.7494711e-03,\n",
       "        8.6632532e-01, 7.6874392e-04],\n",
       "       [4.0812329e-03, 8.5170227e-01, 7.6303937e-02, ..., 7.2535040e-04,\n",
       "        1.4921341e-03, 2.4725345e-03]], dtype=float32)"
      ]
     },
     "execution_count": 119,
     "metadata": {},
     "output_type": "execute_result"
    }
   ],
   "source": [
    "preds"
   ]
  },
  {
   "cell_type": "code",
   "execution_count": 120,
   "id": "8688d3c7",
   "metadata": {},
   "outputs": [
    {
     "data": {
      "text/plain": [
       "(10000, 10)"
      ]
     },
     "execution_count": 120,
     "metadata": {},
     "output_type": "execute_result"
    }
   ],
   "source": [
    "preds.shape"
   ]
  },
  {
   "cell_type": "code",
   "execution_count": 121,
   "id": "34f949b4",
   "metadata": {},
   "outputs": [],
   "source": [
    "pred_classes = np.argmax(preds, axis=1)"
   ]
  },
  {
   "cell_type": "code",
   "execution_count": 122,
   "id": "236aacad",
   "metadata": {},
   "outputs": [
    {
     "data": {
      "text/plain": [
       "array([0, 1, 2, ..., 8, 8, 1], dtype=int64)"
      ]
     },
     "execution_count": 122,
     "metadata": {},
     "output_type": "execute_result"
    }
   ],
   "source": [
    "pred_classes"
   ]
  },
  {
   "cell_type": "code",
   "execution_count": 123,
   "id": "42bcb5f3",
   "metadata": {},
   "outputs": [
    {
     "data": {
      "text/plain": [
       "(10000,)"
      ]
     },
     "execution_count": 123,
     "metadata": {},
     "output_type": "execute_result"
    }
   ],
   "source": [
    "pred_classes.shape"
   ]
  },
  {
   "cell_type": "code",
   "execution_count": 124,
   "id": "4bc315aa",
   "metadata": {},
   "outputs": [],
   "source": [
    "from sklearn.metrics import accuracy_score"
   ]
  },
  {
   "cell_type": "code",
   "execution_count": 125,
   "id": "4efb807a",
   "metadata": {},
   "outputs": [
    {
     "data": {
      "text/plain": [
       "0.8879"
      ]
     },
     "execution_count": 125,
     "metadata": {},
     "output_type": "execute_result"
    }
   ],
   "source": [
    "accuracy_score(ytest, pred_classes)"
   ]
  },
  {
   "cell_type": "code",
   "execution_count": null,
   "id": "ba760e50",
   "metadata": {},
   "outputs": [],
   "source": []
  },
  {
   "cell_type": "code",
   "execution_count": 127,
   "id": "6f586f07",
   "metadata": {},
   "outputs": [],
   "source": [
    "from keras.regularizers import l1, l2"
   ]
  },
  {
   "cell_type": "code",
   "execution_count": 129,
   "id": "fd96d835",
   "metadata": {},
   "outputs": [],
   "source": [
    "from keras.layers import Dropout"
   ]
  },
  {
   "cell_type": "code",
   "execution_count": 155,
   "id": "8c4517c1",
   "metadata": {},
   "outputs": [],
   "source": [
    "model2 = Sequential()"
   ]
  },
  {
   "cell_type": "code",
   "execution_count": 156,
   "id": "3b7b8258",
   "metadata": {},
   "outputs": [],
   "source": [
    "model2.add(Dense(units=200, input_dim=784, kernel_regularizer=l1(0.001)))  \n",
    "model2.add(Activation('tanh'))\n",
    "model2.add(Dense(units=100))\n",
    "model2.add(Activation('tanh'))\n",
    "model2.add(Dropout(0.2, seed=42))\n",
    "model2.add(Dense(units=50))\n",
    "model2.add(Activation('sigmoid'))\n",
    "model2.add(Dense(units=10)) \n",
    "model2.add(Activation('softmax'))"
   ]
  },
  {
   "cell_type": "code",
   "execution_count": 157,
   "id": "974c1562",
   "metadata": {},
   "outputs": [],
   "source": [
    "model2.compile(loss='categorical_crossentropy', optimizer='adam', metrics=['accuracy'])"
   ]
  },
  {
   "cell_type": "code",
   "execution_count": 158,
   "id": "9fc6629a",
   "metadata": {
    "scrolled": true
   },
   "outputs": [
    {
     "name": "stdout",
     "output_type": "stream",
     "text": [
      "Epoch 1/20\n",
      "48/48 [==============================] - 1s 12ms/step - loss: 5.3555 - accuracy: 0.5493 - val_loss: 2.8358 - val_accuracy: 0.7143\n",
      "Epoch 2/20\n",
      "48/48 [==============================] - 0s 10ms/step - loss: 1.7316 - accuracy: 0.7427 - val_loss: 1.1667 - val_accuracy: 0.7566\n",
      "Epoch 3/20\n",
      "48/48 [==============================] - 0s 10ms/step - loss: 1.0093 - accuracy: 0.7685 - val_loss: 0.9055 - val_accuracy: 0.7784\n",
      "Epoch 4/20\n",
      "48/48 [==============================] - 0s 10ms/step - loss: 0.8572 - accuracy: 0.7874 - val_loss: 0.8286 - val_accuracy: 0.7873\n",
      "Epoch 5/20\n",
      "48/48 [==============================] - 1s 11ms/step - loss: 0.7910 - accuracy: 0.7958 - val_loss: 0.7570 - val_accuracy: 0.8022\n",
      "Epoch 6/20\n",
      "48/48 [==============================] - 1s 11ms/step - loss: 0.7307 - accuracy: 0.8091 - val_loss: 0.7319 - val_accuracy: 0.8064\n",
      "Epoch 7/20\n",
      "48/48 [==============================] - 0s 10ms/step - loss: 0.7096 - accuracy: 0.8101 - val_loss: 0.7012 - val_accuracy: 0.8159\n",
      "Epoch 8/20\n",
      "48/48 [==============================] - 1s 11ms/step - loss: 0.6758 - accuracy: 0.8174 - val_loss: 0.7041 - val_accuracy: 0.8116\n",
      "Epoch 9/20\n",
      "48/48 [==============================] - 1s 12ms/step - loss: 0.6588 - accuracy: 0.8200 - val_loss: 0.6542 - val_accuracy: 0.8196\n",
      "Epoch 10/20\n",
      "48/48 [==============================] - 1s 11ms/step - loss: 0.6376 - accuracy: 0.8239 - val_loss: 0.6470 - val_accuracy: 0.8169\n",
      "Epoch 11/20\n",
      "48/48 [==============================] - 1s 11ms/step - loss: 0.6279 - accuracy: 0.8256 - val_loss: 0.6362 - val_accuracy: 0.8234\n",
      "Epoch 12/20\n",
      "48/48 [==============================] - 1s 12ms/step - loss: 0.6173 - accuracy: 0.8258 - val_loss: 0.6481 - val_accuracy: 0.8160\n",
      "Epoch 13/20\n",
      "48/48 [==============================] - 1s 12ms/step - loss: 0.6021 - accuracy: 0.8317 - val_loss: 0.6164 - val_accuracy: 0.8257\n",
      "Epoch 14/20\n",
      "48/48 [==============================] - 1s 12ms/step - loss: 0.5917 - accuracy: 0.8323 - val_loss: 0.5908 - val_accuracy: 0.8345\n",
      "Epoch 15/20\n",
      "48/48 [==============================] - 1s 12ms/step - loss: 0.5776 - accuracy: 0.8385 - val_loss: 0.5951 - val_accuracy: 0.8284\n",
      "Epoch 16/20\n",
      "48/48 [==============================] - 1s 11ms/step - loss: 0.5709 - accuracy: 0.8382 - val_loss: 0.5753 - val_accuracy: 0.8371\n",
      "Epoch 17/20\n",
      "48/48 [==============================] - 1s 12ms/step - loss: 0.5614 - accuracy: 0.8420 - val_loss: 0.5769 - val_accuracy: 0.8367\n",
      "Epoch 18/20\n",
      "48/48 [==============================] - 1s 12ms/step - loss: 0.5570 - accuracy: 0.8420 - val_loss: 0.5794 - val_accuracy: 0.8350\n",
      "Epoch 19/20\n",
      "48/48 [==============================] - 1s 12ms/step - loss: 0.5595 - accuracy: 0.8401 - val_loss: 0.5833 - val_accuracy: 0.8323\n",
      "Epoch 20/20\n",
      "48/48 [==============================] - 1s 12ms/step - loss: 0.5561 - accuracy: 0.8407 - val_loss: 0.5624 - val_accuracy: 0.8413\n"
     ]
    }
   ],
   "source": [
    "history2 = model2.fit(x, y, epochs=20, batch_size=1000, validation_split=0.20)"
   ]
  },
  {
   "cell_type": "code",
   "execution_count": 159,
   "id": "05f261e6",
   "metadata": {},
   "outputs": [
    {
     "data": {
      "text/plain": [
       "<matplotlib.legend.Legend at 0x255163366a0>"
      ]
     },
     "execution_count": 159,
     "metadata": {},
     "output_type": "execute_result"
    },
    {
     "data": {
      "image/png": "[encoded data removed]",
      "text/plain": [
       "<Figure size 432x288 with 1 Axes>"
      ]
     },
     "metadata": {
      "needs_background": "light"
     },
     "output_type": "display_data"
    }
   ],
   "source": [
    "plt.plot(history2.history['loss'])\n",
    "plt.plot(history2.history['val_loss'])\n",
    "plt.title('model loss')\n",
    "plt.xlabel('epoch')\n",
    "plt.ylabel('loss')\n",
    "plt.legend(['train','validation'], loc='upper left')"
   ]
  },
  {
   "cell_type": "code",
   "execution_count": 160,
   "id": "2d440ee3",
   "metadata": {},
   "outputs": [
    {
     "data": {
      "text/plain": [
       "<matplotlib.legend.Legend at 0x2551648d340>"
      ]
     },
     "execution_count": 160,
     "metadata": {},
     "output_type": "execute_result"
    },
    {
     "data": {
      "image/png": "[encoded data removed]",
      "text/plain": [
       "<Figure size 432x288 with 1 Axes>"
      ]
     },
     "metadata": {
      "needs_background": "light"
     },
     "output_type": "display_data"
    }
   ],
   "source": [
    "plt.plot(history2.history['accuracy'])\n",
    "plt.plot(history2.history['val_accuracy'])\n",
    "plt.title('model accuracy')\n",
    "plt.xlabel('epoch')\n",
    "plt.ylabel('loss')\n",
    "plt.legend(['train','validation'], loc='upper left')"
   ]
  },
  {
   "cell_type": "code",
   "execution_count": 161,
   "id": "e3094987",
   "metadata": {},
   "outputs": [],
   "source": [
    "preds = model2.predict(np.array(xtest))"
   ]
  },
  {
   "cell_type": "code",
   "execution_count": 162,
   "id": "cc079069",
   "metadata": {},
   "outputs": [],
   "source": [
    "pred_classes = np.argmax(preds, axis=1)"
   ]
  },
  {
   "cell_type": "code",
   "execution_count": 163,
   "id": "d40ee384",
   "metadata": {},
   "outputs": [
    {
     "data": {
      "text/plain": [
       "0.8452"
      ]
     },
     "execution_count": 163,
     "metadata": {},
     "output_type": "execute_result"
    }
   ],
   "source": [
    "accuracy_score(ytest, pred_classes)"
   ]
  },
  {
   "cell_type": "code",
   "execution_count": null,
   "id": "0f663cec",
   "metadata": {},
   "outputs": [],
   "source": []
  },
  {
   "cell_type": "code",
   "execution_count": 164,
   "id": "28632a69",
   "metadata": {},
   "outputs": [],
   "source": [
    "from keras.wrappers.scikit_learn import KerasClassifier"
   ]
  },
  {
   "cell_type": "code",
   "execution_count": 185,
   "id": "f43d7b21",
   "metadata": {},
   "outputs": [],
   "source": [
    "from sklearn.model_selection import GridSearchCV"
   ]
  },
  {
   "cell_type": "code",
   "execution_count": 192,
   "id": "811c344a",
   "metadata": {},
   "outputs": [],
   "source": [
    "def create_model(opt='adam',neurons=[200,100,50]):\n",
    "    model = Sequential()\n",
    "    model.add(Dense(units=neurons[0], input_dim=784, kernel_regularizer=l1(0.001)))  \n",
    "    model.add(Activation('tanh'))\n",
    "    model.add(Dense(units=neurons[1]))\n",
    "    model.add(Activation('tanh'))\n",
    "    model.add(Dropout(0.2, seed=42))\n",
    "    model.add(Dense(units=neurons[2]))\n",
    "    model.add(Activation('sigmoid'))\n",
    "    model.add(Dense(units=10)) \n",
    "    model.add(Activation('softmax'))\n",
    "    model.compile(loss='categorical_crossentropy', optimizer=opt, metrics=['accuracy'])\n",
    "    \n",
    "    return model"
   ]
  },
  {
   "cell_type": "code",
   "execution_count": 193,
   "id": "9441eef9",
   "metadata": {},
   "outputs": [],
   "source": [
    "model = KerasClassifier(build_fn=create_model, verbose=2, epochs=10) # mention batch_size if not hyperparameter tuning"
   ]
  },
  {
   "cell_type": "code",
   "execution_count": 194,
   "id": "f9864fd0",
   "metadata": {},
   "outputs": [],
   "source": [
    "param_grid = {'batch_size':[500,1000],\n",
    "             'opt':['sgd','adam'],\n",
    "             'neurons':[[200,100,50],[150,75,30]]\n",
    "             }"
   ]
  },
  {
   "cell_type": "code",
   "execution_count": 195,
   "id": "aeb63b95",
   "metadata": {},
   "outputs": [],
   "source": [
    "grid = GridSearchCV(estimator=model, param_grid=param_grid)"
   ]
  },
  {
   "cell_type": "code",
   "execution_count": 196,
   "id": "5ae48e1b",
   "metadata": {},
   "outputs": [
    {
     "name": "stdout",
     "output_type": "stream",
     "text": [
      "Epoch 1/10\n",
      "96/96 [==============================] - 1s 7ms/step - loss: 8.2281 - accuracy: 0.2866\n",
      "Epoch 2/10\n",
      "96/96 [==============================] - 1s 7ms/step - loss: 7.8369 - accuracy: 0.4919\n",
      "Epoch 3/10\n",
      "96/96 [==============================] - 1s 8ms/step - loss: 7.5110 - accuracy: 0.5484\n",
      "Epoch 4/10\n",
      "96/96 [==============================] - 1s 8ms/step - loss: 7.2298 - accuracy: 0.5725\n",
      "Epoch 5/10\n",
      "96/96 [==============================] - 1s 8ms/step - loss: 6.9773 - accuracy: 0.5907\n",
      "Epoch 6/10\n",
      "96/96 [==============================] - 1s 8ms/step - loss: 6.7448 - accuracy: 0.6062\n",
      "Epoch 7/10\n",
      "96/96 [==============================] - 1s 8ms/step - loss: 6.5271 - accuracy: 0.6189\n",
      "Epoch 8/10\n",
      "96/96 [==============================] - 1s 8ms/step - loss: 6.3237 - accuracy: 0.6351\n",
      "Epoch 9/10\n",
      "96/96 [==============================] - 1s 9ms/step - loss: 6.1315 - accuracy: 0.6492\n",
      "Epoch 10/10\n",
      "96/96 [==============================] - 1s 9ms/step - loss: 5.9494 - accuracy: 0.6590\n",
      "24/24 [==============================] - 0s 5ms/step - loss: 5.8433 - accuracy: 0.6704\n",
      "Epoch 1/10\n",
      "96/96 [==============================] - 1s 8ms/step - loss: 8.3557 - accuracy: 0.2101\n",
      "Epoch 2/10\n",
      "96/96 [==============================] - 1s 8ms/step - loss: 7.9322 - accuracy: 0.3819\n",
      "Epoch 3/10\n",
      "96/96 [==============================] - 1s 8ms/step - loss: 7.6047 - accuracy: 0.5101\n",
      "Epoch 4/10\n",
      "96/96 [==============================] - 1s 8ms/step - loss: 7.3134 - accuracy: 0.5698\n",
      "Epoch 5/10\n",
      "96/96 [==============================] - 1s 9ms/step - loss: 7.0482 - accuracy: 0.5993\n",
      "Epoch 6/10\n",
      "96/96 [==============================] - 1s 9ms/step - loss: 6.8063 - accuracy: 0.6211\n",
      "Epoch 7/10\n",
      "96/96 [==============================] - 1s 9ms/step - loss: 6.5838 - accuracy: 0.6361\n",
      "Epoch 8/10\n",
      "96/96 [==============================] - 1s 9ms/step - loss: 6.3762 - accuracy: 0.6487\n",
      "Epoch 9/10\n",
      "96/96 [==============================] - 1s 9ms/step - loss: 6.1799 - accuracy: 0.6616\n",
      "Epoch 10/10\n",
      "96/96 [==============================] - 1s 9ms/step - loss: 5.9946 - accuracy: 0.6690\n",
      "24/24 [==============================] - 0s 5ms/step - loss: 5.8892 - accuracy: 0.6745\n",
      "Epoch 1/10\n",
      "96/96 [==============================] - 1s 10ms/step - loss: 8.3141 - accuracy: 0.1837\n",
      "Epoch 2/10\n",
      "96/96 [==============================] - 1s 10ms/step - loss: 7.9160 - accuracy: 0.4922\n",
      "Epoch 3/10\n",
      "96/96 [==============================] - 1s 11ms/step - loss: 7.5866 - accuracy: 0.5694\n",
      "Epoch 4/10\n",
      "96/96 [==============================] - 1s 10ms/step - loss: 7.2901 - accuracy: 0.5752\n",
      "Epoch 5/10\n",
      "96/96 [==============================] - 1s 11ms/step - loss: 7.0227 - accuracy: 0.5880\n",
      "Epoch 6/10\n",
      "96/96 [==============================] - 1s 10ms/step - loss: 6.7791 - accuracy: 0.6085\n",
      "Epoch 7/10\n",
      "96/96 [==============================] - 1s 10ms/step - loss: 6.5551 - accuracy: 0.6231\n",
      "Epoch 8/10\n",
      "96/96 [==============================] - 1s 11ms/step - loss: 6.3462 - accuracy: 0.6420\n",
      "Epoch 9/10\n",
      "96/96 [==============================] - 1s 10ms/step - loss: 6.1493 - accuracy: 0.6616\n",
      "Epoch 10/10\n",
      "96/96 [==============================] - 1s 10ms/step - loss: 5.9633 - accuracy: 0.6700\n",
      "24/24 [==============================] - 0s 5ms/step - loss: 5.8633 - accuracy: 0.6857\n",
      "Epoch 1/10\n",
      "96/96 [==============================] - 1s 9ms/step - loss: 8.2485 - accuracy: 0.1915\n",
      "Epoch 2/10\n",
      "96/96 [==============================] - 1s 9ms/step - loss: 7.8421 - accuracy: 0.5078\n",
      "Epoch 3/10\n",
      "96/96 [==============================] - 1s 10ms/step - loss: 7.5123 - accuracy: 0.5884\n",
      "Epoch 4/10\n",
      "96/96 [==============================] - 1s 11ms/step - loss: 7.2243 - accuracy: 0.6081\n",
      "Epoch 5/10\n",
      "96/96 [==============================] - 1s 10ms/step - loss: 6.9643 - accuracy: 0.6224\n",
      "Epoch 6/10\n",
      "96/96 [==============================] - 1s 11ms/step - loss: 6.7264 - accuracy: 0.6350\n",
      "Epoch 7/10\n",
      "96/96 [==============================] - 1s 11ms/step - loss: 6.5054 - accuracy: 0.6471\n",
      "Epoch 8/10\n",
      "96/96 [==============================] - 1s 11ms/step - loss: 6.2989 - accuracy: 0.6545\n",
      "Epoch 9/10\n",
      "96/96 [==============================] - 1s 13ms/step - loss: 6.1039 - accuracy: 0.6611\n",
      "Epoch 10/10\n",
      "96/96 [==============================] - 1s 12ms/step - loss: 5.9203 - accuracy: 0.6671 1s\n",
      "24/24 [==============================] - 0s 6ms/step - loss: 5.8201 - accuracy: 0.6675\n",
      "Epoch 1/10\n",
      "96/96 [==============================] - 2s 11ms/step - loss: 8.2807 - accuracy: 0.2468 0s - loss:\n",
      "Epoch 2/10\n",
      "96/96 [==============================] - 1s 13ms/step - loss: 7.8691 - accuracy: 0.4773 0s - loss: 7.8708 - accuracy: 0.47\n",
      "Epoch 3/10\n",
      "96/96 [==============================] - 1s 13ms/step - loss: 7.5398 - accuracy: 0.5307\n",
      "Epoch 4/10\n",
      "96/96 [==============================] - 1s 12ms/step - loss: 7.2522 - accuracy: 0.5640\n",
      "Epoch 5/10\n",
      "96/96 [==============================] - 1s 13ms/step - loss: 6.9963 - accuracy: 0.5834\n",
      "Epoch 6/10\n",
      "96/96 [==============================] - 1s 11ms/step - loss: 6.7633 - accuracy: 0.6094\n",
      "Epoch 7/10\n",
      "96/96 [==============================] - 1s 12ms/step - loss: 6.5464 - accuracy: 0.6256\n",
      "Epoch 8/10\n",
      "96/96 [==============================] - 1s 13ms/step - loss: 6.3425 - accuracy: 0.6375\n",
      "Epoch 9/10\n",
      "96/96 [==============================] - 1s 13ms/step - loss: 6.1492 - accuracy: 0.6542\n",
      "Epoch 10/10\n",
      "96/96 [==============================] - 1s 13ms/step - loss: 5.9658 - accuracy: 0.6671\n",
      "24/24 [==============================] - 0s 6ms/step - loss: 5.8610 - accuracy: 0.6801\n",
      "Epoch 1/10\n",
      "96/96 [==============================] - 2s 14ms/step - loss: 3.5446 - accuracy: 0.6611\n",
      "Epoch 2/10\n",
      "96/96 [==============================] - 1s 14ms/step - loss: 1.0022 - accuracy: 0.7580\n",
      "Epoch 3/10\n",
      "96/96 [==============================] - 1s 14ms/step - loss: 0.8202 - accuracy: 0.7877\n",
      "Epoch 4/10\n",
      "96/96 [==============================] - 1s 13ms/step - loss: 0.7398 - accuracy: 0.8027\n",
      "Epoch 5/10\n",
      "96/96 [==============================] - 1s 13ms/step - loss: 0.7018 - accuracy: 0.8120\n",
      "Epoch 6/10\n",
      "96/96 [==============================] - 1s 13ms/step - loss: 0.6738 - accuracy: 0.8151\n",
      "Epoch 7/10\n",
      "96/96 [==============================] - 1s 13ms/step - loss: 0.6478 - accuracy: 0.8240\n",
      "Epoch 8/10\n",
      "96/96 [==============================] - 1s 13ms/step - loss: 0.6252 - accuracy: 0.8287\n",
      "Epoch 9/10\n",
      "96/96 [==============================] - 1s 13ms/step - loss: 0.6196 - accuracy: 0.8280\n",
      "Epoch 10/10\n",
      "96/96 [==============================] - 1s 12ms/step - loss: 0.6049 - accuracy: 0.8306\n",
      "24/24 [==============================] - 0s 5ms/step - loss: 0.5899 - accuracy: 0.8270\n",
      "Epoch 1/10\n",
      "96/96 [==============================] - 2s 12ms/step - loss: 3.6663 - accuracy: 0.6346\n",
      "Epoch 2/10\n",
      "96/96 [==============================] - 1s 15ms/step - loss: 0.9955 - accuracy: 0.7707\n",
      "Epoch 3/10\n",
      "96/96 [==============================] - 1s 14ms/step - loss: 0.8085 - accuracy: 0.7968\n",
      "Epoch 4/10\n",
      "96/96 [==============================] - 1s 14ms/step - loss: 0.7303 - accuracy: 0.8076\n",
      "Epoch 5/10\n",
      "96/96 [==============================] - 1s 13ms/step - loss: 0.6957 - accuracy: 0.8135\n",
      "Epoch 6/10\n",
      "96/96 [==============================] - 1s 15ms/step - loss: 0.6630 - accuracy: 0.8231\n",
      "Epoch 7/10\n",
      "96/96 [==============================] - 1s 13ms/step - loss: 0.6493 - accuracy: 0.8209\n",
      "Epoch 8/10\n",
      "96/96 [==============================] - 1s 14ms/step - loss: 0.6323 - accuracy: 0.8256\n",
      "Epoch 9/10\n",
      "96/96 [==============================] - 1s 14ms/step - loss: 0.6023 - accuracy: 0.8328 0s - loss: 0.5\n",
      "Epoch 10/10\n",
      "96/96 [==============================] - 1s 12ms/step - loss: 0.6074 - accuracy: 0.8296\n",
      "24/24 [==============================] - 0s 5ms/step - loss: 0.6565 - accuracy: 0.8028\n",
      "Epoch 1/10\n",
      "96/96 [==============================] - 2s 11ms/step - loss: 3.7887 - accuracy: 0.6112\n",
      "Epoch 2/10\n",
      "96/96 [==============================] - 1s 14ms/step - loss: 1.0368 - accuracy: 0.7633\n",
      "Epoch 3/10\n",
      "96/96 [==============================] - 1s 14ms/step - loss: 0.8298 - accuracy: 0.7874\n",
      "Epoch 4/10\n",
      "96/96 [==============================] - 1s 14ms/step - loss: 0.7548 - accuracy: 0.8006 0s - los\n",
      "Epoch 5/10\n",
      "96/96 [==============================] - 1s 13ms/step - loss: 0.7023 - accuracy: 0.8093\n",
      "Epoch 6/10\n",
      "96/96 [==============================] - 1s 13ms/step - loss: 0.6895 - accuracy: 0.8105\n",
      "Epoch 7/10\n"
     ]
    },
    {
     "name": "stdout",
     "output_type": "stream",
     "text": [
      "96/96 [==============================] - 1s 13ms/step - loss: 0.6554 - accuracy: 0.8189\n",
      "Epoch 8/10\n",
      "96/96 [==============================] - 1s 11ms/step - loss: 0.6284 - accuracy: 0.8256\n",
      "Epoch 9/10\n",
      "96/96 [==============================] - 1s 10ms/step - loss: 0.6231 - accuracy: 0.8249\n",
      "Epoch 10/10\n",
      "96/96 [==============================] - 1s 10ms/step - loss: 0.6245 - accuracy: 0.8245\n",
      "24/24 [==============================] - 0s 5ms/step - loss: 0.5829 - accuracy: 0.8409\n",
      "Epoch 1/10\n",
      "96/96 [==============================] - 1s 9ms/step - loss: 3.5832 - accuracy: 0.6511\n",
      "Epoch 2/10\n",
      "96/96 [==============================] - 1s 10ms/step - loss: 0.9826 - accuracy: 0.7699\n",
      "Epoch 3/10\n",
      "96/96 [==============================] - 1s 10ms/step - loss: 0.8114 - accuracy: 0.7914\n",
      "Epoch 4/10\n",
      "96/96 [==============================] - 1s 10ms/step - loss: 0.7335 - accuracy: 0.8053\n",
      "Epoch 5/10\n",
      "96/96 [==============================] - 1s 11ms/step - loss: 0.6936 - accuracy: 0.8114\n",
      "Epoch 6/10\n",
      "96/96 [==============================] - 1s 11ms/step - loss: 0.6663 - accuracy: 0.8171\n",
      "Epoch 7/10\n",
      "96/96 [==============================] - 1s 11ms/step - loss: 0.6493 - accuracy: 0.8189\n",
      "Epoch 8/10\n",
      "96/96 [==============================] - 1s 11ms/step - loss: 0.6306 - accuracy: 0.8242\n",
      "Epoch 9/10\n",
      "96/96 [==============================] - 1s 11ms/step - loss: 0.6113 - accuracy: 0.8279\n",
      "Epoch 10/10\n",
      "96/96 [==============================] - 1s 11ms/step - loss: 0.6017 - accuracy: 0.8303\n",
      "24/24 [==============================] - 0s 5ms/step - loss: 0.6083 - accuracy: 0.8258\n",
      "Epoch 1/10\n",
      "96/96 [==============================] - 1s 9ms/step - loss: 3.5095 - accuracy: 0.6430\n",
      "Epoch 2/10\n",
      "96/96 [==============================] - 1s 10ms/step - loss: 0.9866 - accuracy: 0.7612\n",
      "Epoch 3/10\n",
      "96/96 [==============================] - 1s 10ms/step - loss: 0.8155 - accuracy: 0.7883\n",
      "Epoch 4/10\n",
      "96/96 [==============================] - 1s 10ms/step - loss: 0.7381 - accuracy: 0.8049\n",
      "Epoch 5/10\n",
      "96/96 [==============================] - 1s 10ms/step - loss: 0.6918 - accuracy: 0.8139\n",
      "Epoch 6/10\n",
      "96/96 [==============================] - 1s 10ms/step - loss: 0.6660 - accuracy: 0.8202\n",
      "Epoch 7/10\n",
      "96/96 [==============================] - 1s 10ms/step - loss: 0.6471 - accuracy: 0.8218\n",
      "Epoch 8/10\n",
      "96/96 [==============================] - 1s 10ms/step - loss: 0.6239 - accuracy: 0.8299\n",
      "Epoch 9/10\n",
      "96/96 [==============================] - 1s 10ms/step - loss: 0.6186 - accuracy: 0.8283\n",
      "Epoch 10/10\n",
      "96/96 [==============================] - 1s 11ms/step - loss: 0.5970 - accuracy: 0.8327\n",
      "24/24 [==============================] - 0s 6ms/step - loss: 0.6175 - accuracy: 0.8228\n",
      "Epoch 1/10\n",
      "96/96 [==============================] - 1s 7ms/step - loss: 6.9040 - accuracy: 0.2168\n",
      "Epoch 2/10\n",
      "96/96 [==============================] - 1s 8ms/step - loss: 6.5898 - accuracy: 0.4552\n",
      "Epoch 3/10\n",
      "96/96 [==============================] - 1s 9ms/step - loss: 6.3232 - accuracy: 0.5332\n",
      "Epoch 4/10\n",
      "96/96 [==============================] - 1s 9ms/step - loss: 6.0826 - accuracy: 0.5727\n",
      "Epoch 5/10\n",
      "96/96 [==============================] - 1s 8ms/step - loss: 5.8626 - accuracy: 0.6016\n",
      "Epoch 6/10\n",
      "96/96 [==============================] - 1s 8ms/step - loss: 5.6606 - accuracy: 0.6177\n",
      "Epoch 7/10\n",
      "96/96 [==============================] - 1s 9ms/step - loss: 5.4727 - accuracy: 0.6341\n",
      "Epoch 8/10\n",
      "96/96 [==============================] - 1s 9ms/step - loss: 5.2970 - accuracy: 0.6445\n",
      "Epoch 9/10\n",
      "96/96 [==============================] - 1s 8ms/step - loss: 5.1312 - accuracy: 0.6562\n",
      "Epoch 10/10\n",
      "96/96 [==============================] - 1s 8ms/step - loss: 4.9743 - accuracy: 0.6657\n",
      "24/24 [==============================] - 0s 4ms/step - loss: 4.8786 - accuracy: 0.6761\n",
      "Epoch 1/10\n",
      "96/96 [==============================] - 1s 9ms/step - loss: 6.9630 - accuracy: 0.1926\n",
      "Epoch 2/10\n",
      "96/96 [==============================] - 1s 10ms/step - loss: 6.7023 - accuracy: 0.3998\n",
      "Epoch 3/10\n",
      "96/96 [==============================] - 1s 9ms/step - loss: 6.4708 - accuracy: 0.4773\n",
      "Epoch 4/10\n",
      "96/96 [==============================] - 1s 10ms/step - loss: 6.2422 - accuracy: 0.5221\n",
      "Epoch 5/10\n",
      "96/96 [==============================] - 1s 9ms/step - loss: 6.0258 - accuracy: 0.5562\n",
      "Epoch 6/10\n",
      "96/96 [==============================] - 1s 10ms/step - loss: 5.8208 - accuracy: 0.5787\n",
      "Epoch 7/10\n",
      "96/96 [==============================] - 1s 10ms/step - loss: 5.6291 - accuracy: 0.5955\n",
      "Epoch 8/10\n",
      "96/96 [==============================] - 1s 10ms/step - loss: 5.4484 - accuracy: 0.6099\n",
      "Epoch 9/10\n",
      "96/96 [==============================] - 1s 10ms/step - loss: 5.2783 - accuracy: 0.6202\n",
      "Epoch 10/10\n",
      "96/96 [==============================] - 1s 9ms/step - loss: 5.1153 - accuracy: 0.6312\n",
      "24/24 [==============================] - 0s 4ms/step - loss: 5.0238 - accuracy: 0.6382\n",
      "Epoch 1/10\n",
      "96/96 [==============================] - 1s 8ms/step - loss: 6.9803 - accuracy: 0.1809\n",
      "Epoch 2/10\n",
      "96/96 [==============================] - 1s 10ms/step - loss: 6.6668 - accuracy: 0.3336\n",
      "Epoch 3/10\n",
      "96/96 [==============================] - 1s 9ms/step - loss: 6.4015 - accuracy: 0.4094\n",
      "Epoch 4/10\n",
      "96/96 [==============================] - 1s 10ms/step - loss: 6.1622 - accuracy: 0.4875\n",
      "Epoch 5/10\n",
      "96/96 [==============================] - 1s 10ms/step - loss: 5.9453 - accuracy: 0.5620\n",
      "Epoch 6/10\n",
      "96/96 [==============================] - 1s 9ms/step - loss: 5.7489 - accuracy: 0.5950\n",
      "Epoch 7/10\n",
      "96/96 [==============================] - 1s 10ms/step - loss: 5.5678 - accuracy: 0.6119\n",
      "Epoch 8/10\n",
      "96/96 [==============================] - 1s 9ms/step - loss: 5.3980 - accuracy: 0.6236\n",
      "Epoch 9/10\n",
      "96/96 [==============================] - 1s 9ms/step - loss: 5.2370 - accuracy: 0.6351\n",
      "Epoch 10/10\n",
      "96/96 [==============================] - 1s 10ms/step - loss: 5.0846 - accuracy: 0.6413\n",
      "24/24 [==============================] - 0s 4ms/step - loss: 4.9994 - accuracy: 0.6503\n",
      "Epoch 1/10\n",
      "96/96 [==============================] - 1s 10ms/step - loss: 6.9570 - accuracy: 0.1403\n",
      "Epoch 2/10\n",
      "96/96 [==============================] - 1s 12ms/step - loss: 6.6339 - accuracy: 0.3608\n",
      "Epoch 3/10\n",
      "96/96 [==============================] - 1s 13ms/step - loss: 6.3582 - accuracy: 0.4657\n",
      "Epoch 4/10\n",
      "96/96 [==============================] - 1s 12ms/step - loss: 6.1163 - accuracy: 0.5100\n",
      "Epoch 5/10\n",
      "96/96 [==============================] - 1s 12ms/step - loss: 5.9009 - accuracy: 0.5415\n",
      "Epoch 6/10\n",
      "96/96 [==============================] - 1s 9ms/step - loss: 5.7037 - accuracy: 0.5660\n",
      "Epoch 7/10\n",
      "96/96 [==============================] - 1s 9ms/step - loss: 5.5196 - accuracy: 0.5947\n",
      "Epoch 8/10\n",
      "96/96 [==============================] - 1s 10ms/step - loss: 5.3473 - accuracy: 0.6132\n",
      "Epoch 9/10\n",
      "96/96 [==============================] - 1s 9ms/step - loss: 5.1835 - accuracy: 0.6278\n",
      "Epoch 10/10\n",
      "96/96 [==============================] - 1s 10ms/step - loss: 5.0292 - accuracy: 0.6407\n",
      "24/24 [==============================] - 0s 4ms/step - loss: 4.9414 - accuracy: 0.6474\n",
      "Epoch 1/10\n",
      "96/96 [==============================] - 1s 8ms/step - loss: 6.9342 - accuracy: 0.2054\n",
      "Epoch 2/10\n",
      "96/96 [==============================] - 1s 9ms/step - loss: 6.6121 - accuracy: 0.4235\n",
      "Epoch 3/10\n",
      "96/96 [==============================] - 1s 9ms/step - loss: 6.3554 - accuracy: 0.5389\n",
      "Epoch 4/10\n",
      "96/96 [==============================] - 1s 10ms/step - loss: 6.1202 - accuracy: 0.5868\n",
      "Epoch 5/10\n",
      "96/96 [==============================] - 1s 9ms/step - loss: 5.9025 - accuracy: 0.6097\n",
      "Epoch 6/10\n",
      "96/96 [==============================] - 1s 10ms/step - loss: 5.6976 - accuracy: 0.6267\n",
      "Epoch 7/10\n",
      "96/96 [==============================] - 1s 10ms/step - loss: 5.5056 - accuracy: 0.6386\n",
      "Epoch 8/10\n",
      "96/96 [==============================] - 1s 10ms/step - loss: 5.3256 - accuracy: 0.6517\n",
      "Epoch 9/10\n",
      "96/96 [==============================] - 1s 10ms/step - loss: 5.1550 - accuracy: 0.6645\n",
      "Epoch 10/10\n",
      "96/96 [==============================] - 1s 9ms/step - loss: 4.9933 - accuracy: 0.6700\n",
      "24/24 [==============================] - 0s 4ms/step - loss: 4.8969 - accuracy: 0.6842\n",
      "Epoch 1/10\n",
      "96/96 [==============================] - 1s 8ms/step - loss: 3.3383 - accuracy: 0.5512\n",
      "Epoch 2/10\n",
      "96/96 [==============================] - 1s 9ms/step - loss: 1.1987 - accuracy: 0.7039\n",
      "Epoch 3/10\n"
     ]
    },
    {
     "name": "stdout",
     "output_type": "stream",
     "text": [
      "96/96 [==============================] - 1s 9ms/step - loss: 0.9586 - accuracy: 0.7561\n",
      "Epoch 4/10\n",
      "96/96 [==============================] - 1s 9ms/step - loss: 0.8352 - accuracy: 0.7771\n",
      "Epoch 5/10\n",
      "96/96 [==============================] - 1s 8ms/step - loss: 0.7613 - accuracy: 0.7926\n",
      "Epoch 6/10\n",
      "96/96 [==============================] - 1s 8ms/step - loss: 0.7236 - accuracy: 0.8029\n",
      "Epoch 7/10\n",
      "96/96 [==============================] - 1s 8ms/step - loss: 0.6813 - accuracy: 0.8141\n",
      "Epoch 8/10\n",
      "96/96 [==============================] - 1s 9ms/step - loss: 0.6720 - accuracy: 0.8168\n",
      "Epoch 9/10\n",
      "96/96 [==============================] - 1s 8ms/step - loss: 0.6371 - accuracy: 0.8243\n",
      "Epoch 10/10\n",
      "96/96 [==============================] - 1s 8ms/step - loss: 0.6314 - accuracy: 0.8235\n",
      "24/24 [==============================] - 0s 4ms/step - loss: 0.6064 - accuracy: 0.8322\n",
      "Epoch 1/10\n",
      "96/96 [==============================] - 1s 7ms/step - loss: 3.3409 - accuracy: 0.5610\n",
      "Epoch 2/10\n",
      "96/96 [==============================] - 1s 9ms/step - loss: 1.1319 - accuracy: 0.7420\n",
      "Epoch 3/10\n",
      "96/96 [==============================] - 1s 9ms/step - loss: 0.9102 - accuracy: 0.7711\n",
      "Epoch 4/10\n",
      "96/96 [==============================] - 1s 10ms/step - loss: 0.8104 - accuracy: 0.7883\n",
      "Epoch 5/10\n",
      "96/96 [==============================] - 1s 9ms/step - loss: 0.7477 - accuracy: 0.8027\n",
      "Epoch 6/10\n",
      "96/96 [==============================] - 1s 8ms/step - loss: 0.7114 - accuracy: 0.8098\n",
      "Epoch 7/10\n",
      "96/96 [==============================] - 1s 9ms/step - loss: 0.6781 - accuracy: 0.8169\n",
      "Epoch 8/10\n",
      "96/96 [==============================] - 1s 8ms/step - loss: 0.6678 - accuracy: 0.8167\n",
      "Epoch 9/10\n",
      "96/96 [==============================] - 1s 8ms/step - loss: 0.6332 - accuracy: 0.8270\n",
      "Epoch 10/10\n",
      "96/96 [==============================] - 1s 8ms/step - loss: 0.6246 - accuracy: 0.8282\n",
      "24/24 [==============================] - 0s 4ms/step - loss: 0.6343 - accuracy: 0.8263\n",
      "Epoch 1/10\n",
      "96/96 [==============================] - 1s 8ms/step - loss: 3.3693 - accuracy: 0.5639\n",
      "Epoch 2/10\n",
      "96/96 [==============================] - 1s 8ms/step - loss: 1.1623 - accuracy: 0.7529\n",
      "Epoch 3/10\n",
      "96/96 [==============================] - 1s 8ms/step - loss: 0.9141 - accuracy: 0.7720\n",
      "Epoch 4/10\n",
      "96/96 [==============================] - 1s 8ms/step - loss: 0.8038 - accuracy: 0.7894\n",
      "Epoch 5/10\n",
      "96/96 [==============================] - 1s 9ms/step - loss: 0.7472 - accuracy: 0.8010\n",
      "Epoch 6/10\n",
      "96/96 [==============================] - 1s 8ms/step - loss: 0.7049 - accuracy: 0.8107\n",
      "Epoch 7/10\n",
      "96/96 [==============================] - 1s 9ms/step - loss: 0.6779 - accuracy: 0.8137\n",
      "Epoch 8/10\n",
      "96/96 [==============================] - 1s 9ms/step - loss: 0.6607 - accuracy: 0.8181\n",
      "Epoch 9/10\n",
      "96/96 [==============================] - 1s 10ms/step - loss: 0.6318 - accuracy: 0.8254\n",
      "Epoch 10/10\n",
      "96/96 [==============================] - 1s 10ms/step - loss: 0.6231 - accuracy: 0.8258\n",
      "24/24 [==============================] - 0s 4ms/step - loss: 0.6195 - accuracy: 0.8280\n",
      "Epoch 1/10\n",
      "96/96 [==============================] - 2s 8ms/step - loss: 3.3697 - accuracy: 0.5931\n",
      "Epoch 2/10\n",
      "96/96 [==============================] - 1s 9ms/step - loss: 1.1844 - accuracy: 0.7300\n",
      "Epoch 3/10\n",
      "96/96 [==============================] - 1s 9ms/step - loss: 0.9397 - accuracy: 0.7663\n",
      "Epoch 4/10\n",
      "96/96 [==============================] - 1s 9ms/step - loss: 0.8303 - accuracy: 0.7853\n",
      "Epoch 5/10\n",
      "96/96 [==============================] - 1s 9ms/step - loss: 0.7672 - accuracy: 0.7972\n",
      "Epoch 6/10\n",
      "96/96 [==============================] - 1s 9ms/step - loss: 0.7258 - accuracy: 0.8056\n",
      "Epoch 7/10\n",
      "96/96 [==============================] - 1s 9ms/step - loss: 0.6913 - accuracy: 0.8118\n",
      "Epoch 8/10\n",
      "96/96 [==============================] - 1s 9ms/step - loss: 0.6659 - accuracy: 0.8185\n",
      "Epoch 9/10\n",
      "96/96 [==============================] - 1s 9ms/step - loss: 0.6634 - accuracy: 0.8168\n",
      "Epoch 10/10\n",
      "96/96 [==============================] - 1s 9ms/step - loss: 0.6329 - accuracy: 0.8265\n",
      "24/24 [==============================] - 0s 4ms/step - loss: 0.6188 - accuracy: 0.8284\n",
      "Epoch 1/10\n",
      "96/96 [==============================] - 1s 8ms/step - loss: 3.4572 - accuracy: 0.5847\n",
      "Epoch 2/10\n",
      "96/96 [==============================] - 1s 13ms/step - loss: 1.1828 - accuracy: 0.7271\n",
      "Epoch 3/10\n",
      "96/96 [==============================] - 1s 11ms/step - loss: 0.9328 - accuracy: 0.7608\n",
      "Epoch 4/10\n",
      "96/96 [==============================] - 1s 12ms/step - loss: 0.8255 - accuracy: 0.7811\n",
      "Epoch 5/10\n",
      "96/96 [==============================] - 1s 11ms/step - loss: 0.7661 - accuracy: 0.7946\n",
      "Epoch 6/10\n",
      "96/96 [==============================] - 1s 11ms/step - loss: 0.7150 - accuracy: 0.8064\n",
      "Epoch 7/10\n",
      "96/96 [==============================] - 1s 12ms/step - loss: 0.6893 - accuracy: 0.8125\n",
      "Epoch 8/10\n",
      "96/96 [==============================] - 1s 12ms/step - loss: 0.6652 - accuracy: 0.8182\n",
      "Epoch 9/10\n",
      "96/96 [==============================] - 1s 11ms/step - loss: 0.6450 - accuracy: 0.8230\n",
      "Epoch 10/10\n",
      "96/96 [==============================] - 1s 10ms/step - loss: 0.6293 - accuracy: 0.8245\n",
      "24/24 [==============================] - 0s 4ms/step - loss: 0.6338 - accuracy: 0.8257\n",
      "Epoch 1/10\n",
      "48/48 [==============================] - 1s 14ms/step - loss: 8.4274 - accuracy: 0.0964\n",
      "Epoch 2/10\n",
      "48/48 [==============================] - 1s 18ms/step - loss: 8.2222 - accuracy: 0.2203\n",
      "Epoch 3/10\n",
      "48/48 [==============================] - 1s 19ms/step - loss: 8.0562 - accuracy: 0.4075\n",
      "Epoch 4/10\n",
      "48/48 [==============================] - 1s 18ms/step - loss: 7.8960 - accuracy: 0.4762\n",
      "Epoch 5/10\n",
      "48/48 [==============================] - 1s 18ms/step - loss: 7.7395 - accuracy: 0.5238\n",
      "Epoch 6/10\n",
      "48/48 [==============================] - 1s 18ms/step - loss: 7.5879 - accuracy: 0.5578\n",
      "Epoch 7/10\n",
      "48/48 [==============================] - 1s 18ms/step - loss: 7.4423 - accuracy: 0.5783\n",
      "Epoch 8/10\n",
      "48/48 [==============================] - 1s 18ms/step - loss: 7.3019 - accuracy: 0.5961\n",
      "Epoch 9/10\n",
      "48/48 [==============================] - 1s 19ms/step - loss: 7.1670 - accuracy: 0.6110\n",
      "Epoch 10/10\n",
      "48/48 [==============================] - 1s 19ms/step - loss: 7.0375 - accuracy: 0.6243\n",
      "12/12 [==============================] - 0s 9ms/step - loss: 6.9590 - accuracy: 0.6444\n",
      "Epoch 1/10\n",
      "48/48 [==============================] - 1s 15ms/step - loss: 8.4197 - accuracy: 0.1425\n",
      "Epoch 2/10\n",
      "48/48 [==============================] - 1s 17ms/step - loss: 8.1611 - accuracy: 0.3562\n",
      "Epoch 3/10\n",
      "48/48 [==============================] - 1s 20ms/step - loss: 7.9572 - accuracy: 0.4753\n",
      "Epoch 4/10\n",
      "48/48 [==============================] - 1s 19ms/step - loss: 7.7722 - accuracy: 0.5216\n",
      "Epoch 5/10\n",
      "48/48 [==============================] - 1s 18ms/step - loss: 7.6051 - accuracy: 0.5514\n",
      "Epoch 6/10\n",
      "48/48 [==============================] - 1s 18ms/step - loss: 7.4529 - accuracy: 0.5736\n",
      "Epoch 7/10\n",
      "48/48 [==============================] - 1s 18ms/step - loss: 7.3113 - accuracy: 0.5923\n",
      "Epoch 8/10\n",
      "48/48 [==============================] - 1s 17ms/step - loss: 7.1792 - accuracy: 0.6068\n",
      "Epoch 9/10\n",
      "48/48 [==============================] - 1s 19ms/step - loss: 7.0537 - accuracy: 0.6180\n",
      "Epoch 10/10\n",
      "48/48 [==============================] - 1s 20ms/step - loss: 6.9327 - accuracy: 0.6290\n",
      "12/12 [==============================] - 0s 7ms/step - loss: 6.8581 - accuracy: 0.6454\n",
      "Epoch 1/10\n",
      "48/48 [==============================] - 1s 14ms/step - loss: 8.3994 - accuracy: 0.1865\n",
      "Epoch 2/10\n",
      "48/48 [==============================] - 1s 18ms/step - loss: 8.1490 - accuracy: 0.2913\n",
      "Epoch 3/10\n",
      "48/48 [==============================] - 1s 22ms/step - loss: 7.9503 - accuracy: 0.3832\n",
      "Epoch 4/10\n",
      "48/48 [==============================] - 1s 23ms/step - loss: 7.7699 - accuracy: 0.4585\n",
      "Epoch 5/10\n",
      "48/48 [==============================] - 1s 25ms/step - loss: 7.6034 - accuracy: 0.5022\n",
      "Epoch 6/10\n",
      "48/48 [==============================] - 1s 20ms/step - loss: 7.4490 - accuracy: 0.5336\n",
      "Epoch 7/10\n",
      "48/48 [==============================] - 1s 19ms/step - loss: 7.3048 - accuracy: 0.5581\n",
      "Epoch 8/10\n",
      "48/48 [==============================] - 1s 19ms/step - loss: 7.1711 - accuracy: 0.5803\n",
      "Epoch 9/10\n"
     ]
    },
    {
     "name": "stdout",
     "output_type": "stream",
     "text": [
      "48/48 [==============================] - 1s 19ms/step - loss: 7.0432 - accuracy: 0.6002 0s - loss: 7.0\n",
      "Epoch 10/10\n",
      "48/48 [==============================] - 1s 16ms/step - loss: 6.9231 - accuracy: 0.6094\n",
      "12/12 [==============================] - 0s 7ms/step - loss: 6.8542 - accuracy: 0.6190\n",
      "Epoch 1/10\n",
      "48/48 [==============================] - 1s 14ms/step - loss: 8.4282 - accuracy: 0.1549\n",
      "Epoch 2/10\n",
      "48/48 [==============================] - 1s 16ms/step - loss: 8.1759 - accuracy: 0.3769\n",
      "Epoch 3/10\n",
      "48/48 [==============================] - 1s 17ms/step - loss: 7.9832 - accuracy: 0.5080\n",
      "Epoch 4/10\n",
      "48/48 [==============================] - 1s 17ms/step - loss: 7.7992 - accuracy: 0.5416\n",
      "Epoch 5/10\n",
      "48/48 [==============================] - 1s 16ms/step - loss: 7.6256 - accuracy: 0.5565\n",
      "Epoch 6/10\n",
      "48/48 [==============================] - 1s 18ms/step - loss: 7.4648 - accuracy: 0.5658 0s - los\n",
      "Epoch 7/10\n",
      "48/48 [==============================] - 1s 17ms/step - loss: 7.3137 - accuracy: 0.5788\n",
      "Epoch 8/10\n",
      "48/48 [==============================] - 1s 17ms/step - loss: 7.1733 - accuracy: 0.5874\n",
      "Epoch 9/10\n",
      "48/48 [==============================] - 1s 17ms/step - loss: 7.0420 - accuracy: 0.5974\n",
      "Epoch 10/10\n",
      "48/48 [==============================] - 1s 17ms/step - loss: 6.9162 - accuracy: 0.6090\n",
      "12/12 [==============================] - 0s 7ms/step - loss: 6.8456 - accuracy: 0.6189\n",
      "Epoch 1/10\n",
      "48/48 [==============================] - 1s 15ms/step - loss: 8.4167 - accuracy: 0.1661\n",
      "Epoch 2/10\n",
      "48/48 [==============================] - 1s 18ms/step - loss: 8.1738 - accuracy: 0.2806\n",
      "Epoch 3/10\n",
      "48/48 [==============================] - 1s 16ms/step - loss: 7.9910 - accuracy: 0.3844\n",
      "Epoch 4/10\n",
      "48/48 [==============================] - 1s 18ms/step - loss: 7.8175 - accuracy: 0.4616\n",
      "Epoch 5/10\n",
      "48/48 [==============================] - 1s 17ms/step - loss: 7.6524 - accuracy: 0.5070\n",
      "Epoch 6/10\n",
      "48/48 [==============================] - 1s 17ms/step - loss: 7.4981 - accuracy: 0.5350\n",
      "Epoch 7/10\n",
      "48/48 [==============================] - 1s 16ms/step - loss: 7.3504 - accuracy: 0.5566\n",
      "Epoch 8/10\n",
      "48/48 [==============================] - 1s 16ms/step - loss: 7.2125 - accuracy: 0.5721\n",
      "Epoch 9/10\n",
      "48/48 [==============================] - 1s 17ms/step - loss: 7.0804 - accuracy: 0.5889\n",
      "Epoch 10/10\n",
      "48/48 [==============================] - 1s 17ms/step - loss: 6.9556 - accuracy: 0.6031\n",
      "12/12 [==============================] - 0s 8ms/step - loss: 6.8781 - accuracy: 0.6195\n",
      "Epoch 1/10\n",
      "48/48 [==============================] - 1s 15ms/step - loss: 5.2888 - accuracy: 0.5536\n",
      "Epoch 2/10\n",
      "48/48 [==============================] - 1s 17ms/step - loss: 1.7076 - accuracy: 0.7356\n",
      "Epoch 3/10\n",
      "48/48 [==============================] - 1s 17ms/step - loss: 1.0066 - accuracy: 0.7694\n",
      "Epoch 4/10\n",
      "48/48 [==============================] - 1s 17ms/step - loss: 0.8647 - accuracy: 0.7844\n",
      "Epoch 5/10\n",
      "48/48 [==============================] - 1s 17ms/step - loss: 0.7935 - accuracy: 0.7955\n",
      "Epoch 6/10\n",
      "48/48 [==============================] - 1s 16ms/step - loss: 0.7436 - accuracy: 0.8028\n",
      "Epoch 7/10\n",
      "48/48 [==============================] - 1s 17ms/step - loss: 0.7123 - accuracy: 0.8081\n",
      "Epoch 8/10\n",
      "48/48 [==============================] - 1s 18ms/step - loss: 0.6851 - accuracy: 0.8141\n",
      "Epoch 9/10\n",
      "48/48 [==============================] - 1s 18ms/step - loss: 0.6700 - accuracy: 0.8146\n",
      "Epoch 10/10\n",
      "48/48 [==============================] - 1s 18ms/step - loss: 0.6545 - accuracy: 0.8180\n",
      "12/12 [==============================] - 0s 10ms/step - loss: 0.6505 - accuracy: 0.8194\n",
      "Epoch 1/10\n",
      "48/48 [==============================] - 1s 14ms/step - loss: 5.2898 - accuracy: 0.5707\n",
      "Epoch 2/10\n",
      "48/48 [==============================] - 1s 16ms/step - loss: 1.7005 - accuracy: 0.7279\n",
      "Epoch 3/10\n",
      "48/48 [==============================] - 1s 17ms/step - loss: 1.0120 - accuracy: 0.7639\n",
      "Epoch 4/10\n",
      "48/48 [==============================] - 1s 17ms/step - loss: 0.8696 - accuracy: 0.7810\n",
      "Epoch 5/10\n",
      "48/48 [==============================] - 1s 17ms/step - loss: 0.7972 - accuracy: 0.7953\n",
      "Epoch 6/10\n",
      "48/48 [==============================] - 1s 17ms/step - loss: 0.7597 - accuracy: 0.7990\n",
      "Epoch 7/10\n",
      "48/48 [==============================] - 1s 16ms/step - loss: 0.7234 - accuracy: 0.8068\n",
      "Epoch 8/10\n",
      "48/48 [==============================] - 1s 18ms/step - loss: 0.6989 - accuracy: 0.8111\n",
      "Epoch 9/10\n",
      "48/48 [==============================] - 1s 16ms/step - loss: 0.6716 - accuracy: 0.8175\n",
      "Epoch 10/10\n",
      "48/48 [==============================] - 1s 16ms/step - loss: 0.6621 - accuracy: 0.8187\n",
      "12/12 [==============================] - 0s 6ms/step - loss: 0.6616 - accuracy: 0.8124\n",
      "Epoch 1/10\n",
      "48/48 [==============================] - 1s 13ms/step - loss: 5.3289 - accuracy: 0.5944\n",
      "Epoch 2/10\n",
      "48/48 [==============================] - 1s 16ms/step - loss: 1.7145 - accuracy: 0.7444\n",
      "Epoch 3/10\n",
      "48/48 [==============================] - 1s 16ms/step - loss: 1.0093 - accuracy: 0.7601\n",
      "Epoch 4/10\n",
      "48/48 [==============================] - 1s 16ms/step - loss: 0.8720 - accuracy: 0.7736\n",
      "Epoch 5/10\n",
      "48/48 [==============================] - 1s 20ms/step - loss: 0.7961 - accuracy: 0.7891\n",
      "Epoch 6/10\n",
      "48/48 [==============================] - 1s 17ms/step - loss: 0.7499 - accuracy: 0.7978\n",
      "Epoch 7/10\n",
      "48/48 [==============================] - 1s 19ms/step - loss: 0.7175 - accuracy: 0.8073\n",
      "Epoch 8/10\n",
      "48/48 [==============================] - 1s 19ms/step - loss: 0.6876 - accuracy: 0.8125\n",
      "Epoch 9/10\n",
      "48/48 [==============================] - 1s 18ms/step - loss: 0.6666 - accuracy: 0.8171\n",
      "Epoch 10/10\n",
      "48/48 [==============================] - 1s 17ms/step - loss: 0.6484 - accuracy: 0.8205\n",
      "12/12 [==============================] - 0s 7ms/step - loss: 0.6296 - accuracy: 0.8303\n",
      "Epoch 1/10\n",
      "48/48 [==============================] - 1s 14ms/step - loss: 5.3362 - accuracy: 0.5857\n",
      "Epoch 2/10\n",
      "48/48 [==============================] - 1s 16ms/step - loss: 1.7317 - accuracy: 0.7328\n",
      "Epoch 3/10\n",
      "48/48 [==============================] - 1s 17ms/step - loss: 1.0292 - accuracy: 0.7610\n",
      "Epoch 4/10\n",
      "48/48 [==============================] - 1s 19ms/step - loss: 0.8775 - accuracy: 0.7844\n",
      "Epoch 5/10\n",
      "48/48 [==============================] - 1s 20ms/step - loss: 0.8028 - accuracy: 0.7929\n",
      "Epoch 6/10\n",
      "48/48 [==============================] - 1s 18ms/step - loss: 0.7511 - accuracy: 0.8015\n",
      "Epoch 7/10\n",
      "48/48 [==============================] - 1s 16ms/step - loss: 0.7242 - accuracy: 0.8072\n",
      "Epoch 8/10\n",
      "48/48 [==============================] - 1s 17ms/step - loss: 0.6892 - accuracy: 0.8159\n",
      "Epoch 9/10\n",
      "48/48 [==============================] - 1s 18ms/step - loss: 0.6665 - accuracy: 0.8201\n",
      "Epoch 10/10\n",
      "48/48 [==============================] - 1s 18ms/step - loss: 0.6721 - accuracy: 0.8143\n",
      "12/12 [==============================] - 0s 7ms/step - loss: 0.6483 - accuracy: 0.8240\n",
      "Epoch 1/10\n",
      "48/48 [==============================] - 2s 16ms/step - loss: 5.3877 - accuracy: 0.5416\n",
      "Epoch 2/10\n",
      "48/48 [==============================] - 1s 17ms/step - loss: 1.7555 - accuracy: 0.7217\n",
      "Epoch 3/10\n",
      "48/48 [==============================] - 1s 18ms/step - loss: 1.0349 - accuracy: 0.7612\n",
      "Epoch 4/10\n",
      "48/48 [==============================] - 1s 17ms/step - loss: 0.8752 - accuracy: 0.7807\n",
      "Epoch 5/10\n",
      "48/48 [==============================] - 1s 18ms/step - loss: 0.8002 - accuracy: 0.7916\n",
      "Epoch 6/10\n",
      "48/48 [==============================] - 1s 19ms/step - loss: 0.7451 - accuracy: 0.8021\n",
      "Epoch 7/10\n",
      "48/48 [==============================] - 1s 18ms/step - loss: 0.7105 - accuracy: 0.8078\n",
      "Epoch 8/10\n",
      "48/48 [==============================] - 1s 18ms/step - loss: 0.6764 - accuracy: 0.8165\n",
      "Epoch 9/10\n",
      "48/48 [==============================] - 1s 18ms/step - loss: 0.6629 - accuracy: 0.8180\n",
      "Epoch 10/10\n",
      "48/48 [==============================] - 1s 17ms/step - loss: 0.6495 - accuracy: 0.8187\n",
      "12/12 [==============================] - 0s 8ms/step - loss: 0.6636 - accuracy: 0.8125\n",
      "Epoch 1/10\n",
      "48/48 [==============================] - 1s 12ms/step - loss: 7.0419 - accuracy: 0.1497\n",
      "Epoch 2/10\n",
      "48/48 [==============================] - 1s 14ms/step - loss: 6.8357 - accuracy: 0.3068\n",
      "Epoch 3/10\n",
      "48/48 [==============================] - 1s 16ms/step - loss: 6.6737 - accuracy: 0.3949\n",
      "Epoch 4/10\n"
     ]
    },
    {
     "name": "stdout",
     "output_type": "stream",
     "text": [
      "48/48 [==============================] - 1s 15ms/step - loss: 6.5288 - accuracy: 0.4371\n",
      "Epoch 5/10\n",
      "48/48 [==============================] - 1s 15ms/step - loss: 6.3953 - accuracy: 0.4816\n",
      "Epoch 6/10\n",
      "48/48 [==============================] - 1s 18ms/step - loss: 6.2697 - accuracy: 0.5341\n",
      "Epoch 7/10\n",
      "48/48 [==============================] - 1s 16ms/step - loss: 6.1502 - accuracy: 0.5654\n",
      "Epoch 8/10\n",
      "48/48 [==============================] - 1s 19ms/step - loss: 6.0372 - accuracy: 0.5812\n",
      "Epoch 9/10\n",
      "48/48 [==============================] - 1s 17ms/step - loss: 5.9281 - accuracy: 0.5970\n",
      "Epoch 10/10\n",
      "48/48 [==============================] - 1s 16ms/step - loss: 5.8227 - accuracy: 0.6082\n",
      "12/12 [==============================] - 0s 7ms/step - loss: 5.7559 - accuracy: 0.6212\n",
      "Epoch 1/10\n",
      "48/48 [==============================] - 1s 12ms/step - loss: 7.0210 - accuracy: 0.1509\n",
      "Epoch 2/10\n",
      "48/48 [==============================] - 1s 14ms/step - loss: 6.8174 - accuracy: 0.2708\n",
      "Epoch 3/10\n",
      "48/48 [==============================] - 1s 14ms/step - loss: 6.6624 - accuracy: 0.3716\n",
      "Epoch 4/10\n",
      "48/48 [==============================] - 1s 15ms/step - loss: 6.5241 - accuracy: 0.4354\n",
      "Epoch 5/10\n",
      "48/48 [==============================] - 1s 19ms/step - loss: 6.3970 - accuracy: 0.4912\n",
      "Epoch 6/10\n",
      "48/48 [==============================] - 1s 15ms/step - loss: 6.2782 - accuracy: 0.5252\n",
      "Epoch 7/10\n",
      "48/48 [==============================] - 1s 16ms/step - loss: 6.1650 - accuracy: 0.5469\n",
      "Epoch 8/10\n",
      "48/48 [==============================] - 1s 15ms/step - loss: 6.0577 - accuracy: 0.5549\n",
      "Epoch 9/10\n",
      "48/48 [==============================] - 1s 14ms/step - loss: 5.9546 - accuracy: 0.5680\n",
      "Epoch 10/10\n",
      "48/48 [==============================] - 1s 14ms/step - loss: 5.8562 - accuracy: 0.5791\n",
      "12/12 [==============================] - 0s 7ms/step - loss: 5.7935 - accuracy: 0.5986\n",
      "Epoch 1/10\n",
      "48/48 [==============================] - 1s 12ms/step - loss: 7.0279 - accuracy: 0.1424\n",
      "Epoch 2/10\n",
      "48/48 [==============================] - 1s 14ms/step - loss: 6.8328 - accuracy: 0.2289\n",
      "Epoch 3/10\n",
      "48/48 [==============================] - 1s 15ms/step - loss: 6.6818 - accuracy: 0.2950\n",
      "Epoch 4/10\n",
      "48/48 [==============================] - 1s 15ms/step - loss: 6.5407 - accuracy: 0.3769\n",
      "Epoch 5/10\n",
      "48/48 [==============================] - 1s 14ms/step - loss: 6.4073 - accuracy: 0.4488\n",
      "Epoch 6/10\n",
      "48/48 [==============================] - 1s 16ms/step - loss: 6.2832 - accuracy: 0.5049\n",
      "Epoch 7/10\n",
      "48/48 [==============================] - 1s 15ms/step - loss: 6.1643 - accuracy: 0.5356\n",
      "Epoch 8/10\n",
      "48/48 [==============================] - 1s 15ms/step - loss: 6.0525 - accuracy: 0.5638\n",
      "Epoch 9/10\n",
      "48/48 [==============================] - 1s 19ms/step - loss: 5.9450 - accuracy: 0.5823\n",
      "Epoch 10/10\n",
      "48/48 [==============================] - 1s 16ms/step - loss: 5.8414 - accuracy: 0.5947\n",
      "12/12 [==============================] - 0s 7ms/step - loss: 5.7832 - accuracy: 0.6079\n",
      "Epoch 1/10\n",
      "48/48 [==============================] - 1s 12ms/step - loss: 7.0365 - accuracy: 0.1416\n",
      "Epoch 2/10\n",
      "48/48 [==============================] - 1s 15ms/step - loss: 6.8085 - accuracy: 0.2331\n",
      "Epoch 3/10\n",
      "48/48 [==============================] - 1s 15ms/step - loss: 6.6457 - accuracy: 0.3368\n",
      "Epoch 4/10\n",
      "48/48 [==============================] - 1s 15ms/step - loss: 6.5000 - accuracy: 0.3906\n",
      "Epoch 5/10\n",
      "48/48 [==============================] - 1s 16ms/step - loss: 6.3650 - accuracy: 0.4169\n",
      "Epoch 6/10\n",
      "48/48 [==============================] - 1s 14ms/step - loss: 6.2403 - accuracy: 0.4413\n",
      "Epoch 7/10\n",
      "48/48 [==============================] - 1s 15ms/step - loss: 6.1229 - accuracy: 0.4601\n",
      "Epoch 8/10\n",
      "48/48 [==============================] - 1s 15ms/step - loss: 6.0112 - accuracy: 0.4831\n",
      "Epoch 9/10\n",
      "48/48 [==============================] - 1s 15ms/step - loss: 5.9062 - accuracy: 0.5090\n",
      "Epoch 10/10\n",
      "48/48 [==============================] - 1s 15ms/step - loss: 5.8058 - accuracy: 0.5330\n",
      "12/12 [==============================] - 0s 7ms/step - loss: 5.7461 - accuracy: 0.5625\n",
      "Epoch 1/10\n",
      "48/48 [==============================] - 1s 13ms/step - loss: 7.0336 - accuracy: 0.1370\n",
      "Epoch 2/10\n",
      "48/48 [==============================] - 1s 14ms/step - loss: 6.8148 - accuracy: 0.2156\n",
      "Epoch 3/10\n",
      "48/48 [==============================] - 1s 15ms/step - loss: 6.6413 - accuracy: 0.3038\n",
      "Epoch 4/10\n",
      "48/48 [==============================] - 1s 14ms/step - loss: 6.4862 - accuracy: 0.3805\n",
      "Epoch 5/10\n",
      "48/48 [==============================] - 1s 15ms/step - loss: 6.3486 - accuracy: 0.4683\n",
      "Epoch 6/10\n",
      "48/48 [==============================] - 1s 15ms/step - loss: 6.2221 - accuracy: 0.5359\n",
      "Epoch 7/10\n",
      "48/48 [==============================] - 1s 16ms/step - loss: 6.1056 - accuracy: 0.5718\n",
      "Epoch 8/10\n",
      "48/48 [==============================] - 1s 16ms/step - loss: 5.9970 - accuracy: 0.5909\n",
      "Epoch 9/10\n",
      "48/48 [==============================] - 1s 15ms/step - loss: 5.8936 - accuracy: 0.6045\n",
      "Epoch 10/10\n",
      "48/48 [==============================] - 1s 15ms/step - loss: 5.7954 - accuracy: 0.6153\n",
      "12/12 [==============================] - 0s 6ms/step - loss: 5.7359 - accuracy: 0.6318\n",
      "Epoch 1/10\n",
      "48/48 [==============================] - 1s 11ms/step - loss: 4.6506 - accuracy: 0.5713 0s - loss: 5.6329 - accura\n",
      "Epoch 2/10\n",
      "48/48 [==============================] - 1s 13ms/step - loss: 1.8032 - accuracy: 0.7331\n",
      "Epoch 3/10\n",
      "48/48 [==============================] - 1s 17ms/step - loss: 1.1546 - accuracy: 0.7567 0s - loss: 1.2100 - \n",
      "Epoch 4/10\n",
      "48/48 [==============================] - 1s 15ms/step - loss: 0.9807 - accuracy: 0.7702\n",
      "Epoch 5/10\n",
      "48/48 [==============================] - 1s 15ms/step - loss: 0.8828 - accuracy: 0.7825\n",
      "Epoch 6/10\n",
      "48/48 [==============================] - 1s 14ms/step - loss: 0.8196 - accuracy: 0.7920\n",
      "Epoch 7/10\n",
      "48/48 [==============================] - 1s 14ms/step - loss: 0.7740 - accuracy: 0.7974\n",
      "Epoch 8/10\n",
      "48/48 [==============================] - 1s 16ms/step - loss: 0.7419 - accuracy: 0.8035\n",
      "Epoch 9/10\n",
      "48/48 [==============================] - 1s 15ms/step - loss: 0.7092 - accuracy: 0.8085\n",
      "Epoch 10/10\n",
      "48/48 [==============================] - 1s 16ms/step - loss: 0.6871 - accuracy: 0.8149\n",
      "12/12 [==============================] - 0s 7ms/step - loss: 0.6587 - accuracy: 0.8147\n",
      "Epoch 1/10\n",
      "48/48 [==============================] - 1s 12ms/step - loss: 4.6386 - accuracy: 0.5399\n",
      "Epoch 2/10\n",
      "48/48 [==============================] - 1s 19ms/step - loss: 1.8155 - accuracy: 0.7038\n",
      "Epoch 3/10\n",
      "48/48 [==============================] - 1s 20ms/step - loss: 1.1655 - accuracy: 0.7370\n",
      "Epoch 4/10\n",
      "48/48 [==============================] - 1s 17ms/step - loss: 0.9924 - accuracy: 0.7655\n",
      "Epoch 5/10\n",
      "48/48 [==============================] - 1s 17ms/step - loss: 0.8893 - accuracy: 0.7841\n",
      "Epoch 6/10\n",
      "48/48 [==============================] - 1s 17ms/step - loss: 0.8155 - accuracy: 0.7955\n",
      "Epoch 7/10\n",
      "48/48 [==============================] - 1s 20ms/step - loss: 0.7799 - accuracy: 0.7995\n",
      "Epoch 8/10\n",
      "48/48 [==============================] - 1s 20ms/step - loss: 0.7481 - accuracy: 0.8036\n",
      "Epoch 9/10\n",
      "48/48 [==============================] - 1s 20ms/step - loss: 0.7066 - accuracy: 0.8129\n",
      "Epoch 10/10\n",
      "48/48 [==============================] - 1s 15ms/step - loss: 0.6872 - accuracy: 0.8138 0s - loss: 0.7004 \n",
      "12/12 [==============================] - 0s 9ms/step - loss: 0.6703 - accuracy: 0.8193\n",
      "Epoch 1/10\n",
      "48/48 [==============================] - 1s 11ms/step - loss: 4.6111 - accuracy: 0.5493\n",
      "Epoch 2/10\n",
      "48/48 [==============================] - 1s 14ms/step - loss: 1.7948 - accuracy: 0.7226\n",
      "Epoch 3/10\n",
      "48/48 [==============================] - 1s 15ms/step - loss: 1.1621 - accuracy: 0.7547\n",
      "Epoch 4/10\n",
      "48/48 [==============================] - 1s 14ms/step - loss: 0.9862 - accuracy: 0.7708\n",
      "Epoch 5/10\n",
      "48/48 [==============================] - 1s 14ms/step - loss: 0.8813 - accuracy: 0.7858\n",
      "Epoch 6/10\n",
      "48/48 [==============================] - 1s 14ms/step - loss: 0.8125 - accuracy: 0.7955\n",
      "Epoch 7/10\n",
      "48/48 [==============================] - 1s 15ms/step - loss: 0.7747 - accuracy: 0.7995\n",
      "Epoch 8/10\n",
      "48/48 [==============================] - 1s 17ms/step - loss: 0.7611 - accuracy: 0.7962\n",
      "Epoch 9/10\n",
      "48/48 [==============================] - 1s 16ms/step - loss: 0.7136 - accuracy: 0.8087\n"
     ]
    },
    {
     "name": "stdout",
     "output_type": "stream",
     "text": [
      "Epoch 10/10\n",
      "48/48 [==============================] - 1s 15ms/step - loss: 0.6839 - accuracy: 0.8140\n",
      "12/12 [==============================] - 0s 6ms/step - loss: 0.6510 - accuracy: 0.8253\n",
      "Epoch 1/10\n",
      "48/48 [==============================] - 1s 13ms/step - loss: 4.8862 - accuracy: 0.4085\n",
      "Epoch 2/10\n",
      "48/48 [==============================] - 1s 16ms/step - loss: 2.0156 - accuracy: 0.7078\n",
      "Epoch 3/10\n",
      "48/48 [==============================] - 1s 15ms/step - loss: 1.2583 - accuracy: 0.7516\n",
      "Epoch 4/10\n",
      "48/48 [==============================] - 1s 15ms/step - loss: 1.0448 - accuracy: 0.7721\n",
      "Epoch 5/10\n",
      "48/48 [==============================] - 1s 16ms/step - loss: 0.9238 - accuracy: 0.7874\n",
      "Epoch 6/10\n",
      "48/48 [==============================] - 1s 16ms/step - loss: 0.8424 - accuracy: 0.7983\n",
      "Epoch 7/10\n",
      "48/48 [==============================] - 1s 15ms/step - loss: 0.7907 - accuracy: 0.8052\n",
      "Epoch 8/10\n",
      "48/48 [==============================] - 1s 16ms/step - loss: 0.7608 - accuracy: 0.8060\n",
      "Epoch 9/10\n",
      "48/48 [==============================] - 1s 17ms/step - loss: 0.7232 - accuracy: 0.8135 0s - loss: 0.7\n",
      "Epoch 10/10\n",
      "48/48 [==============================] - 1s 17ms/step - loss: 0.7027 - accuracy: 0.8148\n",
      "12/12 [==============================] - 0s 7ms/step - loss: 0.6772 - accuracy: 0.8245\n",
      "Epoch 1/10\n",
      "48/48 [==============================] - 1s 11ms/step - loss: 4.9199 - accuracy: 0.3878\n",
      "Epoch 2/10\n",
      "48/48 [==============================] - 1s 13ms/step - loss: 2.0071 - accuracy: 0.7076\n",
      "Epoch 3/10\n",
      "48/48 [==============================] - 1s 14ms/step - loss: 1.2557 - accuracy: 0.7449\n",
      "Epoch 4/10\n",
      "48/48 [==============================] - 1s 14ms/step - loss: 1.0404 - accuracy: 0.7682\n",
      "Epoch 5/10\n",
      "48/48 [==============================] - 1s 14ms/step - loss: 0.9139 - accuracy: 0.7835\n",
      "Epoch 6/10\n",
      "48/48 [==============================] - 1s 15ms/step - loss: 0.8371 - accuracy: 0.7933\n",
      "Epoch 7/10\n",
      "48/48 [==============================] - 1s 16ms/step - loss: 0.7904 - accuracy: 0.7994\n",
      "Epoch 8/10\n",
      "48/48 [==============================] - 1s 16ms/step - loss: 0.7408 - accuracy: 0.8105\n",
      "Epoch 9/10\n",
      "48/48 [==============================] - 1s 14ms/step - loss: 0.7067 - accuracy: 0.8162\n",
      "Epoch 10/10\n",
      "48/48 [==============================] - 1s 15ms/step - loss: 0.6889 - accuracy: 0.8184\n",
      "12/12 [==============================] - 0s 7ms/step - loss: 0.6813 - accuracy: 0.8163\n",
      "Epoch 1/10\n",
      "120/120 [==============================] - 2s 8ms/step - loss: 2.8488 - accuracy: 0.6470\n",
      "Epoch 2/10\n",
      "120/120 [==============================] - 1s 9ms/step - loss: 1.0276 - accuracy: 0.7533\n",
      "Epoch 3/10\n",
      "120/120 [==============================] - 1s 9ms/step - loss: 0.8454 - accuracy: 0.7830\n",
      "Epoch 4/10\n",
      "120/120 [==============================] - 1s 9ms/step - loss: 0.7632 - accuracy: 0.7986\n",
      "Epoch 5/10\n",
      "120/120 [==============================] - 1s 9ms/step - loss: 0.7123 - accuracy: 0.8083\n",
      "Epoch 6/10\n",
      "120/120 [==============================] - 1s 9ms/step - loss: 0.6792 - accuracy: 0.8157\n",
      "Epoch 7/10\n",
      "120/120 [==============================] - 1s 9ms/step - loss: 0.6490 - accuracy: 0.8219\n",
      "Epoch 8/10\n",
      "120/120 [==============================] - 1s 9ms/step - loss: 0.6337 - accuracy: 0.8255\n",
      "Epoch 9/10\n",
      "120/120 [==============================] - 1s 9ms/step - loss: 0.6159 - accuracy: 0.8291\n",
      "Epoch 10/10\n",
      "120/120 [==============================] - 1s 9ms/step - loss: 0.6034 - accuracy: 0.8321\n"
     ]
    }
   ],
   "source": [
    "grid_result = grid.fit(x, y)"
   ]
  },
  {
   "cell_type": "code",
   "execution_count": 197,
   "id": "72453827",
   "metadata": {},
   "outputs": [
    {
     "data": {
      "text/plain": [
       "{'batch_size': 500, 'neurons': [150, 75, 30], 'opt': 'adam'}"
      ]
     },
     "execution_count": 197,
     "metadata": {},
     "output_type": "execute_result"
    }
   ],
   "source": [
    "grid_result.best_params_"
   ]
  },
  {
   "cell_type": "code",
   "execution_count": 198,
   "id": "b3b9c0cb",
   "metadata": {},
   "outputs": [
    {
     "data": {
      "text/plain": [
       "0.8281166672706604"
      ]
     },
     "execution_count": 198,
     "metadata": {},
     "output_type": "execute_result"
    }
   ],
   "source": [
    "grid_result.best_score_"
   ]
  },
  {
   "cell_type": "code",
   "execution_count": 199,
   "id": "a543e693",
   "metadata": {},
   "outputs": [],
   "source": [
    "final_model = Sequential()"
   ]
  },
  {
   "cell_type": "code",
   "execution_count": 200,
   "id": "b62b133c",
   "metadata": {
    "scrolled": true
   },
   "outputs": [
    {
     "name": "stdout",
     "output_type": "stream",
     "text": [
      "Epoch 1/20\n",
      "96/96 [==============================] - 1s 10ms/step - loss: 3.3689 - accuracy: 0.6332 - val_loss: 1.4157 - val_accuracy: 0.7478\n",
      "Epoch 2/20\n",
      "96/96 [==============================] - 1s 9ms/step - loss: 1.1581 - accuracy: 0.7612 - val_loss: 0.9944 - val_accuracy: 0.7724\n",
      "Epoch 3/20\n",
      "96/96 [==============================] - 1s 9ms/step - loss: 0.9069 - accuracy: 0.7874 - val_loss: 0.8202 - val_accuracy: 0.7986\n",
      "Epoch 4/20\n",
      "96/96 [==============================] - 1s 9ms/step - loss: 0.8079 - accuracy: 0.7973 - val_loss: 0.7430 - val_accuracy: 0.8095\n",
      "Epoch 5/20\n",
      "96/96 [==============================] - 1s 9ms/step - loss: 0.7430 - accuracy: 0.8076 - val_loss: 0.7411 - val_accuracy: 0.7973\n",
      "Epoch 6/20\n",
      "96/96 [==============================] - 1s 9ms/step - loss: 0.7085 - accuracy: 0.8120 - val_loss: 0.6758 - val_accuracy: 0.8155\n",
      "Epoch 7/20\n",
      "96/96 [==============================] - 1s 9ms/step - loss: 0.6750 - accuracy: 0.8178 - val_loss: 0.6562 - val_accuracy: 0.8209\n",
      "Epoch 8/20\n",
      "96/96 [==============================] - 1s 9ms/step - loss: 0.6511 - accuracy: 0.8225 - val_loss: 0.6438 - val_accuracy: 0.8251\n",
      "Epoch 9/20\n",
      "96/96 [==============================] - 1s 9ms/step - loss: 0.6560 - accuracy: 0.8189 - val_loss: 0.6832 - val_accuracy: 0.8163\n",
      "Epoch 10/20\n",
      "96/96 [==============================] - 1s 9ms/step - loss: 0.6366 - accuracy: 0.8251 - val_loss: 0.6209 - val_accuracy: 0.8278\n",
      "Epoch 11/20\n",
      "96/96 [==============================] - 1s 10ms/step - loss: 0.6133 - accuracy: 0.8290 - val_loss: 0.6791 - val_accuracy: 0.7903\n",
      "Epoch 12/20\n",
      "96/96 [==============================] - 1s 12ms/step - loss: 0.6100 - accuracy: 0.8289 - val_loss: 0.6038 - val_accuracy: 0.8305\n",
      "Epoch 13/20\n",
      "96/96 [==============================] - 1s 15ms/step - loss: 0.5989 - accuracy: 0.8333 - val_loss: 0.5907 - val_accuracy: 0.8353\n",
      "Epoch 14/20\n",
      "96/96 [==============================] - 2s 17ms/step - loss: 0.5887 - accuracy: 0.8328 - val_loss: 0.5989 - val_accuracy: 0.8298\n",
      "Epoch 15/20\n",
      "96/96 [==============================] - 1s 14ms/step - loss: 0.5774 - accuracy: 0.8378 - val_loss: 0.5871 - val_accuracy: 0.8301\n",
      "Epoch 16/20\n",
      "96/96 [==============================] - 1s 13ms/step - loss: 0.5723 - accuracy: 0.8377 - val_loss: 0.5682 - val_accuracy: 0.8411\n",
      "Epoch 17/20\n",
      "96/96 [==============================] - 2s 17ms/step - loss: 0.5825 - accuracy: 0.8349 - val_loss: 0.5820 - val_accuracy: 0.8352\n",
      "Epoch 18/20\n",
      "96/96 [==============================] - 1s 15ms/step - loss: 0.5662 - accuracy: 0.8400 - val_loss: 0.5700 - val_accuracy: 0.8351\n",
      "Epoch 19/20\n",
      "96/96 [==============================] - 1s 15ms/step - loss: 0.5697 - accuracy: 0.8380 - val_loss: 0.5922 - val_accuracy: 0.8273\n",
      "Epoch 20/20\n",
      "96/96 [==============================] - 1s 15ms/step - loss: 0.5612 - accuracy: 0.8397 - val_loss: 0.5913 - val_accuracy: 0.8301\n"
     ]
    }
   ],
   "source": [
    "final_model.add(Dense(units=150, input_dim=784, kernel_regularizer=l1(0.001)))  \n",
    "final_model.add(Activation('tanh'))\n",
    "\n",
    "final_model.add(Dense(units=75))\n",
    "final_model.add(Activation('tanh'))\n",
    "\n",
    "final_model.add(Dropout(0.2, seed=42))\n",
    "\n",
    "final_model.add(Dense(units=30))\n",
    "final_model.add(Activation('sigmoid'))\n",
    "    \n",
    "final_model.add(Dense(units=10)) \n",
    "final_model.add(Activation('softmax'))\n",
    "\n",
    "final_model.compile(loss='categorical_crossentropy', optimizer='adam', metrics=['accuracy'])\n",
    "\n",
    "final_history = final_model.fit(x, y, epochs=20, batch_size=500, validation_split=0.20)"
   ]
  },
  {
   "cell_type": "code",
   "execution_count": 201,
   "id": "bfe5c70b",
   "metadata": {},
   "outputs": [
    {
     "data": {
      "text/plain": [
       "<matplotlib.legend.Legend at 0x254fb911b80>"
      ]
     },
     "execution_count": 201,
     "metadata": {},
     "output_type": "execute_result"
    },
    {
     "data": {
      "image/png": "[encoded data removed]",
      "text/plain": [
       "<Figure size 432x288 with 1 Axes>"
      ]
     },
     "metadata": {
      "needs_background": "light"
     },
     "output_type": "display_data"
    }
   ],
   "source": [
    "plt.plot(final_history.history['loss'])\n",
    "plt.plot(final_history.history['val_loss'])\n",
    "plt.title('model loss')\n",
    "plt.xlabel('epoch')\n",
    "plt.ylabel('loss')\n",
    "plt.legend(['train','validation'], loc='upper left')"
   ]
  },
  {
   "cell_type": "code",
   "execution_count": 202,
   "id": "16ad773c",
   "metadata": {},
   "outputs": [
    {
     "data": {
      "text/plain": [
       "<matplotlib.legend.Legend at 0x254fb7739d0>"
      ]
     },
     "execution_count": 202,
     "metadata": {},
     "output_type": "execute_result"
    },
    {
     "data": {
      "image/png": "[encoded data removed]",
      "text/plain": [
       "<Figure size 432x288 with 1 Axes>"
      ]
     },
     "metadata": {
      "needs_background": "light"
     },
     "output_type": "display_data"
    }
   ],
   "source": [
    "plt.plot(final_history.history['accuracy'])\n",
    "plt.plot(final_history.history['val_accuracy'])\n",
    "plt.title('model accuracy')\n",
    "plt.xlabel('epoch')\n",
    "plt.ylabel('loss')\n",
    "plt.legend(['train','validation'], loc='upper left')"
   ]
  },
  {
   "cell_type": "code",
   "execution_count": 203,
   "id": "87dee99c",
   "metadata": {},
   "outputs": [
    {
     "data": {
      "text/plain": [
       "0.832"
      ]
     },
     "execution_count": 203,
     "metadata": {},
     "output_type": "execute_result"
    }
   ],
   "source": [
    "preds = final_model.predict(np.array(xtest))\n",
    "\n",
    "pred_classes = np.argmax(preds, axis=1)\n",
    "\n",
    "accuracy_score(ytest, pred_classes)"
   ]
  },
  {
   "cell_type": "code",
   "execution_count": null,
   "id": "e62a6910",
   "metadata": {},
   "outputs": [],
   "source": []
  },
  {
   "cell_type": "code",
   "execution_count": null,
   "id": "a52c6190",
   "metadata": {},
   "outputs": [],
   "source": []
  },
  {
   "cell_type": "code",
   "execution_count": null,
   "id": "a8dac1b1",
   "metadata": {},
   "outputs": [],
   "source": []
  },
  {
   "cell_type": "code",
   "execution_count": null,
   "id": "e6ca05d1",
   "metadata": {},
   "outputs": [],
   "source": []
  },
  {
   "cell_type": "code",
   "execution_count": null,
   "id": "bda0380b",
   "metadata": {},
   "outputs": [],
   "source": []
  },
  {
   "cell_type": "code",
   "execution_count": null,
   "id": "6967356e",
   "metadata": {},
   "outputs": [],
   "source": []
  },
  {
   "cell_type": "code",
   "execution_count": null,
   "id": "d0dee76b",
   "metadata": {},
   "outputs": [],
   "source": []
  },
  {
   "cell_type": "code",
   "execution_count": null,
   "id": "86f9570c",
   "metadata": {},
   "outputs": [],
   "source": []
  },
  {
   "cell_type": "code",
   "execution_count": null,
   "id": "52a38f76",
   "metadata": {},
   "outputs": [],
   "source": []
  },
  {
   "cell_type": "code",
   "execution_count": null,
   "id": "fd149268",
   "metadata": {},
   "outputs": [],
   "source": []
  },
  {
   "cell_type": "code",
   "execution_count": null,
   "id": "53a5385a",
   "metadata": {},
   "outputs": [],
   "source": []
  },
  {
   "cell_type": "code",
   "execution_count": null,
   "id": "a3dc6439",
   "metadata": {},
   "outputs": [],
   "source": []
  },
  {
   "cell_type": "code",
   "execution_count": null,
   "id": "968b2d15",
   "metadata": {},
   "outputs": [],
   "source": []
  },
  {
   "cell_type": "code",
   "execution_count": null,
   "id": "8887f0c7",
   "metadata": {},
   "outputs": [],
   "source": []
  },
  {
   "cell_type": "code",
   "execution_count": null,
   "id": "5dafce70",
   "metadata": {},
   "outputs": [],
   "source": []
  },
  {
   "cell_type": "code",
   "execution_count": null,
   "id": "2bdd4c8b",
   "metadata": {},
   "outputs": [],
   "source": []
  }
 ],
 "metadata": {
  "kernelspec": {
   "display_name": "Python 3",
   "language": "python",
   "name": "python3"
  },
  "language_info": {
   "codemirror_mode": {
    "name": "ipython",
    "version": 3
   },
   "file_extension": ".py",
   "mimetype": "text/x-python",
   "name": "python",
   "nbconvert_exporter": "python",
   "pygments_lexer": "ipython3",
   "version": "3.8.8"
  }
 },
 "nbformat": 4,
 "nbformat_minor": 5
}
